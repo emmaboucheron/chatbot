{
 "cells": [
  {
   "cell_type": "markdown",
   "metadata": {},
   "source": [
    "# Prédiction"
   ]
  },
  {
   "cell_type": "markdown",
   "metadata": {},
   "source": [
    "Ce calepin s'organise en plusieurs points :\n",
    "- on extrait de notre data frame un échantillon qui aura pour but d'apprendre le modèle et un autre qui aura pour but de tester si l'apprentissage réalisé à été bien fait\n",
    "- nettoyage basique des données et utilisation des stopwords francais courant\n",
    "- on vectorise nos données en utilisant le tf idf\n",
    "- on applique une méthode d'apprentissage, la regression logistique\n",
    "- on évalue la pertinence de nos résultats avec un score\n",
    "- on cherche à voir si ce score est significatif ( F test, courbe roc .......)"
   ]
  },
  {
   "cell_type": "code",
   "execution_count": 115,
   "metadata": {},
   "outputs": [],
   "source": [
    "#Importation des librairies utilisées\n",
    "import unicodedata \n",
    "import time\n",
    "import pandas as pd\n",
    "import numpy as np\n",
    "import random\n",
    "import nltk\n",
    "import collections\n",
    "import itertools\n",
    "import csv\n",
    "import warnings\n",
    "\n",
    "from sklearn.cross_validation import train_test_split\n",
    "from sklearn.decomposition import TruncatedSVD\n",
    "import matplotlib.pyplot as plt"
   ]
  },
  {
   "cell_type": "code",
   "execution_count": 116,
   "metadata": {},
   "outputs": [],
   "source": [
    "# Répertoire de travail\n",
    "DATA_DIR = \"C:\\Users\\PC de Laure\\Desktop\\chatbot-master\\chatbot-master\\INSA_wefight_data_clean.csv\"\n",
    "\n",
    "# Nom des fichiers\n",
    "training_reduit_path = DATA_DIR \n",
    "# Variable Globale\n",
    "HEADER_TEST = ['Question','Intent','BlockId', 'Action']\n",
    "HEADER_TRAIN =['Question','Intent','BlockId', 'Action']"
   ]
  },
  {
   "cell_type": "code",
   "execution_count": 117,
   "metadata": {},
   "outputs": [
    {
     "name": "stdout",
     "output_type": "stream",
     "text": [
      "Split Takes 0 s\n"
     ]
    },
    {
     "data": {
      "text/html": [
       "<div>\n",
       "<style scoped>\n",
       "    .dataframe tbody tr th:only-of-type {\n",
       "        vertical-align: middle;\n",
       "    }\n",
       "\n",
       "    .dataframe tbody tr th {\n",
       "        vertical-align: top;\n",
       "    }\n",
       "\n",
       "    .dataframe thead th {\n",
       "        text-align: right;\n",
       "    }\n",
       "</style>\n",
       "<table border=\"1\" class=\"dataframe\">\n",
       "  <thead>\n",
       "    <tr style=\"text-align: right;\">\n",
       "      <th></th>\n",
       "      <th>Question</th>\n",
       "      <th>Intent</th>\n",
       "      <th>BlockId</th>\n",
       "      <th>Action</th>\n",
       "    </tr>\n",
       "  </thead>\n",
       "  <tbody>\n",
       "    <tr>\n",
       "      <th>1602</th>\n",
       "      <td>Maman a le cancer du sein elle a fait c'est ch...</td>\n",
       "      <td>#2-59_QVDP_RadioT_Fatigue</td>\n",
       "      <td>59843e6be4b03f0d13179d44</td>\n",
       "      <td>wiki_cancer</td>\n",
       "    </tr>\n",
       "    <tr>\n",
       "      <th>85</th>\n",
       "      <td>jai ma cousine elle et malade</td>\n",
       "      <td>#1-5_Menu_Aidant</td>\n",
       "      <td>59932112e4b068eebad2ef7e</td>\n",
       "      <td>wiki_cancer</td>\n",
       "    </tr>\n",
       "    <tr>\n",
       "      <th>399</th>\n",
       "      <td>grossesse chimio allaitement</td>\n",
       "      <td>#2-115_QVDP_Grossesse_Allaitement</td>\n",
       "      <td>598d6f5fe4b03f0d40c062d3</td>\n",
       "      <td>wiki_cancer</td>\n",
       "    </tr>\n",
       "    <tr>\n",
       "      <th>273</th>\n",
       "      <td>Le traitement du cancer fait-il courir un risq...</td>\n",
       "      <td>#2-107_QVDP_Grossesse</td>\n",
       "      <td>598d6de3e4b03f0d40b7891f</td>\n",
       "      <td>wiki_cancer</td>\n",
       "    </tr>\n",
       "    <tr>\n",
       "      <th>3882</th>\n",
       "      <td>que faire en cas d'altération du goût</td>\n",
       "      <td>#6-90_TRTEINS_Mauvais_Gout</td>\n",
       "      <td>5993f112e4b068eebe2790af</td>\n",
       "      <td>wiki_cancer</td>\n",
       "    </tr>\n",
       "  </tbody>\n",
       "</table>\n",
       "</div>"
      ],
      "text/plain": [
       "                                               Question  \\\n",
       "1602  Maman a le cancer du sein elle a fait c'est ch...   \n",
       "85                        jai ma cousine elle et malade   \n",
       "399                        grossesse chimio allaitement   \n",
       "273   Le traitement du cancer fait-il courir un risq...   \n",
       "3882              que faire en cas d'altération du goût   \n",
       "\n",
       "                                 Intent                   BlockId       Action  \n",
       "1602          #2-59_QVDP_RadioT_Fatigue  59843e6be4b03f0d13179d44  wiki_cancer  \n",
       "85                     #1-5_Menu_Aidant  59932112e4b068eebad2ef7e  wiki_cancer  \n",
       "399   #2-115_QVDP_Grossesse_Allaitement  598d6f5fe4b03f0d40c062d3  wiki_cancer  \n",
       "273               #2-107_QVDP_Grossesse  598d6de3e4b03f0d40b7891f  wiki_cancer  \n",
       "3882         #6-90_TRTEINS_Mauvais_Gout  5993f112e4b068eebe2790af  wiki_cancer  "
      ]
     },
     "execution_count": 117,
     "metadata": {},
     "output_type": "execute_result"
    }
   ],
   "source": [
    "def split_dataset(input_path, nb_line, tauxValid,columns):\n",
    "    time_start = time.time()\n",
    "    data_all = pd.read_csv(input_path,sep=\";\",names=columns,nrows=nb_line) #cree data frame\n",
    "    data_all = data_all.fillna(\"\") #remplace les na par \" \"\n",
    "    data_train, data_valid = train_test_split(data_all, test_size = tauxValid) # Split arrays or matrices into random train and test subsets\n",
    "    time_end = time.time()\n",
    "    print(\"Split Takes %d s\" %(time_end-time_start))\n",
    "    return data_train, data_valid\n",
    "\n",
    "nb_line=20000  # part totale extraite du fichier initial ici déjà réduit\n",
    "tauxValid=0.10 # part totale extraite du fichier initial ici déjà réduit\n",
    "data_train, data_valid = split_dataset(training_reduit_path, nb_line, tauxValid, HEADER_TRAIN)\n",
    "data_train.head()"
   ]
  },
  {
   "cell_type": "code",
   "execution_count": 118,
   "metadata": {},
   "outputs": [],
   "source": [
    "# Librairies \n",
    "from bs4 import BeautifulSoup #Nettoyage d'HTML\n",
    "import re # Regex\n",
    "import nltk # Nettoyage des données\n",
    "\n",
    "## listes de mots à supprimer dans la description des produits\n",
    "## Depuis NLTK\n",
    "nltk_stopwords = nltk.corpus.stopwords.words('french') \n",
    "## Depuis Un fichier externe.\n",
    "lucene_stopwords = [unicode(w, \"utf-8\") for w in open(\"C:\\Users\\PC de Laure\\Desktop\\chatbot-master\\chatbot-master\\lucene_stopwords.txt\").read().split(\",\")] #En local\n",
    "\n",
    "## Union des deux fichiers de stopwords \n",
    "stopwords = list(set(nltk_stopwords).union(set(lucene_stopwords)))\n",
    "\n",
    "## Fonction de setmming de stemming permettant la racinisation\n",
    "stemmer=nltk.stem.SnowballStemmer('french')"
   ]
  },
  {
   "cell_type": "code",
   "execution_count": 119,
   "metadata": {},
   "outputs": [],
   "source": [
    "# Fonction clean générale\n",
    "def clean_txt(txt):\n",
    "    ### remove html stuff\n",
    "    txt = BeautifulSoup(txt,\"html.parser\",from_encoding='utf-8').get_text() #nettoyage donnee html\n",
    "    ### lower case\n",
    "    txt = txt.lower()\n",
    "    ### special escaping character '...'\n",
    "    txt = txt.replace(u'\\u2026','.')\n",
    "    txt = txt.replace(u'\\u00a0',' ')\n",
    "    ### remove accent btw\n",
    "    txt = unicodedata.normalize('NFD', txt).encode('ascii', 'ignore')\n",
    "    ###txt = unidecode(txt)\n",
    "    ### remove non alphanumeric char\n",
    "    txt = re.sub('[^a-z_]', ' ', txt)\n",
    "    ### remove french stop words\n",
    "    tokens = [w for w in txt.split() if (len(w)>2) and (w not in stopwords)]\n",
    "    ### french stemming\n",
    "    tokens = [stemmer.stem(token) for token in tokens]\n",
    "    #Stemmers remove morphological affixes from words, leaving only the word stem\n",
    "    ### tokens = stemmer.stemWords(tokens)\n",
    "    return ' '.join(tokens)\n",
    "    #join() returns a string in which the string elements of sequence have been joined by str separator.\n",
    "\n",
    "def clean_marque(txt):\n",
    "    txt = re.sub('[^a-zA-Z0-9]', '_', txt).lower()\n",
    "    return txt"
   ]
  },
  {
   "cell_type": "code",
   "execution_count": 177,
   "metadata": {},
   "outputs": [],
   "source": [
    "# fonction de nettoyage du fichier(stemming et liste de mots à supprimer)\n",
    "def clean_df(input_data, column_names= ['Question','Intent','BlockId', 'Action']):\n",
    "    #Test if columns entry match columns names of input data\n",
    "    column_names_diff= set(column_names).difference(set(input_data.columns))\n",
    "    #set.difference   new set with elements in column_names but not in input_data.columns\n",
    "    \n",
    "    if column_names_diff: #rentre dans la boucle si column_names différent zero\n",
    "        # warning = exception\n",
    "        warnings.warn(\"Column(s) '\"+\", \".join(list(column_names_diff)) +\"' do(es) not match columns of input data\", Warning)\n",
    "        \n",
    "    nb_line = input_data.shape[0]\n",
    "    print(\"Start Clean %d lines\" %nb_line)\n",
    "    \n",
    "    # Cleaning start for each columns\n",
    "    time_start = time.time()\n",
    "    clean_list=[]\n",
    "    for column_name in column_names:\n",
    "        column = input_data[column_name].values\n",
    "        if column_name == \"Question\":\n",
    "            array_clean = np.array(map(clean_txt,column))\n",
    "            \n",
    "        elif column_name == \"Intent\":\n",
    "            array_clean = np.asarray(input_data['Intent']) #on recopie telle quelle la colonne intent  \n",
    "            \n",
    "        else:\n",
    "            array_clean = np.array(map(clean_marque,column))\n",
    "            #applies a function to all the items in an input_list\n",
    "            #map(function_to_apply, list_of_inputs)\n",
    "        clean_list.append(array_clean)\n",
    "    time_end = time.time()\n",
    "    print(\"Cleaning time: %d secondes\"%(time_end-time_start))\n",
    "    \n",
    "    #Convert list to DataFrame\n",
    "    array_clean = np.array(clean_list).T\n",
    "    data_clean = pd.DataFrame(array_clean, columns = column_names)\n",
    "    return data_clean"
   ]
  },
  {
   "cell_type": "code",
   "execution_count": 183,
   "metadata": {},
   "outputs": [
    {
     "name": "stdout",
     "output_type": "stream",
     "text": [
      "Start Clean 502 lines\n",
      "Cleaning time: 0 secondes\n",
      "Start Clean 4511 lines\n",
      "Cleaning time: 5 secondes\n",
      "<class 'pandas.core.frame.DataFrame'>\n"
     ]
    }
   ],
   "source": [
    "# Take approximately 2 minutes fors 100.000 rows\n",
    "data_valid_clean = clean_df(data_valid)\n",
    "data_train_clean = clean_df(data_train)"
   ]
  },
  {
   "cell_type": "code",
   "execution_count": 122,
   "metadata": {},
   "outputs": [],
   "source": [
    "#data_valid_clean"
   ]
  },
  {
   "cell_type": "code",
   "execution_count": 123,
   "metadata": {},
   "outputs": [],
   "source": [
    "from sklearn.feature_extraction.text import TfidfVectorizer, TfidfTransformer\n",
    "from sklearn.feature_extraction import FeatureHasher"
   ]
  },
  {
   "cell_type": "code",
   "execution_count": 124,
   "metadata": {},
   "outputs": [],
   "source": [
    "def vectorizer_train(df,column):\n",
    "    col = df[column]\n",
    "    # TFIDF\n",
    "    vec = TfidfVectorizer(\n",
    "            min_df = 1, #on prend tous les mots\n",
    "            stop_words =stopwords,\n",
    "            smooth_idf=True,\n",
    "            norm='l2',\n",
    "            sublinear_tf=True,\n",
    "            use_idf=True, #tf avec idf\n",
    "            ngram_range=(1,1)) \n",
    "    tfidf=vec.fit_transform(col)\n",
    "    return vec,tfidf\n",
    "\n",
    "def apply_vectorizer(df, vec, columns):\n",
    "    \n",
    "    data_hash = map(lambda x : \" \".join(x), df[columns].values)  \n",
    "    tfidf=vec.transform(df[columns])\n",
    "\n",
    "    # TFIDF\n",
    "    #tfidf=vec.transform(df)\n",
    "    return tfidf"
   ]
  },
  {
   "cell_type": "markdown",
   "metadata": {},
   "source": [
    "# prediction"
   ]
  },
  {
   "cell_type": "markdown",
   "metadata": {},
   "source": [
    "Data_train est le jeux de donnée ou l'on fait l'apprentissage, X est composé des questions. Y est le jeux de donnée d'apprentissage comprendant les labels\n",
    "\n",
    "data_valid_clean contient un échantillon de test qui consiste à valider le modele ou non,Xv est composé des questions et Yv des labels.\n"
   ]
  },
  {
   "cell_type": "code",
   "execution_count": 160,
   "metadata": {},
   "outputs": [],
   "source": [
    "vec,X = vectorizer_train(data_train_clean,\"Question\")\n",
    "Y = data_train_clean[\"Intent\"].values #les étiquettes : les catégories\n",
    "Xv = apply_vectorizer(data_valid_clean,vec,\"Question\")\n",
    "Yv = data_valid_clean[\"Intent\"].values\n"
   ]
  },
  {
   "cell_type": "markdown",
   "metadata": {},
   "source": [
    "Regression logistique, pour faire apprendre au modele, on se sert alors de X et Y. Le training score est la comparaison des labels appris avec les vrai labels de X"
   ]
  },
  {
   "cell_type": "code",
   "execution_count": 294,
   "metadata": {},
   "outputs": [
    {
     "name": "stdout",
     "output_type": "stream",
     "text": [
      "('# training score:', 0.7969408113500333)\n"
     ]
    }
   ],
   "source": [
    "# Regression Logistique \n",
    "## estimation\n",
    "from sklearn.linear_model import LogisticRegression\n",
    "#si on augmente C, on augmente bcp le score\n",
    "cla = LogisticRegression(penalty='l2', dual=False, tol=0.0001, C=1, fit_intercept=True,\n",
    "                          intercept_scaling=1, class_weight=None, random_state=None, solver='liblinear',\n",
    "                          max_iter=100, multi_class='ovr', verbose=0, warm_start=False, n_jobs=1)\n",
    "cla.fit(X,Y)\n",
    "score=cla.score(X,Y)\n",
    "Y_predict = cla.predict(X)\n",
    "                \n",
    "print('# training score:',score)"
   ]
  },
  {
   "cell_type": "markdown",
   "metadata": {
    "collapsed": true
   },
   "source": [
    "On compare l'apprentissage au modele de validation, c'est validation score"
   ]
  },
  {
   "cell_type": "code",
   "execution_count": 295,
   "metadata": {},
   "outputs": [
    {
     "name": "stdout",
     "output_type": "stream",
     "text": [
      "('# validation score:', 0.6414342629482072)\n"
     ]
    }
   ],
   "source": [
    "## erreur en validation\n",
    "scoreValidation=cla.score(Xv,Yv)\n",
    "predict_v = cla.predict(Xv)\n",
    "##probleme car tfidf et Xv pas le même nbre de colonne \n",
    "print('# validation score:',scoreValidation)"
   ]
  },
  {
   "cell_type": "code",
   "execution_count": 296,
   "metadata": {},
   "outputs": [
    {
     "data": {
      "text/plain": [
       "array(['#9-2_Informations_cancer', '#2-64-0_QVDP_Fatigue',\n",
       "       '#2-36_QVDP_Alopecie_Pourquoi', '#6-60_TRTEINS_PAC',\n",
       "       '#2-48_QVDP_Alopecie_RbPerruque', '#9-2_Informations_cancer',\n",
       "       '#9-2_Informations_cancer', '#6-86_TRTEINS_Chirurgie_Reeducation',\n",
       "       '#2-55_QVDP_Douleur', '#6-41_TRTEINS_ManchonLymphodeme',\n",
       "       '#2-125_QVDP_Sexualite_Reconstruction', '#2-55_QVDP_Douleur',\n",
       "       'Conversation_rappel_read', '#6-67_TRTEINS_Chirurgie_Questions',\n",
       "       '#2-130_QVDP_Alimentation', '#2-87_QVDP_Fertilite',\n",
       "       '#6-1_TRTEINS_Chimiotherapie', '#2-47_QVDP_Alopecie_CoutPerruque',\n",
       "       '#2-36_QVDP_Alopecie_Pourquoi',\n",
       "       '#2-125_QVDP_Sexualite_Reconstruction', '#6-49_TRTEINS_Peau',\n",
       "       '#6-60_TRTEINS_PAC', 'Profile_read', '#6-49_TRTEINS_Peau',\n",
       "       'conversation_rappel_rendezvous', '#6-93_TRTEINS_Mauvaise_Haleine',\n",
       "       '#6-92_TRTEINS_Diarrhee', '#6-1_TRTEINS_Chimiotherapie',\n",
       "       '#6-58_TRTEINS_Bouche_Seche', '#6-53_TRTEINS_Aphtes',\n",
       "       '#6-92_TRTEINS_Diarrhee', '#6-96_TRTEINS_Perte_Poids',\n",
       "       '#6-41_TRTEINS_ManchonLymphodeme', '#6-34_TRTEINS_Lymphoedeme',\n",
       "       '#2-36_QVDP_Alopecie_Pourquoi', '#9-2_Informations_cancer',\n",
       "       '#2-135_QVDP_Alimentation_Alcool', '#9-2_Informations_cancer',\n",
       "       '#2-55_QVDP_Douleur', '#2-36_QVDP_Alopecie_Pourquoi',\n",
       "       'conversation_rappel_rendezvous', '#2-130_QVDP_Alimentation',\n",
       "       '#6-73_TRTEINS_Chirurgie_Mastectomie', '#6-60_TRTEINS_PAC',\n",
       "       '#2-64-0_QVDP_Fatigue', '#6-60_TRTEINS_PAC',\n",
       "       '#2-134_QVDP_Alimentation_Citron', '#5-37_Soutien_Psychologique',\n",
       "       '#2-121_QVDP_Sexualite_Cicatrice', '#6-49_TRTEINS_Peau',\n",
       "       '#6-92_TRTEINS_Diarrhee',\n",
       "       '#2-84_QVDP_Fertilite_GrossesseApresCancer',\n",
       "       '#2-48_QVDP_Alopecie_RbPerruque', '#6-53_TRTEINS_Aphtes',\n",
       "       '#2-36_QVDP_Alopecie_Pourquoi', '#6-93_TRTEINS_Mauvaise_Haleine',\n",
       "       '#2-73_QVDP_Sport', '#6-24_TRTEINS_hormonotherapie',\n",
       "       '#2-73_QVDP_Sport', '#2-103_QVDP_Social_Banque',\n",
       "       '#2-120_QVDP_Sexualite', '#6-40_TRTEINS_PressotherapieLymphodeme',\n",
       "       '#2-90_QVDP_Fertilite_Ponction', '#2-36_QVDP_Alopecie_Pourquoi',\n",
       "       '#2-87_QVDP_Fertilite', '#6-49_TRTEINS_Peau',\n",
       "       'Conversation_rappel_read', '#6-73_TRTEINS_Chirurgie_Mastectomie',\n",
       "       '#8-8_DDP_Fin_de_vie', '#2-72_QVDP_Fatigue_Sieste',\n",
       "       '#6-98_TRTEINS_EI_Frequents', '#6-18_TRTEINS_Radiotherapie',\n",
       "       '#9-2_Informations_cancer', '#6-49_TRTEINS_Peau',\n",
       "       '#2-72_QVDP_Fatigue_Sieste', '#6-60_TRTEINS_PAC',\n",
       "       '#6-41_TRTEINS_ManchonLymphodeme', '#001_Gestion_Abonnement',\n",
       "       '#6-83_TRTEINS_Prothese', '#1-5_Menu_Aidant',\n",
       "       '#9-20_Informations_Stades', '#6-24_TRTEINS_hormonotherapie',\n",
       "       'Conversation_rappel_read', '#2-55_QVDP_Douleur',\n",
       "       '#6-49_TRTEINS_Peau', '#6-92_TRTEINS_Diarrhee',\n",
       "       '#6-96_TRTEINS_Perte_Poids', '#2-36_QVDP_Alopecie_Pourquoi',\n",
       "       '#9-2_Informations_cancer', '#2-107_QVDP_Grossesse',\n",
       "       '#2-133_QVDP_RegimeAnticancer', '#5-37_Soutien_Psychologique',\n",
       "       '#2-55_QVDP_Douleur', '#6-53_TRTEINS_Aphtes',\n",
       "       '#6-1_TRTEINS_Chimiotherapie', '#2-47_QVDP_Alopecie_CoutPerruque',\n",
       "       '#6-49_TRTEINS_Peau', '#6-57_TRTEINS_Yeux_Secs',\n",
       "       '#6-73_TRTEINS_Chirurgie_Mastectomie', '#2-87_QVDP_Fertilite',\n",
       "       '#9-2_Informations_cancer', '#6-24_TRTEINS_hormonotherapie',\n",
       "       '#1-5_Menu_Aidant', '#6-72_TRTEINS_Chirurgie_Cicatrice',\n",
       "       '#2-96_QVDP_Social_Priseencharge', '#6-90_TRTEINS_Mauvais_Gout',\n",
       "       '#2-90_QVDP_Fertilite_Ponction', '#6-60_TRTEINS_PAC',\n",
       "       '#2-48_QVDP_Alopecie_RbPerruque', '#6-92_TRTEINS_Diarrhee',\n",
       "       '#9-53_Informations_depistagesein', '#6-18_TRTEINS_Radiotherapie',\n",
       "       'conversation_rappel_rendezvous',\n",
       "       '#6-31_TRTEINS_Effetsecondaireshormonotherapie',\n",
       "       '#6-93_TRTEINS_Mauvaise_Haleine', '#6-64_TRTEINS_PAC_Risques',\n",
       "       '#2-107_QVDP_Grossesse', '#6-49_TRTEINS_Peau',\n",
       "       '#6-49_TRTEINS_Peau', '#2-115_QVDP_Grossesse_Allaitement',\n",
       "       '#6-95_TRTEINS_Perte_Appetit',\n",
       "       '#6-73_TRTEINS_Chirurgie_Mastectomie', '#6-83_TRTEINS_Prothese',\n",
       "       '#2-64-0_QVDP_Fatigue', '#2-64-0_QVDP_Fatigue',\n",
       "       '#9-2_Informations_cancer', '#6-49_TRTEINS_Peau',\n",
       "       '#5-37_Soutien_Psychologique', '#6-90_TRTEINS_Mauvais_Gout',\n",
       "       '#6-96_TRTEINS_Perte_Poids', '#6-92_TRTEINS_Diarrhee',\n",
       "       '#6-49_TRTEINS_Peau', '#6-93_TRTEINS_Mauvaise_Haleine',\n",
       "       '#6-98_TRTEINS_EI_Frequents', '#2-36_QVDP_Alopecie_Pourquoi',\n",
       "       '#6-49_TRTEINS_Peau', '#6-97_TRTEINS_Nausees_Vomissements',\n",
       "       '#2-45_QVDP_Alopecie_Perruque', '#6-49_TRTEINS_Peau',\n",
       "       '#6-18_TRTEINS_Radiotherapie',\n",
       "       '#6-40_TRTEINS_PressotherapieLymphodeme',\n",
       "       '#6-24_TRTEINS_hormonotherapie', '#6-1_TRTEINS_Chimiotherapie',\n",
       "       '#9-53_Informations_depistagesein', '#2-53_QVDP_Cils',\n",
       "       '#2-130_QVDP_Alimentation', '#6-60_TRTEINS_PAC',\n",
       "       '#2-120_QVDP_Sexualite', '#6-65_TRTEINS_Chirurgie',\n",
       "       '#2-107_QVDP_Grossesse', '#8-6_DDP_Consentement_eclaire',\n",
       "       '#2-72_QVDP_Fatigue_Sieste', '#2-55_QVDP_Douleur',\n",
       "       '#6-49_TRTEINS_Peau', '#2-87_QVDP_Fertilite',\n",
       "       '#9-20_Informations_Stades', '#2-128_QVDP_Sexualite_Couple',\n",
       "       'Conversation_rappel_update2', '#6-60_TRTEINS_PAC',\n",
       "       '#6-6_TRTEINS_ChimioOrale', '#2-36_QVDP_Alopecie_Pourquoi',\n",
       "       '#6-18_TRTEINS_Radiotherapie', '#2-70_QVDP_Fatigue_Diminuer',\n",
       "       '#6-58_TRTEINS_Bouche_Seche', '#2-130_QVDP_Alimentation',\n",
       "       '#6-95_TRTEINS_Perte_Appetit', '#9-2_Informations_cancer',\n",
       "       '#6-97_TRTEINS_Nausees_Vomissements', '#2-73_QVDP_Sport',\n",
       "       '#6-57_TRTEINS_Yeux_Secs', '#2-45_QVDP_Alopecie_Perruque',\n",
       "       '#9-20_Informations_Stades', '#6-1_TRTEINS_Chimiotherapie',\n",
       "       '#6-73_TRTEINS_Chirurgie_Mastectomie', '#6-49_TRTEINS_Peau',\n",
       "       '#6-92_TRTEINS_Diarrhee', '#6-1_TRTEINS_Chimiotherapie',\n",
       "       '#6-97_TRTEINS_Nausees_Vomissements',\n",
       "       '#2-45_QVDP_Alopecie_Perruque', '#2-103_QVDP_Social_Banque',\n",
       "       '#2-73_QVDP_Sport', '#6-12_TRTEINS_ChimioAmbulatoire',\n",
       "       '#2-130_QVDP_Alimentation', '#6-97_TRTEINS_Nausees_Vomissements',\n",
       "       '#6-90_TRTEINS_Mauvais_Gout', '#2-96_QVDP_Social_Priseencharge',\n",
       "       '#2-107_QVDP_Grossesse', '#6-96_TRTEINS_Perte_Poids',\n",
       "       '#6-1_TRTEINS_Chimiotherapie', '#6-65_TRTEINS_Chirurgie',\n",
       "       '#6-18_TRTEINS_Radiotherapie', '#6-98_TRTEINS_EI_Frequents',\n",
       "       '#2-55_QVDP_Douleur', 'conversation_rappel_rendezvous',\n",
       "       '#6-58_TRTEINS_Bouche_Seche', '#6-60_TRTEINS_PAC',\n",
       "       '#6-24_TRTEINS_hormonotherapie', '#6-24_TRTEINS_hormonotherapie',\n",
       "       '#2-64-0_QVDP_Fatigue', '#2-45_QVDP_Alopecie_Perruque',\n",
       "       '#2-73_QVDP_Sport', '#2-96_QVDP_Social_Priseencharge',\n",
       "       '#2-38_QVDP_Alopecie_Repousse', '#6-49_TRTEINS_Peau',\n",
       "       '#2-55_QVDP_Douleur', '#6-60_TRTEINS_PAC',\n",
       "       '#2-130_QVDP_Alimentation', '#2-55_QVDP_Douleur',\n",
       "       '#6-58_TRTEINS_Bouche_Seche', '#6-49_TRTEINS_Peau',\n",
       "       '#2-130_QVDP_Alimentation', '#2-120_QVDP_Sexualite',\n",
       "       '#2-87_QVDP_Fertilite', '#2-48_QVDP_Alopecie_RbPerruque',\n",
       "       '#2-73_QVDP_Sport', '#2-55_QVDP_Douleur',\n",
       "       '#6-98_TRTEINS_EI_Frequents', '#2-64-0_QVDP_Fatigue',\n",
       "       '#6-49_TRTEINS_Peau', '#6-57_TRTEINS_Yeux_Secs',\n",
       "       '#6-92_TRTEINS_Diarrhee', '#6-1_TRTEINS_Chimiotherapie',\n",
       "       '#2-48_QVDP_Alopecie_RbPerruque', '#6-53_TRTEINS_Aphtes',\n",
       "       '#2-130_QVDP_Alimentation', 'conversation_rappel_rendezvous',\n",
       "       '#9-2_Informations_cancer', '#6-13_TRTEINS_PreparationChimio',\n",
       "       '#2-130_QVDP_Alimentation', '#6-93_TRTEINS_Mauvaise_Haleine',\n",
       "       '#6-92_TRTEINS_Diarrhee', '#2-115_QVDP_Grossesse_Allaitement',\n",
       "       '#6-49_TRTEINS_Peau', '#6-58_TRTEINS_Bouche_Seche',\n",
       "       '#9-2_Informations_cancer', '#2-45_QVDP_Alopecie_Perruque',\n",
       "       '#6-97_TRTEINS_Nausees_Vomissements', 'Conversation_rappel_read',\n",
       "       '#6-67_TRTEINS_Chirurgie_Questions',\n",
       "       '#2-84_QVDP_Fertilite_GrossesseApresCancer',\n",
       "       '#9-2_Informations_cancer', 'Profile_read', '#6-49_TRTEINS_Peau',\n",
       "       '#6-96_TRTEINS_Perte_Poids', '#2-73_QVDP_Sport',\n",
       "       '#2-64-0_QVDP_Fatigue', '#2-42_QVDP_Alopecie_Casque',\n",
       "       '#9-2_Informations_cancer', '#2-107_QVDP_Grossesse',\n",
       "       '#6-18_TRTEINS_Radiotherapie', '#6-24_TRTEINS_hormonotherapie',\n",
       "       '#2-107_QVDP_Grossesse', '#6-49_TRTEINS_Peau',\n",
       "       '#6-93_TRTEINS_Mauvaise_Haleine', '#6-49_TRTEINS_Peau',\n",
       "       '#2-55_QVDP_Douleur', '#6-18_TRTEINS_Radiotherapie',\n",
       "       '#2-122_QVDP_Sexualite_Alopecie', '#6-1_TRTEINS_Chimiotherapie',\n",
       "       '#6-24_TRTEINS_hormonotherapie', '#6-60_TRTEINS_PAC',\n",
       "       '#6-24_TRTEINS_hormonotherapie', '#2-41_QVDP_Alopecie_Diminuer',\n",
       "       '#7-58_Recidive', '#9-2_Informations_cancer',\n",
       "       '#2-128_QVDP_Sexualite_Couple', '#2-107_QVDP_Grossesse',\n",
       "       '#2-96_QVDP_Social_Priseencharge',\n",
       "       '#6-97_TRTEINS_Nausees_Vomissements', '#1-5_Menu_Aidant',\n",
       "       '#6-53_TRTEINS_Aphtes', '#9-2_Informations_cancer',\n",
       "       '#6-34_TRTEINS_Lymphoedeme', '#2-55_QVDP_Douleur',\n",
       "       '#6-92_TRTEINS_Diarrhee', '#6-64_TRTEINS_PAC_Risques',\n",
       "       '#9-2_Informations_cancer', '#6-49_TRTEINS_Peau',\n",
       "       '#2-130_QVDP_Alimentation', '#2-130_QVDP_Alimentation',\n",
       "       '#2-53_QVDP_Cils', '#6-95_TRTEINS_Perte_Appetit',\n",
       "       '#6-96_TRTEINS_Perte_Poids', '#6-53_TRTEINS_Aphtes',\n",
       "       '#2-36_QVDP_Alopecie_Pourquoi',\n",
       "       '#6-9_TRTEINS_ChimioIntraperitoneale',\n",
       "       '#6-18_TRTEINS_Radiotherapie', '#2-130_QVDP_Alimentation',\n",
       "       '#6-34_TRTEINS_Lymphoedeme', '#6-97_TRTEINS_Nausees_Vomissements',\n",
       "       '#6-53_TRTEINS_Aphtes', '#7-58_Recidive',\n",
       "       '#6-73_TRTEINS_Chirurgie_Curage_axillaire',\n",
       "       '#9-53_Informations_depistagesein', '#2-64-0_QVDP_Fatigue',\n",
       "       '#6-41_TRTEINS_ManchonLymphodeme', '#1-5_Menu_Aidant',\n",
       "       'conversation_rappel_rendezvous', '#2-42_QVDP_Alopecie_Casque',\n",
       "       '#6-57_TRTEINS_Yeux_Secs', '#6-98_TRTEINS_EI_Frequents',\n",
       "       '#6-49_TRTEINS_Peau', '#6-90_TRTEINS_Mauvais_Gout',\n",
       "       '#2-53_QVDP_Cils', '#2-36_QVDP_Alopecie_Pourquoi',\n",
       "       '#6-49_TRTEINS_Peau', '#2-36_QVDP_Alopecie_Pourquoi',\n",
       "       '#6-24_TRTEINS_hormonotherapie', '#7-52_Remission',\n",
       "       '#6-98_TRTEINS_EI_Frequents', '#2-130_QVDP_Alimentation',\n",
       "       '#6-34_TRTEINS_Lymphoedeme', '#6-60_TRTEINS_PAC',\n",
       "       '#2-45_QVDP_Alopecie_Perruque', '#6-49_TRTEINS_Peau',\n",
       "       '#6-18_TRTEINS_Radiotherapie', '#2-58_QVDP_RadioT_Eff',\n",
       "       '#2-79_QVDP_SportQuel', '#6-60_TRTEINS_PAC',\n",
       "       '#9-2_Informations_cancer', '#2-96_QVDP_Social_Priseencharge',\n",
       "       '#6-31_TRTEINS_Effetsecondaireshormonotherapie',\n",
       "       '#6-24_TRTEINS_hormonotherapie', '#2-45_QVDP_Alopecie_Perruque',\n",
       "       '#2-49_QVDP_Alopecie_OuPerruque', '#6-1_TRTEINS_Chimiotherapie',\n",
       "       '#6-34_TRTEINS_Lymphoedeme', '#6-49_TRTEINS_Peau',\n",
       "       '#9-2_Informations_cancer', '#6-49_TRTEINS_Peau',\n",
       "       '#2-123_QVDP_Sexualite_Prothese', '#6-53_TRTEINS_Aphtes',\n",
       "       '#5-37_Soutien_Psychologique', '#2-130_QVDP_Alimentation',\n",
       "       '#6-65_TRTEINS_Chirurgie', '#2-49_QVDP_Alopecie_OuPerruque',\n",
       "       '#6-49_TRTEINS_Peau', '#6-1_TRTEINS_Chimiotherapie',\n",
       "       '#6-98_TRTEINS_EI_Frequents', '#6-92_TRTEINS_Diarrhee',\n",
       "       '#9-2_Informations_cancer', '#5-37_Soutien_Psychologique',\n",
       "       '#6-31_TRTEINS_Effetsecondaireshormonotherapie',\n",
       "       '#6-49_TRTEINS_Peau', '#2-52_QVDP_Ongles',\n",
       "       '#6-95_TRTEINS_Perte_Appetit', '#6-23_TRTEINS_SeanceRadiotherapie',\n",
       "       '#6-98_TRTEINS_EI_Frequents',\n",
       "       '#6-73_TRTEINS_Chirurgie_Mastectomie',\n",
       "       '#6-24_TRTEINS_hormonotherapie', '#6-24_TRTEINS_hormonotherapie',\n",
       "       '#6-1_TRTEINS_Chimiotherapie', '#9-2_Informations_cancer',\n",
       "       '#5-37_Soutien_Psychologique', '#6-60_TRTEINS_PAC',\n",
       "       '#2-97_QVDP_ResteACharge', '#2-53_QVDP_Cils',\n",
       "       '#2-130_QVDP_Alimentation', '#6-92_TRTEINS_Diarrhee',\n",
       "       '#6-49_TRTEINS_Peau', '#001_Gestion_Abonnement',\n",
       "       '#6-49_TRTEINS_Peau', '#9-53_Informations_depistagesein',\n",
       "       '#6-58_TRTEINS_Bouche_Seche', '#9-53_Informations_depistagesein',\n",
       "       '#2-36_QVDP_Alopecie_Pourquoi', '#6-1_TRTEINS_Chimiotherapie',\n",
       "       '#6-49_TRTEINS_Peau', '#6-49_TRTEINS_Peau',\n",
       "       '#2-130_QVDP_Alimentation', '#2-55_QVDP_Douleur',\n",
       "       '#2-55_QVDP_Douleur', '#7-52_Remission',\n",
       "       '#6-58_TRTEINS_Bouche_Seche', '#1-8_Menu_Traitement',\n",
       "       '#6-49_TRTEINS_Peau', '#6-93_TRTEINS_Mauvaise_Haleine',\n",
       "       '#6-92_TRTEINS_Diarrhee', '#2-133_QVDP_RegimeAnticancer',\n",
       "       '#6-83_TRTEINS_Prothese', '#2-96_QVDP_Social_Priseencharge',\n",
       "       '#2-109_QVDP_Grossesse_Chimiotherapie', '#2-130_QVDP_Alimentation',\n",
       "       '#6-1_TRTEINS_Chimiotherapie', 'conversation_rappel_rendezvous',\n",
       "       '#9-2_Informations_cancer', '#2-121_QVDP_Sexualite_Cicatrice',\n",
       "       '#2-128_QVDP_Sexualite_Couple',\n",
       "       '#6-23_TRTEINS_SeanceRadiotherapie', '#2-107_QVDP_Grossesse',\n",
       "       '#6-49_TRTEINS_Peau', '#6-6_TRTEINS_ChimioOrale',\n",
       "       '#9-2_Informations_cancer', '#6-49_TRTEINS_Peau',\n",
       "       '#6-49_TRTEINS_Peau', '#2-128_QVDP_Sexualite_Couple',\n",
       "       '#2-130_QVDP_Alimentation', '#2-107_QVDP_Grossesse',\n",
       "       '#2-72_QVDP_Fatigue_Sieste', '#6-34_TRTEINS_Lymphoedeme',\n",
       "       'conversation_rappel_rendezvous', '#2-120_QVDP_Sexualite',\n",
       "       '#2-55_QVDP_Douleur', '#6-95_TRTEINS_Perte_Appetit',\n",
       "       '#6-64_TRTEINS_PAC_Risques', '#6-41_TRTEINS_ManchonLymphodeme',\n",
       "       '#6-98_TRTEINS_EI_Frequents',\n",
       "       '#6-73_TRTEINS_Chirurgie_Curage_axillaire',\n",
       "       'conversation_rappel_rendezvous', '#6-53_TRTEINS_Aphtes',\n",
       "       '#6-95_TRTEINS_Perte_Appetit', '#6-92_TRTEINS_Diarrhee',\n",
       "       '#2-55_QVDP_Douleur', '#6-90_TRTEINS_Mauvais_Gout',\n",
       "       '#2-38_QVDP_Alopecie_Repousse', '#7-49_QVDA_Personne_de_confiance',\n",
       "       '#9-2_Informations_cancer', '#6-58_TRTEINS_Bouche_Seche',\n",
       "       '#9-53_Informations_depistagesein',\n",
       "       '#2-96_QVDP_Social_Priseencharge',\n",
       "       '#6-40_TRTEINS_PressotherapieLymphodeme',\n",
       "       '#6-1_TRTEINS_Chimiotherapie', '#2-36_QVDP_Alopecie_Pourquoi',\n",
       "       '#2-133_QVDP_RegimeAnticancer', '#6-1_TRTEINS_Chimiotherapie',\n",
       "       '#2-41_QVDP_Alopecie_Diminuer', '#6-49_TRTEINS_Peau',\n",
       "       '#6-49_TRTEINS_Peau', '#6-49_TRTEINS_Peau',\n",
       "       '#6-34_TRTEINS_Lymphoedeme', '#2-48_QVDP_Alopecie_RbPerruque',\n",
       "       '#9-53_Informations_depistagesein', '#6-96_TRTEINS_Perte_Poids',\n",
       "       '#2-42_QVDP_Alopecie_Casque', '#6-92_TRTEINS_Diarrhee',\n",
       "       '#9-2_Informations_cancer', '#2-53_QVDP_Cils',\n",
       "       '#2-41_QVDP_Alopecie_Diminuer', '#2-128_QVDP_Sexualite_Couple',\n",
       "       '#2-115_QVDP_Grossesse_Allaitement', '#2-130_QVDP_Alimentation',\n",
       "       '#6-53_TRTEINS_Aphtes', '#7-49_QVDA_Personne_de_confiance',\n",
       "       '#6-92_TRTEINS_Diarrhee', '#6-18_TRTEINS_Radiotherapie',\n",
       "       '#6-90_TRTEINS_Mauvais_Gout', '#9-2_Informations_cancer',\n",
       "       '#6-49_TRTEINS_Peau', '#6-98_TRTEINS_EI_Frequents',\n",
       "       '#6-83_TRTEINS_Prothese', '#2-96_QVDP_Social_Priseencharge',\n",
       "       '#2-37_QVDP_Alopecie_Quand', '#6-53_TRTEINS_Aphtes',\n",
       "       '#6-40_TRTEINS_PressotherapieLymphodeme',\n",
       "       '#2-96_QVDP_Social_Priseencharge', '#6-98_TRTEINS_EI_Frequents',\n",
       "       '#2-130_QVDP_Alimentation', '#6-6_TRTEINS_ChimioOrale',\n",
       "       '#6-97_TRTEINS_Nausees_Vomissements', '#2-130_QVDP_Alimentation',\n",
       "       '#2-45_QVDP_Alopecie_Perruque', 'conversation_rappel_rendezvous',\n",
       "       '#6-34_TRTEINS_Lymphoedeme', '#2-93_QVDP_Social_Proches',\n",
       "       '#6-34_TRTEINS_Lymphoedeme', '#2-90_QVDP_Fertilite_Ponction',\n",
       "       '#2-130_QVDP_Alimentation', '#6-49_TRTEINS_Peau',\n",
       "       '#2-64-0_QVDP_Fatigue', '#6-49_TRTEINS_Peau',\n",
       "       '#6-98_TRTEINS_EI_Frequents', '#2-73_QVDP_Sport',\n",
       "       '#9-2_Informations_cancer', '#2-61_QVDP_RadioT_Peau',\n",
       "       '#9-2_Informations_cancer', '#6-90_TRTEINS_Mauvais_Gout',\n",
       "       '#6-18_TRTEINS_Radiotherapie', '#6-67_TRTEINS_Chirurgie_Questions',\n",
       "       'conversation_rappel_rendezvous',\n",
       "       '#6-73_TRTEINS_Chirurgie_Mastectomie', '#6-49_TRTEINS_Peau',\n",
       "       '#6-41_TRTEINS_ManchonLymphodeme', '#6-92_TRTEINS_Diarrhee',\n",
       "       '#2-64-0_QVDP_Fatigue', '#6-98_TRTEINS_EI_Frequents',\n",
       "       '#2-84_QVDP_Fertilite_GrossesseApresCancer', '#6-49_TRTEINS_Peau',\n",
       "       '#6-57_TRTEINS_Yeux_Secs', '#6-98_TRTEINS_EI_Frequents',\n",
       "       '#6-72_TRTEINS_Chirurgie_Cicatrice',\n",
       "       '#2-36_QVDP_Alopecie_Pourquoi',\n",
       "       '#2-115_QVDP_Grossesse_Allaitement', '#6-49_TRTEINS_Peau',\n",
       "       '#6-92_TRTEINS_Diarrhee', '#2-90_QVDP_Fertilite_Ponction',\n",
       "       '#2-73_QVDP_Sport', '#7-52_Remission', '#2-53_QVDP_Cils',\n",
       "       '#6-49_TRTEINS_Peau', '#6-41_TRTEINS_ManchonLymphodeme',\n",
       "       '#7-52_Remission', '#6-49_TRTEINS_Peau'], dtype=object)"
      ]
     },
     "execution_count": 296,
     "metadata": {},
     "output_type": "execute_result"
    }
   ],
   "source": [
    "predict_v #la classe prédite pour chaque question à prédire : résultat de la prédiction"
   ]
  },
  {
   "cell_type": "code",
   "execution_count": 297,
   "metadata": {},
   "outputs": [
    {
     "name": "stdout",
     "output_type": "stream",
     "text": [
      "[[0.00392392 0.00162437 0.0067463  ... 0.00175595 0.00562016 0.00162266]\n",
      " [0.00390935 0.0019549  0.01192568 ... 0.00214704 0.00911696 0.00195272]\n",
      " [0.00222511 0.00104235 0.00554329 ... 0.00111833 0.00297397 0.00104135]\n",
      " ...\n",
      " [0.00298681 0.0015285  0.00843626 ... 0.00167297 0.0066149  0.00152684]\n",
      " [0.00306298 0.00154828 0.00895372 ... 0.0016987  0.00697002 0.00154657]\n",
      " [0.00387265 0.00196252 0.01137123 ... 0.00215281 0.01119662 0.00196036]]\n"
     ]
    },
    {
     "data": {
      "text/plain": [
       "(array([102]),)"
      ]
     },
     "execution_count": 297,
     "metadata": {},
     "output_type": "execute_result"
    }
   ],
   "source": [
    "probaClasses = cla.predict_proba(Xv)\n",
    "print probaClasses #sur chq ligne une question prédire : les probas d'appartenance à chaque classe\n",
    "np.where(cla.classes_=='#6-86_TRTEINS_Chirurgie_Reeducation')"
   ]
  },
  {
   "cell_type": "markdown",
   "metadata": {},
   "source": [
    "##### Ci dessous le nombres de questions prédites dans chq classe par le modèle, sur les données de validation : "
   ]
  },
  {
   "cell_type": "code",
   "execution_count": 298,
   "metadata": {
    "scrolled": true
   },
   "outputs": [
    {
     "data": {
      "text/plain": [
       "[('#6-49_TRTEINS_Peau', 49),\n",
       " ('#9-2_Informations_cancer', 28),\n",
       " ('#2-130_QVDP_Alimentation', 22),\n",
       " ('#6-92_TRTEINS_Diarrhee', 18),\n",
       " ('#2-55_QVDP_Douleur', 16),\n",
       " ('#6-1_TRTEINS_Chimiotherapie', 16),\n",
       " ('#2-36_QVDP_Alopecie_Pourquoi', 15),\n",
       " ('#6-98_TRTEINS_EI_Frequents', 14),\n",
       " ('#6-60_TRTEINS_PAC', 14),\n",
       " ('#6-24_TRTEINS_hormonotherapie', 13),\n",
       " ('#6-53_TRTEINS_Aphtes', 11),\n",
       " ('#6-18_TRTEINS_Radiotherapie', 11),\n",
       " ('conversation_rappel_rendezvous', 11),\n",
       " ('#2-64-0_QVDP_Fatigue', 10),\n",
       " ('#2-73_QVDP_Sport', 9),\n",
       " ('#2-96_QVDP_Social_Priseencharge', 9),\n",
       " ('#6-34_TRTEINS_Lymphoedeme', 9),\n",
       " ('#2-107_QVDP_Grossesse', 9),\n",
       " ('#6-97_TRTEINS_Nausees_Vomissements', 8),\n",
       " ('#2-45_QVDP_Alopecie_Perruque', 8),\n",
       " ('#6-58_TRTEINS_Bouche_Seche', 8),\n",
       " ('#6-41_TRTEINS_ManchonLymphodeme', 7),\n",
       " ('#9-53_Informations_depistagesein', 7),\n",
       " ('#6-73_TRTEINS_Chirurgie_Mastectomie', 7),\n",
       " ('#6-90_TRTEINS_Mauvais_Gout', 7),\n",
       " ('#6-96_TRTEINS_Perte_Poids', 7),\n",
       " ('#6-93_TRTEINS_Mauvaise_Haleine', 7),\n",
       " ('#5-37_Soutien_Psychologique', 6),\n",
       " ('#2-53_QVDP_Cils', 6),\n",
       " ('#2-48_QVDP_Alopecie_RbPerruque', 6),\n",
       " ('#6-95_TRTEINS_Perte_Appetit', 6),\n",
       " ('#6-57_TRTEINS_Yeux_Secs', 5),\n",
       " ('#2-87_QVDP_Fertilite', 5),\n",
       " ('#2-128_QVDP_Sexualite_Couple', 5),\n",
       " ('#1-5_Menu_Aidant', 4),\n",
       " ('#7-52_Remission', 4),\n",
       " ('#6-40_TRTEINS_PressotherapieLymphodeme', 4),\n",
       " ('#2-72_QVDP_Fatigue_Sieste', 4),\n",
       " ('#2-120_QVDP_Sexualite', 4),\n",
       " ('#2-90_QVDP_Fertilite_Ponction', 4),\n",
       " ('#2-115_QVDP_Grossesse_Allaitement', 4),\n",
       " ('Conversation_rappel_read', 4),\n",
       " ('#6-83_TRTEINS_Prothese', 4),\n",
       " ('#6-6_TRTEINS_ChimioOrale', 3),\n",
       " ('#6-31_TRTEINS_Effetsecondaireshormonotherapie', 3),\n",
       " ('#6-67_TRTEINS_Chirurgie_Questions', 3),\n",
       " ('#2-84_QVDP_Fertilite_GrossesseApresCancer', 3),\n",
       " ('#6-64_TRTEINS_PAC_Risques', 3),\n",
       " ('#2-133_QVDP_RegimeAnticancer', 3),\n",
       " ('#6-65_TRTEINS_Chirurgie', 3),\n",
       " ('#2-41_QVDP_Alopecie_Diminuer', 3),\n",
       " ('#9-20_Informations_Stades', 3),\n",
       " ('#2-42_QVDP_Alopecie_Casque', 3),\n",
       " ('#2-125_QVDP_Sexualite_Reconstruction', 2),\n",
       " ('#001_Gestion_Abonnement', 2),\n",
       " ('#2-121_QVDP_Sexualite_Cicatrice', 2),\n",
       " ('#2-47_QVDP_Alopecie_CoutPerruque', 2),\n",
       " ('#7-58_Recidive', 2),\n",
       " ('#2-103_QVDP_Social_Banque', 2),\n",
       " ('#2-38_QVDP_Alopecie_Repousse', 2),\n",
       " ('#2-49_QVDP_Alopecie_OuPerruque', 2),\n",
       " ('#6-72_TRTEINS_Chirurgie_Cicatrice', 2),\n",
       " ('Profile_read', 2),\n",
       " ('#7-49_QVDA_Personne_de_confiance', 2),\n",
       " ('#6-73_TRTEINS_Chirurgie_Curage_axillaire', 2),\n",
       " ('#6-23_TRTEINS_SeanceRadiotherapie', 2),\n",
       " ('#2-135_QVDP_Alimentation_Alcool', 1),\n",
       " ('#2-97_QVDP_ResteACharge', 1),\n",
       " ('#2-122_QVDP_Sexualite_Alopecie', 1),\n",
       " ('#2-58_QVDP_RadioT_Eff', 1),\n",
       " ('#6-9_TRTEINS_ChimioIntraperitoneale', 1),\n",
       " ('#2-52_QVDP_Ongles', 1),\n",
       " ('#2-70_QVDP_Fatigue_Diminuer', 1),\n",
       " ('#8-8_DDP_Fin_de_vie', 1),\n",
       " ('#8-6_DDP_Consentement_eclaire', 1),\n",
       " ('#2-61_QVDP_RadioT_Peau', 1),\n",
       " ('#6-86_TRTEINS_Chirurgie_Reeducation', 1),\n",
       " ('#1-8_Menu_Traitement', 1),\n",
       " ('#2-93_QVDP_Social_Proches', 1),\n",
       " ('#2-134_QVDP_Alimentation_Citron', 1),\n",
       " ('#2-37_QVDP_Alopecie_Quand', 1),\n",
       " ('#2-79_QVDP_SportQuel', 1),\n",
       " ('#2-109_QVDP_Grossesse_Chimiotherapie', 1),\n",
       " ('#6-12_TRTEINS_ChimioAmbulatoire', 1),\n",
       " ('#6-13_TRTEINS_PreparationChimio', 1),\n",
       " ('#2-123_QVDP_Sexualite_Prothese', 1),\n",
       " ('Conversation_rappel_update2', 1)]"
      ]
     },
     "execution_count": 298,
     "metadata": {},
     "output_type": "execute_result"
    }
   ],
   "source": [
    "#on regarde comment on a predit Xv qui est notre modele de validation\n",
    "#sur les données de validation, \n",
    "sorted(collections.Counter(predict_v).items(), key=lambda x : x[1], reverse=True)"
   ]
  },
  {
   "cell_type": "markdown",
   "metadata": {},
   "source": [
    "##### Ci dessous le nombres de questions qu'il y avait vraiment dans chq classe, sur les données de validation : "
   ]
  },
  {
   "cell_type": "code",
   "execution_count": 299,
   "metadata": {},
   "outputs": [
    {
     "data": {
      "text/plain": [
       "[('#6-49_TRTEINS_Peau', 21),\n",
       " ('#2-130_QVDP_Alimentation', 15),\n",
       " ('#6-92_TRTEINS_Diarrhee', 14),\n",
       " ('#6-53_TRTEINS_Aphtes', 13),\n",
       " ('conversation_rappel_rendezvous', 13),\n",
       " ('#9-2_Informations_cancer', 12),\n",
       " ('#2-55_QVDP_Douleur', 11),\n",
       " ('#6-18_TRTEINS_Radiotherapie', 10),\n",
       " ('#2-45_QVDP_Alopecie_Perruque', 10),\n",
       " ('#6-96_TRTEINS_Perte_Poids', 10),\n",
       " ('#6-60_TRTEINS_PAC', 10),\n",
       " ('#6-98_TRTEINS_EI_Frequents', 9),\n",
       " ('#6-90_TRTEINS_Mauvais_Gout', 9),\n",
       " ('#2-64-0_QVDP_Fatigue', 9),\n",
       " ('#2-36_QVDP_Alopecie_Pourquoi', 8),\n",
       " ('#6-97_TRTEINS_Nausees_Vomissements', 8),\n",
       " ('#6-24_TRTEINS_hormonotherapie', 8),\n",
       " ('#6-93_TRTEINS_Mauvaise_Haleine', 8),\n",
       " ('#6-41_TRTEINS_ManchonLymphodeme', 7),\n",
       " ('#7-52_Remission', 7),\n",
       " ('#6-65_TRTEINS_Chirurgie', 7),\n",
       " ('#5-37_Soutien_Psychologique', 6),\n",
       " ('#1-5_Menu_Aidant', 6),\n",
       " ('#6-57_TRTEINS_Yeux_Secs', 6),\n",
       " ('#2-53_QVDP_Cils', 6),\n",
       " ('#2-70_QVDP_Fatigue_Diminuer', 6),\n",
       " ('#2-84_QVDP_Fertilite_GrossesseApresCancer', 6),\n",
       " ('#6-1_TRTEINS_Chimiotherapie', 6),\n",
       " ('#2-115_QVDP_Grossesse_Allaitement', 6),\n",
       " ('#2-109_QVDP_Grossesse_Chimiotherapie', 6),\n",
       " ('#6-95_TRTEINS_Perte_Appetit', 6),\n",
       " ('#6-58_TRTEINS_Bouche_Seche', 6),\n",
       " ('#6-73_TRTEINS_Chirurgie_Mastectomie', 5),\n",
       " ('#2-96_QVDP_Social_Priseencharge', 5),\n",
       " ('#1-8_Menu_Traitement', 5),\n",
       " ('#2-72_QVDP_Fatigue_Sieste', 5),\n",
       " ('#2-128_QVDP_Sexualite_Couple', 5),\n",
       " ('#2-90_QVDP_Fertilite_Ponction', 5),\n",
       " ('#2-79_QVDP_SportQuel', 5),\n",
       " ('#9-20_Informations_Stades', 5),\n",
       " ('#2-42_QVDP_Alopecie_Casque', 5),\n",
       " ('#6-6_TRTEINS_ChimioOrale', 4),\n",
       " ('#9-53_Informations_depistagesein', 4),\n",
       " ('#2-73_QVDP_Sport', 4),\n",
       " ('#6-31_TRTEINS_Effetsecondaireshormonotherapie', 4),\n",
       " ('#2-107_QVDP_Grossesse', 4),\n",
       " ('#001_Gestion_Abonnement', 4),\n",
       " ('#6-40_TRTEINS_PressotherapieLymphodeme', 4),\n",
       " ('#2-133_QVDP_RegimeAnticancer', 4),\n",
       " ('#2-37_QVDP_Alopecie_Quand', 4),\n",
       " ('#2-120_QVDP_Sexualite', 4),\n",
       " ('#2-41_QVDP_Alopecie_Diminuer', 4),\n",
       " ('#2-48_QVDP_Alopecie_RbPerruque', 4),\n",
       " ('#6-34_TRTEINS_Lymphoedeme', 4),\n",
       " ('#2-102_QVDP_Social_RbPerruque', 4),\n",
       " ('#6-94_TRTEINS_Deglutition', 4),\n",
       " ('#2-60_QVDP_RadioT_Diarrh\\xc3\\x83\\xc2\\xa9e', 3),\n",
       " ('#6-35_TRTEINS_PrevenirLymphoedeme', 3),\n",
       " ('#6-67_TRTEINS_Chirurgie_Questions', 3),\n",
       " ('#2-47_QVDP_Alopecie_CoutPerruque', 3),\n",
       " ('#7-58_Recidive', 3),\n",
       " ('#2-103_QVDP_Social_Banque', 3),\n",
       " ('#2-38_QVDP_Alopecie_Repousse', 3),\n",
       " ('#6-91_TRTEINS_Ballonnement', 3),\n",
       " ('#2-123_QVDP_Sexualite_Prothese', 3),\n",
       " ('Profile_read', 3),\n",
       " ('#2-101_QVDP_Social_RbProthese', 3),\n",
       " ('#6-23_TRTEINS_SeanceRadiotherapie', 3),\n",
       " ('#2-87_QVDP_Fertilite', 3),\n",
       " ('#2-135_QVDP_Alimentation_Alcool', 2),\n",
       " ('#2-49_QVDP_Alopecie_OuPerruque', 2),\n",
       " ('#6-63_TRTEINS_PAC_Precautions', 2),\n",
       " ('#2-122_QVDP_Sexualite_Alopecie', 2),\n",
       " ('#2-58_QVDP_RadioT_Eff', 2),\n",
       " ('#2-75_QVDP_SportPrecautions', 2),\n",
       " ('#6-72_TRTEINS_Chirurgie_Cicatrice', 2),\n",
       " ('#2-121_QVDP_Sexualite_Cicatrice', 2),\n",
       " ('#6-64_TRTEINS_PAC_Risques', 2),\n",
       " ('#2-61_QVDP_RadioT_Peau', 2),\n",
       " ('#6-37_TRTEINS_TrtLymphodeme', 2),\n",
       " ('#2-56_QVDP_DiminuerDouleur', 2),\n",
       " ('#6-8_TRTEINS_Intrathecale', 2),\n",
       " ('#6-33_TRTEINS_Lymphe', 2),\n",
       " ('#6-22_TRTEINS_EffetsecondairesRadiotherapie', 2),\n",
       " ('#6-13_TRTEINS_PreparationChimio', 2),\n",
       " ('Conversation_rappel_update2', 2),\n",
       " ('#2-85_QVDP_Fertilite_Preserver', 2),\n",
       " ('#6-12_TRTEINS_ChimioAmbulatoire', 1),\n",
       " ('#2-97_QVDP_ResteACharge', 1),\n",
       " ('#2-125_QVDP_Sexualite_Reconstruction', 1),\n",
       " ('#8-11_DDP_Dossier_medical', 1),\n",
       " ('Profile_write_recevoirTemoignage', 1),\n",
       " ('#2-52_QVDP_Ongles', 1),\n",
       " ('#2-106_QVDP_Social_HAD', 1),\n",
       " ('#8-8_DDP_Fin_de_vie', 1),\n",
       " ('#2-88_Reprise_Cycle', 1),\n",
       " ('#000_Menu_General', 1),\n",
       " ('#8-6_DDP_Consentement_eclaire', 1),\n",
       " ('#2-93_QVDP_Social_Proches', 1),\n",
       " ('#2-110_QVDP_Grossesse_Radiotherapie', 1),\n",
       " ('Profile_write_age', 1),\n",
       " ('#7-60_QVDA_Soins_Palliatifs', 1),\n",
       " ('#9-13_Informations_metastase', 1),\n",
       " ('Profile_update', 1),\n",
       " ('#6-86_TRTEINS_Chirurgie_Reeducation', 1),\n",
       " ('#2-59_QVDP_RadioT_Fatigue', 1),\n",
       " ('#2-134_QVDP_Alimentation_Citron', 1),\n",
       " ('#2-65_QVDP_Fatigue_Hormono', 1),\n",
       " ('Profile_write_doseTraitement', 1),\n",
       " ('#6-2_TRTEINS_Cycles', 1),\n",
       " ('#6-43_TRTEINS_PrixManchon', 1),\n",
       " ('#2-124_QVDP_Sexualite_PerteConfiance', 1),\n",
       " ('#7-49_QVDA_Personne_de_confiance', 1),\n",
       " ('#6-73_TRTEINS_Chirurgie_Curage_axillaire', 1),\n",
       " ('Profile_write_typeCancer', 1),\n",
       " ('Conversation_rappel_read', 1),\n",
       " ('#6-81_TRTEINS_Chirurgie_Mastectomie_risques', 1),\n",
       " ('#2-64_QVDP_Fatigue_Chimio', 1),\n",
       " ('#2-100_QVDP_Social_Transports', 1),\n",
       " ('#6-9_TRTEINS_ChimioIntraperitoneale', 1),\n",
       " ('#8-13_DDP_Secret_medical', 1),\n",
       " ('#2-111_QVDP_Grossesse_Chirurgie', 1),\n",
       " ('#2-112_QVDP_Grossesse_Hormonotherapie', 1),\n",
       " ('Profile_write_rappels', 1)]"
      ]
     },
     "execution_count": 299,
     "metadata": {},
     "output_type": "execute_result"
    }
   ],
   "source": [
    "sorted(collections.Counter(data_valid_clean[\"Intent\"]).items(), key=lambda x : x[1], reverse=True)"
   ]
  },
  {
   "cell_type": "markdown",
   "metadata": {},
   "source": [
    "On voit clairement que l'apprentissage est mal fait, on range toutes les petites catégories dans la plus grosse."
   ]
  },
  {
   "cell_type": "code",
   "execution_count": null,
   "metadata": {},
   "outputs": [],
   "source": []
  },
  {
   "cell_type": "code",
   "execution_count": null,
   "metadata": {},
   "outputs": [],
   "source": []
  },
  {
   "cell_type": "markdown",
   "metadata": {},
   "source": [
    "### F test\n",
    "\n",
    "precision (also called positive predictive value) is the fraction of relevant instances among the retrieved (= extrait) instances\n",
    "\n",
    "\n",
    "\n",
    "recall (also known as sensitivity or true positive rate) is the fraction of relevant instances that have been retrieved over the total amount of relevant instances. Both precision and recall are therefore based on an understanding and measure of relevance.\n",
    "\n",
    "\n",
    "Specificity (also called the true negative rate) measures the proportion of negatives that are correctly identified as such\n",
    "\n",
    "\n",
    "\n",
    "Example : Suppose a computer program for recognizing dogs in photographs identifies 8 dogs in a picture containing 12 dogs and some cats. Of the 8 dogs identified, 5 actually are dogs (true positives), while the rest are cats (false positives). The program's precision is 5/8 while its recall is 5/12"
   ]
  },
  {
   "cell_type": "code",
   "execution_count": 207,
   "metadata": {},
   "outputs": [],
   "source": [
    "from sklearn.metrics import recall_score\n",
    "from sklearn.metrics import f1_score\n",
    "from sklearn.metrics import *"
   ]
  },
  {
   "cell_type": "code",
   "execution_count": 133,
   "metadata": {},
   "outputs": [],
   "source": [
    "#construction de l'ensemble des labels\n",
    "labelsYv = np.unique(Yv)\n",
    "labelsYv = labelsYv.tolist()"
   ]
  },
  {
   "cell_type": "code",
   "execution_count": 134,
   "metadata": {},
   "outputs": [
    {
     "name": "stdout",
     "output_type": "stream",
     "text": [
      "('recall score', 0.6414342629482072)\n"
     ]
    }
   ],
   "source": [
    "#recall\n",
    "Recallscore = recall_score(Yv, predict_v ,labels = labelsYv, average = 'weighted')\n",
    "print('recall score', Recallscore)"
   ]
  },
  {
   "cell_type": "code",
   "execution_count": 135,
   "metadata": {},
   "outputs": [
    {
     "name": "stdout",
     "output_type": "stream",
     "text": [
      "('accuracy score', 0.6414342629482072)\n"
     ]
    }
   ],
   "source": [
    "#accuracy\n",
    "Accuracyscore = accuracy_score(Yv, predict_v, normalize = True)\n",
    "print('accuracy score', Accuracyscore)"
   ]
  },
  {
   "cell_type": "code",
   "execution_count": 210,
   "metadata": {},
   "outputs": [
    {
     "name": "stdout",
     "output_type": "stream",
     "text": [
      "('precision', 0.6653586038795202)\n"
     ]
    }
   ],
   "source": [
    "#precision\n",
    "Precisionscore= precision_score(Yv, predict_v, average='weighted')\n",
    "print ('precision',Precisionscore)"
   ]
  },
  {
   "cell_type": "code",
   "execution_count": 212,
   "metadata": {},
   "outputs": [
    {
     "name": "stdout",
     "output_type": "stream",
     "text": [
      "('# f1 score:', 0.6106134964040333)\n"
     ]
    }
   ],
   "source": [
    "#F1 score sur les labels predits et les labels de validation\n",
    "F1score = f1_score(Yv, predict_v ,labels = labelsYv, average = 'weighted')\n",
    "print('# f1 score:',F1score)"
   ]
  },
  {
   "cell_type": "code",
   "execution_count": 211,
   "metadata": {},
   "outputs": [
    {
     "data": {
      "text/plain": [
       "0.6531774338679038"
      ]
     },
     "execution_count": 211,
     "metadata": {},
     "output_type": "execute_result"
    }
   ],
   "source": [
    "#Normalement le F1 est calculé comme cela, or on a un petit ecart\n",
    "2 * (Precisionscore * Recallscore) / float((Precisionscore + Recallscore))"
   ]
  },
  {
   "cell_type": "code",
   "execution_count": null,
   "metadata": {},
   "outputs": [],
   "source": [
    "comme une moyenne mais ca n'aurait pas fonctiionné (cas un score a 1 et lautre a 0, donne 0.5 un bon score )\n",
    "produit pour penaliser les petites valeurs / normalisation"
   ]
  },
  {
   "cell_type": "markdown",
   "metadata": {},
   "source": [
    "# courbes roc\n",
    "\n",
    "Les courbes ROC sont un indicateur pour un seul label/catégorie donnée\n",
    "\n",
    "Difficile, je vois pas comment faire"
   ]
  },
  {
   "cell_type": "code",
   "execution_count": 138,
   "metadata": {},
   "outputs": [],
   "source": [
    "from sklearn.metrics import roc_auc_score\n",
    "from sklearn import metrics"
   ]
  },
  {
   "cell_type": "code",
   "execution_count": null,
   "metadata": {},
   "outputs": [],
   "source": [
    "from sklearn.metrics import roc_curve, auc\n",
    "from sklearn import datasets\n",
    "from sklearn.multiclass import OneVsRestClassifier\n",
    "from sklearn.svm import LinearSVC\n",
    "from sklearn.preprocessing import label_binarize\n",
    "from sklearn.cross_validation import train_test_split\n",
    "import matplotlib.pyplot as plt"
   ]
  },
  {
   "cell_type": "markdown",
   "metadata": {},
   "source": [
    "### roc curve sur les 2 plus grosses categ traitement peau et info_cancer\n"
   ]
  },
  {
   "cell_type": "code",
   "execution_count": 300,
   "metadata": {},
   "outputs": [],
   "source": [
    "probaClasses = cla.predict_proba(X)"
   ]
  },
  {
   "cell_type": "code",
   "execution_count": 247,
   "metadata": {},
   "outputs": [],
   "source": [
    "intent_bin=np.array(data_train_clean['Intent']=='#6-49_TRTEINS_Peau')*1.0\n",
    "proba_bin=probaClasses[:,np.where(cla.classes_=='#6-49_TRTEINS_Peau')[0][0]] #sur chq ligne une question prédire : les probas d'appartenance à chaque classe\n",
    "\n",
    "intent_bin2=np.array(data_train_clean['Intent']=='#9-2_Informations_cancer')*1.0\n",
    "proba_bin2=probaClasses[:,np.where(cla.classes_=='#9-2_Informations_cancer')[0][0]] #sur chq ligne une question prédire : les probas d'appartenance à chaque classe\n"
   ]
  },
  {
   "cell_type": "code",
   "execution_count": 248,
   "metadata": {},
   "outputs": [
    {
     "data": {
      "image/png": "[encoded data removed]",
      "text/plain": [
       "<matplotlib.figure.Figure at 0x12dbd670>"
      ]
     },
     "metadata": {},
     "output_type": "display_data"
    },
    {
     "data": {
      "image/png": "[encoded data removed]",
      "text/plain": [
       "<matplotlib.figure.Figure at 0x1201c050>"
      ]
     },
     "metadata": {},
     "output_type": "display_data"
    }
   ],
   "source": [
    "fpr, tpr, _ = roc_curve(intent_bin,proba_bin)\n",
    "roc_auc = auc(fpr, tpr)\n",
    "plt.figure()\n",
    "plt.plot(fpr, tpr, color='darkorange',label='ROC curve (area = %0.2f)' % roc_auc)\n",
    "plt.plot([0, 1], [0, 1], 'k--')\n",
    "plt.xlim([0.0, 1.0])\n",
    "plt.ylim([0.0, 1.05])\n",
    "plt.xlabel('False Positive Rate')\n",
    "plt.ylabel('True Positive Rate')\n",
    "plt.title('Receiver operating characteristic example')\n",
    "plt.legend(loc=\"lower right\")\n",
    "plt.show()\n",
    "\n",
    "fpr2, tpr2, _ = roc_curve(intent_bin2,proba_bin2)\n",
    "roc_auc2 = auc(fpr2, tpr2)\n",
    "plt.figure()\n",
    "plt.plot(fpr, tpr, color='darkorange',label='ROC curve (area = %0.2f)' % roc_auc2)\n",
    "plt.plot([0, 1], [0, 1], 'k--')\n",
    "plt.xlim([0.0, 1.0])\n",
    "plt.ylim([0.0, 1.05])\n",
    "plt.xlabel('False Positive Rate')\n",
    "plt.ylabel('True Positive Rate')\n",
    "plt.title('Receiver operating characteristic example')\n",
    "plt.legend(loc=\"lower right\")\n",
    "plt.show()"
   ]
  },
  {
   "cell_type": "code",
   "execution_count": 250,
   "metadata": {},
   "outputs": [
    {
     "data": {
      "image/png": "[encoded data removed]",
      "text/plain": [
       "<matplotlib.figure.Figure at 0xccfabf0>"
      ]
     },
     "metadata": {},
     "output_type": "display_data"
    },
    {
     "data": {
      "image/png": "[encoded data removed]",
      "text/plain": [
       "<matplotlib.figure.Figure at 0xcb7dd30>"
      ]
     },
     "metadata": {},
     "output_type": "display_data"
    }
   ],
   "source": [
    "probaClasses = cla.predict_proba(Xv)\n",
    "intent_bin=np.array(data_valid_clean['Intent']=='#6-49_TRTEINS_Peau')*1.0\n",
    "proba_bin=probaClasses[:,np.where(cla.classes_=='#6-49_TRTEINS_Peau')[0][0]] #sur chq ligne une question prédire : les probas d'appartenance à chaque classe\n",
    "\n",
    "intent_bin2=np.array(data_valid_clean['Intent']=='#9-2_Informations_cancer')*1.0\n",
    "proba_bin2=probaClasses[:,np.where(cla.classes_=='#9-2_Informations_cancer')[0][0]] #sur chq ligne une question prédire : les probas d'appartenance à chaque classe\n",
    "\n",
    "fpr, tpr, _ = roc_curve(intent_bin,proba_bin)\n",
    "roc_auc = auc(fpr, tpr)\n",
    "plt.figure()\n",
    "plt.plot(fpr, tpr, color='darkorange',label='ROC curve (area = %0.2f)' % roc_auc)\n",
    "plt.plot([0, 1], [0, 1], 'k--')\n",
    "plt.xlim([0.0, 1.0])\n",
    "plt.ylim([0.0, 1.05])\n",
    "plt.xlabel('False Positive Rate')\n",
    "plt.ylabel('True Positive Rate')\n",
    "plt.title('Receiver operating characteristic example')\n",
    "plt.legend(loc=\"lower right\")\n",
    "plt.show()\n",
    "\n",
    "fpr2, tpr2, _ = roc_curve(intent_bin2,proba_bin2)\n",
    "roc_auc2 = auc(fpr2, tpr2)\n",
    "plt.figure()\n",
    "plt.plot(fpr, tpr, color='darkorange',label='ROC curve (area = %0.2f)' % roc_auc2)\n",
    "plt.plot([0, 1], [0, 1], 'k--')\n",
    "plt.xlim([0.0, 1.0])\n",
    "plt.ylim([0.0, 1.05])\n",
    "plt.xlabel('False Positive Rate')\n",
    "plt.ylabel('True Positive Rate')\n",
    "plt.title('Receiver operating characteristic example')\n",
    "plt.legend(loc=\"lower right\")\n",
    "plt.show()"
   ]
  },
  {
   "cell_type": "markdown",
   "metadata": {},
   "source": [
    "### courbes pour une petite categ"
   ]
  },
  {
   "cell_type": "code",
   "execution_count": 301,
   "metadata": {},
   "outputs": [
    {
     "data": {
      "image/png": "[encoded data removed]",
      "text/plain": [
       "<matplotlib.figure.Figure at 0x12fa0c10>"
      ]
     },
     "metadata": {},
     "output_type": "display_data"
    }
   ],
   "source": [
    "intent_bin=np.array(data_train_clean['Intent']=='#2-115_QVDP_Grossesse_Allaitement')*1.0\n",
    "proba_bin=probaClasses[:,np.where(cla.classes_=='#2-115_QVDP_Grossesse_Allaitement')[0][0]] #sur chq ligne une question prédire : les probas d'appartenance à chaque classe\n",
    "fpr, tpr, _ = roc_curve(intent_bin,proba_bin)\n",
    "roc_auc = auc(fpr, tpr)\n",
    "plt.figure()\n",
    "plt.plot(fpr, tpr, color='darkorange',label='ROC curve (area = %0.2f)' % roc_auc)\n",
    "plt.plot([0, 1], [0, 1], 'k--')\n",
    "plt.xlim([0.0, 1.0])\n",
    "plt.ylim([0.0, 1.05])\n",
    "plt.xlabel('False Positive Rate')\n",
    "plt.ylabel('True Positive Rate')\n",
    "plt.title('Receiver operating characteristic example')\n",
    "plt.legend(loc=\"lower right\")\n",
    "plt.show()\n"
   ]
  },
  {
   "cell_type": "markdown",
   "metadata": {},
   "source": [
    "# meta classes"
   ]
  },
  {
   "cell_type": "code",
   "execution_count": 260,
   "metadata": {},
   "outputs": [],
   "source": [
    "#meta classe\n",
    "categories = data_train_clean['Intent']\n",
    "tailleCat = int(np.shape(categories)[0])\n",
    "LabelCat = np.zeros(tailleCat)\n",
    "for k in range(tailleCat):\n",
    "    # la categorie #0 a le label 0 implicitement\n",
    "    if categories[k][0:2]=='Pr':  LabelCat[k] = 11#profile\n",
    "    if (categories[k][0:2] == 'co' or categories[k][0:2]=='Co'): LabelCat[k] = 10 #conversation_rappel_rendezvous\n",
    "    if categories[k][0:2] == '#1' : LabelCat[k] = 1\n",
    "    if categories[k][0:2] == '#2' : LabelCat[k] = 2\n",
    "    if categories[k][0:2] == '#5' : LabelCat[k] = 5\n",
    "    if categories[k][0:2] == '#6' : LabelCat[k] = 6\n",
    "    if categories[k][0:2] == '#7' : LabelCat[k] = 7\n",
    "    if categories[k][0:2] == '#8' : LabelCat[k] = 8\n",
    "    if categories[k][0:2] == '#9' : LabelCat[k] = 9\n",
    "        \n",
    "#data frame avec une colonne mettant un label suivant la meta categorie\n",
    "dfLabelCat = pd.DataFrame(LabelCat)\n",
    "meta_df = pd.concat([data_train_clean, dfLabelCat], axis=1)\n",
    "\n",
    "\n",
    "categories_v = data_valid_clean['Intent']\n",
    "tailleCat_v = int(np.shape(categories_v)[0])\n",
    "LabelCat_v = np.zeros(tailleCat_v)\n",
    "for k in range(tailleCat_v):\n",
    "    # la categorie #0 a le label 0 implicitement\n",
    "    if categories_v[k][0:2]=='Pr':  LabelCat_v[k] = 11#profile\n",
    "    if (categories_v[k][0:2] == 'co' or categories_v[k][0:2]=='Co'): LabelCat_v[k] = 10 #conversation_rappel_rendezvous\n",
    "    if categories_v[k][0:2] == '#1' : LabelCat_v[k] = 1\n",
    "    if categories_v[k][0:2] == '#2' : LabelCat_v[k] = 2\n",
    "    if categories_v[k][0:2] == '#5' : LabelCat_v[k] = 5\n",
    "    if categories_v[k][0:2] == '#6' : LabelCat_v[k] = 6\n",
    "    if categories_v[k][0:2] == '#7' : LabelCat_v[k] = 7\n",
    "    if categories_v[k][0:2] == '#8' : LabelCat_v[k] = 8\n",
    "    if categories_v[k][0:2] == '#9' : LabelCat_v[k] = 9\n",
    "        \n",
    "#data frame avec une colonne mettant un label suivant la meta categorie\n",
    "dfLabelCat_v = pd.DataFrame(LabelCat_v)\n",
    "meta_df_v = pd.concat([data_valid_clean, dfLabelCat_v], axis=1)\n"
   ]
  },
  {
   "cell_type": "code",
   "execution_count": 291,
   "metadata": {},
   "outputs": [],
   "source": [
    "vec,X_m = vectorizer_train(meta_df,\"Question\")\n",
    "Y_m = meta_df[0].values #les étiquettes : les catégories\n",
    "Xv_m = apply_vectorizer(meta_df_v,vec,\"Question\")\n",
    "Yv_m = meta_df_v[0].values"
   ]
  },
  {
   "cell_type": "code",
   "execution_count": 281,
   "metadata": {},
   "outputs": [
    {
     "data": {
      "text/plain": [
       "LogisticRegression(C=1, class_weight=None, dual=False, fit_intercept=True,\n",
       "          intercept_scaling=1, max_iter=100, multi_class='ovr', n_jobs=1,\n",
       "          penalty='l2', random_state=None, solver='liblinear', tol=0.0001,\n",
       "          verbose=0, warm_start=False)"
      ]
     },
     "execution_count": 281,
     "metadata": {},
     "output_type": "execute_result"
    }
   ],
   "source": [
    "cla_meta = LogisticRegression(penalty='l2', dual=False, tol=0.0001, C=1, fit_intercept=True,\n",
    "                          intercept_scaling=1, class_weight=None, random_state=None, solver='liblinear',\n",
    "                          max_iter=100, multi_class='ovr', verbose=0, warm_start=False, n_jobs=1)\n",
    "cla_meta.fit(X_m,Y_m)"
   ]
  },
  {
   "cell_type": "code",
   "execution_count": 285,
   "metadata": {},
   "outputs": [
    {
     "name": "stdout",
     "output_type": "stream",
     "text": [
      "training score = \n",
      "0.8922633562403015\n"
     ]
    }
   ],
   "source": [
    "training_score=cla_meta.score(X_m,Y_m)\n",
    "print \"training score = \"\n",
    "print training_score"
   ]
  },
  {
   "cell_type": "code",
   "execution_count": 286,
   "metadata": {},
   "outputs": [
    {
     "name": "stdout",
     "output_type": "stream",
     "text": [
      "valid score = \n",
      "0.8227091633466136\n"
     ]
    }
   ],
   "source": [
    "v_score=cla_meta.score(Xv_m,Yv_m)\n",
    "print \"valid score = \"\n",
    "print v_score"
   ]
  },
  {
   "cell_type": "markdown",
   "metadata": {},
   "source": [
    "On obtient de meilleurs resultats que précédemment"
   ]
  },
  {
   "cell_type": "markdown",
   "metadata": {},
   "source": [
    "### ci dessous les effectifs de la prédiction"
   ]
  },
  {
   "cell_type": "code",
   "execution_count": 289,
   "metadata": {},
   "outputs": [
    {
     "data": {
      "text/plain": [
       "[(6.0, 262), (2.0, 207), (10.0, 14), (9.0, 12), (7.0, 3), (5.0, 2), (8.0, 2)]"
      ]
     },
     "execution_count": 289,
     "metadata": {},
     "output_type": "execute_result"
    }
   ],
   "source": [
    "predict_meta_v=cla_meta.predict(Xv_m)\n",
    "sorted(collections.Counter(predict_meta_v).items(), key=lambda x : x[1], reverse=True)"
   ]
  },
  {
   "cell_type": "markdown",
   "metadata": {},
   "source": [
    "### Ci dessous les effectifs reels"
   ]
  },
  {
   "cell_type": "code",
   "execution_count": 292,
   "metadata": {},
   "outputs": [
    {
     "data": {
      "text/plain": [
       "[(6.0, 218),\n",
       " (2.0, 199),\n",
       " (9.0, 22),\n",
       " (10.0, 16),\n",
       " (7.0, 12),\n",
       " (1.0, 11),\n",
       " (11.0, 9),\n",
       " (5.0, 6),\n",
       " (0.0, 5),\n",
       " (8.0, 4)]"
      ]
     },
     "execution_count": 292,
     "metadata": {},
     "output_type": "execute_result"
    }
   ],
   "source": [
    "sorted(collections.Counter(meta_df_v[0]).items(), key=lambda x : x[1], reverse=True)"
   ]
  },
  {
   "cell_type": "markdown",
   "metadata": {},
   "source": [
    "pareil qu'avant il en a mis trop dans les catégories à gros effectifs et pas assez dans les petites categ"
   ]
  },
  {
   "cell_type": "markdown",
   "metadata": {},
   "source": [
    "## Roc curves pour toutes les meta"
   ]
  },
  {
   "cell_type": "code",
   "execution_count": 314,
   "metadata": {},
   "outputs": [
    {
     "name": "stdout",
     "output_type": "stream",
     "text": [
      "[[0.00622408 0.02665154 0.75778044 ... 0.05435357 0.00596944 0.00385216]\n",
      " [0.0158475  0.06044184 0.40418629 ... 0.06570504 0.02169405 0.00882513]\n",
      " [0.00673306 0.00731861 0.90464119 ... 0.00565731 0.00815273 0.00431389]\n",
      " ...\n",
      " [0.01316315 0.012876   0.43647372 ... 0.02869341 0.01627513 0.00689032]\n",
      " [0.01336035 0.00829238 0.87728487 ... 0.01398192 0.01023791 0.00515861]\n",
      " [0.00741342 0.00690018 0.82127016 ... 0.01012176 0.00860532 0.00464929]]\n"
     ]
    }
   ],
   "source": [
    "probaClasses_meta=cla_meta.predict_proba(X_m)\n",
    "print probaClasses_meta"
   ]
  },
  {
   "cell_type": "code",
   "execution_count": 326,
   "metadata": {},
   "outputs": [
    {
     "data": {
      "image/png": "[encoded data removed]",
      "text/plain": [
       "<matplotlib.figure.Figure at 0x120824d0>"
      ]
     },
     "metadata": {},
     "output_type": "display_data"
    }
   ],
   "source": [
    "l=[6.0,2.0,9.0,10.0,7.0,1.0,11.0,5.0,0.0,8.0]\n",
    "intent_bin=[]\n",
    "proba_bin=[]\n",
    "fpr=dict()\n",
    "tpr=dict()\n",
    "roc_auc=dict()\n",
    "for i in range(0,10,1):\n",
    "    intent_bin.append(np.array(meta_df[0]==l[i])*1.0)\n",
    "    proba_bin.append(probaClasses_meta[:,np.where(cla_meta.classes_==l[i])[0][0]])\n",
    "    fpr[i], tpr[i], _ = roc_curve(intent_bin[i],proba_bin[i])\n",
    "    roc_auc[i] = auc(fpr[i], tpr[i])\n",
    "    \n",
    "plt.figure(figsize=(10,10))\n",
    "colors=cycle(['aqua','darkorange','cornflowerblue','red','blue','green','black','purple','brown','magenta'])\n",
    "for i, color in zip(range(10),colors):\n",
    "    plt.plot(fpr[i], tpr[i], color=color,label='ROC curve of class {0} (area = {1:0.2f})' ''.format(i, roc_auc[i]))\n",
    "plt.plot([0, 1], [0, 1], 'k--')\n",
    "plt.xlim([0.0, 1.0])\n",
    "plt.ylim([0.0, 1.05])\n",
    "plt.xlabel('False Positive Rate')\n",
    "plt.ylabel('True Positive Rate')\n",
    "plt.title('Receiver operating characteristic example')\n",
    "plt.legend(loc=\"lower right\")\n",
    "plt.show()\n"
   ]
  },
  {
   "cell_type": "markdown",
   "metadata": {},
   "source": [
    "la categ 6 est aqua\n",
    "la plus mauvaise : verte : une categ a faible effectif\n",
    "la meilleure : magenta : une categ a faible efffectif aussi "
   ]
  },
  {
   "cell_type": "code",
   "execution_count": null,
   "metadata": {},
   "outputs": [],
   "source": []
  }
 ],
 "metadata": {
  "kernelspec": {
   "display_name": "Python 2",
   "language": "python",
   "name": "python2"
  },
  "language_info": {
   "codemirror_mode": {
    "name": "ipython",
    "version": 2
   },
   "file_extension": ".py",
   "mimetype": "text/x-python",
   "name": "python",
   "nbconvert_exporter": "python",
   "pygments_lexer": "ipython2",
   "version": "2.7.14"
  }
 },
 "nbformat": 4,
 "nbformat_minor": 2
}
