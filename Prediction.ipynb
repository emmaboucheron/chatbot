{
 "cells": [
  {
   "cell_type": "markdown",
   "metadata": {},
   "source": [
    "# Prédiction"
   ]
  },
  {
   "cell_type": "markdown",
   "metadata": {},
   "source": [
    "Ce calepin s'organise en plusieurs points :\n",
    "- on extrait de notre data frame un échantillon qui aura pour but d'apprendre le modèle et un autre qui aura pour but de tester si l'apprentissage réalisé à été bien fait\n",
    "- nettoyage basique des données et utilisation des stopwords francais courant\n",
    "- on vectorise nos données en utilisant le tf idf\n",
    "- on applique une méthode d'apprentissage, la regression logistique\n",
    "- on évalue la pertinence de nos résultats avec un score\n",
    "- on cherche à voir si ce score est significatif ( F test, courbe roc .......)"
   ]
  },
  {
   "cell_type": "code",
   "execution_count": 83,
   "metadata": {},
   "outputs": [],
   "source": [
    "#Importation des librairies utilisées\n",
    "import unicodedata \n",
    "import time\n",
    "import pandas as pd\n",
    "import numpy as np\n",
    "import random\n",
    "import nltk\n",
    "import collections\n",
    "import itertools\n",
    "import csv\n",
    "import warnings\n",
    "\n",
    "from sklearn.cross_validation import train_test_split\n",
    "from sklearn.decomposition import TruncatedSVD\n",
    "import matplotlib.pyplot as plt"
   ]
  },
  {
   "cell_type": "code",
   "execution_count": 84,
   "metadata": {
    "collapsed": true
   },
   "outputs": [],
   "source": [
    "# Répertoire de travail\n",
    "DATA_DIR = \"/home/bouchero/Documents/projet/INSA_wefight_data_clean.csv\"\n",
    "\n",
    "# Nom des fichiers\n",
    "training_reduit_path = DATA_DIR \n",
    "# Variable Globale\n",
    "HEADER_TEST = ['Question','Intent','BlockId', 'Action']\n",
    "HEADER_TRAIN =['Question','Intent','BlockId', 'Action']"
   ]
  },
  {
   "cell_type": "code",
   "execution_count": 85,
   "metadata": {},
   "outputs": [
    {
     "name": "stdout",
     "output_type": "stream",
     "text": [
      "Split Takes 0 s\n"
     ]
    },
    {
     "data": {
      "text/html": [
       "<div>\n",
       "<style scoped>\n",
       "    .dataframe tbody tr th:only-of-type {\n",
       "        vertical-align: middle;\n",
       "    }\n",
       "\n",
       "    .dataframe tbody tr th {\n",
       "        vertical-align: top;\n",
       "    }\n",
       "\n",
       "    .dataframe thead th {\n",
       "        text-align: right;\n",
       "    }\n",
       "</style>\n",
       "<table border=\"1\" class=\"dataframe\">\n",
       "  <thead>\n",
       "    <tr style=\"text-align: right;\">\n",
       "      <th></th>\n",
       "      <th>Question</th>\n",
       "      <th>Intent</th>\n",
       "      <th>BlockId</th>\n",
       "      <th>Action</th>\n",
       "    </tr>\n",
       "  </thead>\n",
       "  <tbody>\n",
       "    <tr>\n",
       "      <th>1397</th>\n",
       "      <td>quels sont les magasin de perruque</td>\n",
       "      <td>#2-49_QVDP_Alopecie_OuPerruque</td>\n",
       "      <td>598439eae4b03f0d12f637ea</td>\n",
       "      <td>wiki_cancer</td>\n",
       "    </tr>\n",
       "    <tr>\n",
       "      <th>2998</th>\n",
       "      <td>peau brulée</td>\n",
       "      <td>#6-49_TRTEINS_Peau</td>\n",
       "      <td>59918cf1e4b0feb28881fd9f</td>\n",
       "      <td>wiki_cancer</td>\n",
       "    </tr>\n",
       "    <tr>\n",
       "      <th>3520</th>\n",
       "      <td>j'ai mal à mon cathéter</td>\n",
       "      <td>#6-64_TRTEINS_PAC_Risques</td>\n",
       "      <td>5991933de4b0feb288ac2399</td>\n",
       "      <td>wiki_cancer</td>\n",
       "    </tr>\n",
       "    <tr>\n",
       "      <th>580</th>\n",
       "      <td>chirurgie reconstructice ?</td>\n",
       "      <td>#2-125_QVDP_Sexualite_Reconstruction</td>\n",
       "      <td>59918ad1e4b0feb288736b42</td>\n",
       "      <td>wiki_cancer</td>\n",
       "    </tr>\n",
       "    <tr>\n",
       "      <th>4874</th>\n",
       "      <td>Rappel moi d'aller voir mon kiné aujourd'hui à...</td>\n",
       "      <td>conversation_rappel_rendezvous</td>\n",
       "      <td>596340b8e4b0a226d0f4e811</td>\n",
       "      <td>conversation_rappelRendezVous</td>\n",
       "    </tr>\n",
       "  </tbody>\n",
       "</table>\n",
       "</div>"
      ],
      "text/plain": [
       "                                               Question  \\\n",
       "1397                 quels sont les magasin de perruque   \n",
       "2998                                        peau brulée   \n",
       "3520                            j'ai mal à mon cathéter   \n",
       "580                          chirurgie reconstructice ?   \n",
       "4874  Rappel moi d'aller voir mon kiné aujourd'hui à...   \n",
       "\n",
       "                                    Intent                   BlockId  \\\n",
       "1397        #2-49_QVDP_Alopecie_OuPerruque  598439eae4b03f0d12f637ea   \n",
       "2998                    #6-49_TRTEINS_Peau  59918cf1e4b0feb28881fd9f   \n",
       "3520             #6-64_TRTEINS_PAC_Risques  5991933de4b0feb288ac2399   \n",
       "580   #2-125_QVDP_Sexualite_Reconstruction  59918ad1e4b0feb288736b42   \n",
       "4874        conversation_rappel_rendezvous  596340b8e4b0a226d0f4e811   \n",
       "\n",
       "                             Action  \n",
       "1397                    wiki_cancer  \n",
       "2998                    wiki_cancer  \n",
       "3520                    wiki_cancer  \n",
       "580                     wiki_cancer  \n",
       "4874  conversation_rappelRendezVous  "
      ]
     },
     "execution_count": 85,
     "metadata": {},
     "output_type": "execute_result"
    }
   ],
   "source": [
    "def split_dataset(input_path, nb_line, tauxValid,columns):\n",
    "    time_start = time.time()\n",
    "    data_all = pd.read_csv(input_path,sep=\",\",names=columns,nrows=nb_line) #cree data frame\n",
    "    data_all = data_all.fillna(\"\") #remplace les na par \" \"\n",
    "    data_train, data_valid = train_test_split(data_all, test_size = tauxValid) # Split arrays or matrices into random train and test subsets\n",
    "    time_end = time.time()\n",
    "    print(\"Split Takes %d s\" %(time_end-time_start))\n",
    "    return data_train, data_valid\n",
    "\n",
    "nb_line=20000  # part totale extraite du fichier initial ici déjà réduit\n",
    "tauxValid=0.10 # part totale extraite du fichier initial ici déjà réduit\n",
    "data_train, data_valid = split_dataset(training_reduit_path, nb_line, tauxValid, HEADER_TRAIN)\n",
    "data_train.head()"
   ]
  },
  {
   "cell_type": "code",
   "execution_count": 86,
   "metadata": {
    "collapsed": true
   },
   "outputs": [],
   "source": [
    "# Librairies \n",
    "from bs4 import BeautifulSoup #Nettoyage d'HTML\n",
    "import re # Regex\n",
    "import nltk # Nettoyage des données\n",
    "\n",
    "## listes de mots à supprimer dans la description des produits\n",
    "## Depuis NLTK\n",
    "nltk_stopwords = nltk.corpus.stopwords.words('french') \n",
    "## Depuis Un fichier externe.\n",
    "lucene_stopwords = [unicode(w, \"utf-8\") for w in open(\"/home/bouchero/Documents/projet/lucene_stopwords.txt\").read().split(\",\")] #En local\n",
    "\n",
    "## Union des deux fichiers de stopwords \n",
    "stopwords = list(set(nltk_stopwords).union(set(lucene_stopwords)))\n",
    "\n",
    "## Fonction de setmming de stemming permettant la racinisation\n",
    "stemmer=nltk.stem.SnowballStemmer('french')"
   ]
  },
  {
   "cell_type": "code",
   "execution_count": 87,
   "metadata": {
    "collapsed": true
   },
   "outputs": [],
   "source": [
    "# Fonction clean générale\n",
    "def clean_txt(txt):\n",
    "    ### remove html stuff\n",
    "    txt = BeautifulSoup(txt,\"html.parser\",from_encoding='utf-8').get_text() #nettoyage donnee html\n",
    "    ### lower case\n",
    "    txt = txt.lower()\n",
    "    ### special escaping character '...'\n",
    "    txt = txt.replace(u'\\u2026','.')\n",
    "    txt = txt.replace(u'\\u00a0',' ')\n",
    "    ### remove accent btw\n",
    "    txt = unicodedata.normalize('NFD', txt).encode('ascii', 'ignore')\n",
    "    ###txt = unidecode(txt)\n",
    "    ### remove non alphanumeric char\n",
    "    txt = re.sub('[^a-z_]', ' ', txt)\n",
    "    ### remove french stop words\n",
    "    tokens = [w for w in txt.split() if (len(w)>2) and (w not in stopwords)]\n",
    "    ### french stemming\n",
    "    tokens = [stemmer.stem(token) for token in tokens]\n",
    "    #Stemmers remove morphological affixes from words, leaving only the word stem\n",
    "    ### tokens = stemmer.stemWords(tokens)\n",
    "    return ' '.join(tokens)\n",
    "    #join() returns a string in which the string elements of sequence have been joined by str separator.\n",
    "\n",
    "def clean_marque(txt):\n",
    "    txt = re.sub('[^a-zA-Z0-9]', '_', txt).lower()\n",
    "    return txt"
   ]
  },
  {
   "cell_type": "code",
   "execution_count": 88,
   "metadata": {
    "collapsed": true
   },
   "outputs": [],
   "source": [
    "# fonction de nettoyage du fichier(stemming et liste de mots à supprimer)\n",
    "def clean_df(input_data, column_names= ['Question','Intent','BlockId', 'Action']):\n",
    "    #Test if columns entry match columns names of input data\n",
    "    column_names_diff= set(column_names).difference(set(input_data.columns))\n",
    "    #set.difference   new set with elements in column_names but not in input_data.columns\n",
    "    \n",
    "    if column_names_diff: #rentre dans la boucle si column_names différent zero\n",
    "        # warning = exception\n",
    "        warnings.warn(\"Column(s) '\"+\", \".join(list(column_names_diff)) +\"' do(es) not match columns of input data\", Warning)\n",
    "        \n",
    "    nb_line = input_data.shape[0]\n",
    "    print(\"Start Clean %d lines\" %nb_line)\n",
    "    \n",
    "    # Cleaning start for each columns\n",
    "    time_start = time.time()\n",
    "    clean_list=[]\n",
    "    for column_name in column_names:\n",
    "        column = input_data[column_name].values\n",
    "        if column_name == \"Question\":\n",
    "            array_clean = np.array(map(clean_txt,column))\n",
    "            \n",
    "        elif column_name == \"Intent\":\n",
    "            array_clean = np.asarray(input_data['Intent']) #on recopie telle quelle la colonne intent  \n",
    "            \n",
    "        else:\n",
    "            array_clean = np.array(map(clean_marque,column))\n",
    "            #applies a function to all the items in an input_list\n",
    "            #map(function_to_apply, list_of_inputs)\n",
    "        clean_list.append(array_clean)\n",
    "    time_end = time.time()\n",
    "    print(\"Cleaning time: %d secondes\"%(time_end-time_start))\n",
    "    \n",
    "    #Convert list to DataFrame\n",
    "    array_clean = np.array(clean_list).T\n",
    "    data_clean = pd.DataFrame(array_clean, columns = column_names)\n",
    "    return data_clean"
   ]
  },
  {
   "cell_type": "code",
   "execution_count": 107,
   "metadata": {},
   "outputs": [
    {
     "name": "stdout",
     "output_type": "stream",
     "text": [
      "Start Clean 502 lines\n",
      "Cleaning time: 0 secondes\n",
      "Start Clean 4511 lines\n",
      "Cleaning time: 1 secondes\n"
     ]
    }
   ],
   "source": [
    "stopwords_perso = [\"veux\", \"apres\", \"faire\", \"peux\", \"dois\", \"vais\", \"peut\", \"fait\"]\n",
    "stopwords2 = list(set(stopwords).union(set(stopwords_perso)))\n",
    "\n",
    "# Fonction clean générale\n",
    "def clean_txt2(txt):\n",
    "    ### remove html stuff\n",
    "    txt = BeautifulSoup(txt,\"html.parser\",from_encoding='utf-8').get_text() #nettoyage donnee html\n",
    "    ### lower case\n",
    "    txt = txt.lower()\n",
    "    ### special escaping character '...'\n",
    "    txt = txt.replace(u'\\u2026','.')\n",
    "    txt = txt.replace(u'\\u00a0',' ')\n",
    "    ### remove accent btw\n",
    "    txt = unicodedata.normalize('NFD', txt).encode('ascii', 'ignore')\n",
    "    ###txt = unidecode(txt)\n",
    "    ### remove non alphanumeric char\n",
    "    txt = re.sub('[^a-z_]', ' ', txt)\n",
    "    ### remove french stop words\n",
    "    tokens = [w for w in txt.split() if (len(w)>2) and (w not in stopwords2)]\n",
    "    ### french stemming\n",
    "    tokens = [stemmer.stem(token) for token in tokens]\n",
    "    #Stemmers remove morphological affixes from words, leaving only the word stem\n",
    "    ### tokens = stemmer.stemWords(tokens)\n",
    "    return ' '.join(tokens)\n",
    "    #join() returns a string in which the string elements of sequence have been joined by str separator.\n",
    "\n",
    "    # fonction de nettoyage du fichier(stemming et liste de mots à supprimer)\n",
    "def clean_df2(input_data, column_names= ['Question','Intent','BlockId', 'Action']):\n",
    "    #Test if columns entry match columns names of input data\n",
    "    column_names_diff= set(column_names).difference(set(input_data.columns))\n",
    "    #set.difference   new set with elements in column_names but not in input_data.columns\n",
    "    \n",
    "    if column_names_diff: #rentre dans la boucle si column_names différent zero\n",
    "        # warning = exception\n",
    "        warnings.warn(\"Column(s) '\"+\", \".join(list(column_names_diff)) +\"' do(es) not match columns of input data\", Warning)\n",
    "        \n",
    "    nb_line = input_data.shape[0]\n",
    "    print(\"Start Clean %d lines\" %nb_line)\n",
    "    \n",
    "    # Cleaning start for each columns\n",
    "    time_start = time.time()\n",
    "    clean_list=[]\n",
    "    for column_name in column_names:\n",
    "        column = input_data[column_name].values\n",
    "        if column_name == \"Question\":\n",
    "            array_clean = np.array(map(clean_txt2,column))\n",
    "            \n",
    "        elif column_name == \"Intent\":\n",
    "            array_clean = np.asarray(input_data['Intent']) #on recopie telle quelle la colonne intent  \n",
    "            \n",
    "        else:\n",
    "            array_clean = np.array(map(clean_marque,column))\n",
    "            #applies a function to all the items in an input_list\n",
    "            #map(function_to_apply, list_of_inputs)\n",
    "        clean_list.append(array_clean)\n",
    "    time_end = time.time()\n",
    "    print(\"Cleaning time: %d secondes\"%(time_end-time_start))\n",
    "    \n",
    "    #Convert list to DataFrame\n",
    "    array_clean = np.array(clean_list).T\n",
    "    data_clean = pd.DataFrame(array_clean, columns = column_names)\n",
    "    return data_clean\n",
    "\n",
    "data_valid_clean1 = clean_df2(data_valid)\n",
    "data_train_clean1 = clean_df2(data_train)"
   ]
  },
  {
   "cell_type": "code",
   "execution_count": 90,
   "metadata": {},
   "outputs": [
    {
     "name": "stdout",
     "output_type": "stream",
     "text": [
      "Start Clean 502 lines\n",
      "Cleaning time: 0 secondes\n",
      "Start Clean 4511 lines\n",
      "Cleaning time: 1 secondes\n"
     ]
    }
   ],
   "source": [
    "# Take approximately 2 minutes fors 100.000 rows\n",
    "data_valid_clean = clean_df(data_valid)\n",
    "data_train_clean = clean_df(data_train)"
   ]
  },
  {
   "cell_type": "code",
   "execution_count": 122,
   "metadata": {
    "collapsed": true
   },
   "outputs": [],
   "source": [
    "#data_valid_clean"
   ]
  },
  {
   "cell_type": "code",
   "execution_count": 91,
   "metadata": {
    "collapsed": true
   },
   "outputs": [],
   "source": [
    "from sklearn.feature_extraction.text import TfidfVectorizer, TfidfTransformer\n",
    "from sklearn.feature_extraction import FeatureHasher"
   ]
  },
  {
   "cell_type": "code",
   "execution_count": 92,
   "metadata": {
    "collapsed": true
   },
   "outputs": [],
   "source": [
    "def vectorizer_train(df,column):\n",
    "    col = df[column]\n",
    "    # TFIDF\n",
    "    vec = TfidfVectorizer(\n",
    "            min_df = 1, #on prend tous les mots\n",
    "            stop_words =stopwords,\n",
    "            smooth_idf=True,\n",
    "            norm='l2',\n",
    "            sublinear_tf=True,\n",
    "            use_idf=True, #tf avec idf\n",
    "            ngram_range=(1,1)) \n",
    "    tfidf=vec.fit_transform(col)\n",
    "    return vec,tfidf\n",
    "\n",
    "def apply_vectorizer(df, vec, columns):\n",
    "    \n",
    "    data_hash = map(lambda x : \" \".join(x), df[columns].values)  \n",
    "    tfidf=vec.transform(df[columns])\n",
    "\n",
    "    # TFIDF\n",
    "    #tfidf=vec.transform(df)\n",
    "    return tfidf"
   ]
  },
  {
   "cell_type": "markdown",
   "metadata": {},
   "source": [
    "# prediction"
   ]
  },
  {
   "cell_type": "markdown",
   "metadata": {},
   "source": [
    "Data_train est le jeux de donnée ou l'on fait l'apprentissage, X est composé des questions. Y est le jeux de donnée d'apprentissage comprendant les labels\n",
    "\n",
    "data_valid_clean contient un échantillon de test qui consiste à valider le modele ou non,Xv est composé des questions et Yv des labels.\n"
   ]
  },
  {
   "cell_type": "code",
   "execution_count": 93,
   "metadata": {
    "collapsed": true
   },
   "outputs": [],
   "source": [
    "vec,X = vectorizer_train(data_train_clean1,\"Question\")\n",
    "Y = data_train_clean1[\"Intent\"].values #les étiquettes : les catégories\n",
    "Xv = apply_vectorizer(data_valid_clean1,vec,\"Question\")\n",
    "Yv = data_valid_clean1[\"Intent\"].values\n"
   ]
  },
  {
   "cell_type": "markdown",
   "metadata": {},
   "source": [
    "Regression logistique, pour faire apprendre au modele, on se sert alors de X et Y. Le training score est la comparaison des labels appris avec les vrai labels de X"
   ]
  },
  {
   "cell_type": "code",
   "execution_count": 94,
   "metadata": {},
   "outputs": [
    {
     "name": "stdout",
     "output_type": "stream",
     "text": [
      "('# training score:', 0.79206384393704277)\n"
     ]
    }
   ],
   "source": [
    "# Regression Logistique \n",
    "## estimation\n",
    "from sklearn.linear_model import LogisticRegression\n",
    "#si on augmente C, on augmente bcp le score\n",
    "cla = LogisticRegression(penalty='l2', dual=False, tol=0.0001, C=1, fit_intercept=True,\n",
    "                          intercept_scaling=1, class_weight=None, random_state=None, solver='liblinear',\n",
    "                          max_iter=100, multi_class='ovr', verbose=0, warm_start=False, n_jobs=1)\n",
    "cla.fit(X,Y)\n",
    "score=cla.score(X,Y)\n",
    "Y_predict = cla.predict(X)\n",
    "                \n",
    "print('# training score:',score)"
   ]
  },
  {
   "cell_type": "markdown",
   "metadata": {
    "collapsed": true
   },
   "source": [
    "On compare l'apprentissage au modele de validation, c'est validation score"
   ]
  },
  {
   "cell_type": "code",
   "execution_count": 95,
   "metadata": {},
   "outputs": [
    {
     "name": "stdout",
     "output_type": "stream",
     "text": [
      "('# validation score:', 0.62948207171314741)\n"
     ]
    }
   ],
   "source": [
    "## erreur en validation\n",
    "scoreValidation=cla.score(Xv,Yv)\n",
    "predict_v = cla.predict(Xv)\n",
    "##probleme car tfidf et Xv pas le même nbre de colonne \n",
    "print('# validation score:',scoreValidation)"
   ]
  },
  {
   "cell_type": "code",
   "execution_count": 96,
   "metadata": {},
   "outputs": [
    {
     "data": {
      "text/plain": [
       "array(['#2-107_QVDP_Grossesse', '#2-52_QVDP_Ongles', '#6-49_TRTEINS_Peau',\n",
       "       '#6-98_TRTEINS_EI_Frequents', '#2-36_QVDP_Alopecie_Pourquoi',\n",
       "       '#2-55_QVDP_Douleur', '#6-93_TRTEINS_Mauvaise_Haleine',\n",
       "       '#9-2_Informations_cancer', '#2-36_QVDP_Alopecie_Pourquoi',\n",
       "       '#2-126_QVDP_Sexualite_BaisseLibido', '#6-83_TRTEINS_Prothese',\n",
       "       '#6-49_TRTEINS_Peau', '#6-96_TRTEINS_Perte_Poids',\n",
       "       '#2-130_QVDP_Alimentation', '#6-93_TRTEINS_Mauvaise_Haleine',\n",
       "       '#2-45_QVDP_Alopecie_Perruque', '#2-36_QVDP_Alopecie_Pourquoi',\n",
       "       '#6-49_TRTEINS_Peau', '#1-4_Menu_Patient_Recent',\n",
       "       '#2-37_QVDP_Alopecie_Quand', '#9-2_Informations_cancer',\n",
       "       '#8-8_DDP_Fin_de_vie', '#6-73_TRTEINS_Chirurgie_Curage_axillaire',\n",
       "       '#6-90_TRTEINS_Mauvais_Gout', '#2-126_QVDP_Sexualite_BaisseLibido',\n",
       "       '#2-107_QVDP_Grossesse', '#6-57_TRTEINS_Yeux_Secs',\n",
       "       '#2-36_QVDP_Alopecie_Pourquoi', '#6-92_TRTEINS_Diarrhee',\n",
       "       '#6-93_TRTEINS_Mauvaise_Haleine', '#6-90_TRTEINS_Mauvais_Gout',\n",
       "       '#2-130_QVDP_Alimentation', '#2-48_QVDP_Alopecie_RbPerruque',\n",
       "       '#2-55_QVDP_Douleur', '#6-98_TRTEINS_EI_Frequents',\n",
       "       '#6-34_TRTEINS_Lymphoedeme', '#6-53_TRTEINS_Aphtes',\n",
       "       '#6-24_TRTEINS_hormonotherapie', '#6-92_TRTEINS_Diarrhee',\n",
       "       '#6-49_TRTEINS_Peau', '#6-18_TRTEINS_Radiotherapie',\n",
       "       '#6-49_TRTEINS_Peau', '#6-96_TRTEINS_Perte_Poids',\n",
       "       '#2-130_QVDP_Alimentation', '#6-49_TRTEINS_Peau',\n",
       "       '#6-86_TRTEINS_Chirurgie_Reeducation', '#2-103_QVDP_Social_Banque',\n",
       "       '#6-90_TRTEINS_Mauvais_Gout', '#5-37_Soutien_Psychologique',\n",
       "       '#2-130_QVDP_Alimentation', '#2-134_QVDP_Alimentation_Citron',\n",
       "       '#2-42_QVDP_Alopecie_Casque', '#6-96_TRTEINS_Perte_Poids',\n",
       "       '#2-36_QVDP_Alopecie_Pourquoi', 'conversation_rappel_rendezvous',\n",
       "       '#6-97_TRTEINS_Nausees_Vomissements', '#2-120_QVDP_Sexualite',\n",
       "       '#6-97_TRTEINS_Nausees_Vomissements', '#6-60_TRTEINS_PAC',\n",
       "       '#2-97_QVDP_ResteACharge', '#2-107_QVDP_Grossesse',\n",
       "       '#6-58_TRTEINS_Bouche_Seche', '#2-55_QVDP_Douleur',\n",
       "       '#6-60_TRTEINS_PAC', '#6-60_TRTEINS_PAC', '#6-83_TRTEINS_Prothese',\n",
       "       '#2-55_QVDP_Douleur', '#2-106_QVDP_Social_HAD',\n",
       "       '#2-45_QVDP_Alopecie_Perruque', '#2-64-0_QVDP_Fatigue',\n",
       "       '#6-97_TRTEINS_Nausees_Vomissements', '#2-120_QVDP_Sexualite',\n",
       "       '#2-53_QVDP_Cils', '#6-73_TRTEINS_Chirurgie_Mastectomie',\n",
       "       '#6-18_TRTEINS_Radiotherapie', '#6-1_TRTEINS_Chimiotherapie',\n",
       "       '#2-55_QVDP_Douleur', '#6-60_TRTEINS_PAC',\n",
       "       '#2-130_QVDP_Alimentation', 'conversation_rappel_rendezvous',\n",
       "       '#2-96_QVDP_Social_Priseencharge', '#2-107_QVDP_Grossesse',\n",
       "       '#9-2_Informations_cancer', '#6-1_TRTEINS_Chimiotherapie',\n",
       "       '#9-2_Informations_cancer', 'Conversation_rappel_read',\n",
       "       '#2-73_QVDP_Sport', '#2-53_QVDP_Cils',\n",
       "       '#5-37_Soutien_Psychologique', '#6-18_TRTEINS_Radiotherapie',\n",
       "       '#5-37_Soutien_Psychologique', '#2-64-0_QVDP_Fatigue',\n",
       "       '#2-36_QVDP_Alopecie_Pourquoi', '#6-34_TRTEINS_Lymphoedeme',\n",
       "       '#6-95_TRTEINS_Perte_Appetit', '#6-1_TRTEINS_Chimiotherapie',\n",
       "       'Profile_read', '#2-88_Reprise_Cycle', '#6-58_TRTEINS_Bouche_Seche',\n",
       "       '#2-36_QVDP_Alopecie_Pourquoi', '#6-53_TRTEINS_Aphtes',\n",
       "       '#2-96_QVDP_Social_Priseencharge', '#6-49_TRTEINS_Peau',\n",
       "       '#2-130_QVDP_Alimentation', '#2-64-0_QVDP_Fatigue',\n",
       "       '#2-97_QVDP_ResteACharge', '#2-36_QVDP_Alopecie_Pourquoi',\n",
       "       '#6-1_TRTEINS_Chimiotherapie', '#6-34_TRTEINS_Lymphoedeme',\n",
       "       '#2-38_QVDP_Alopecie_Repousse', '#6-53_TRTEINS_Aphtes',\n",
       "       '#6-1_TRTEINS_Chimiotherapie', '#2-122_QVDP_Sexualite_Alopecie',\n",
       "       '#6-98_TRTEINS_EI_Frequents', '#6-60_TRTEINS_PAC',\n",
       "       '#2-64-0_QVDP_Fatigue', '#6-41_TRTEINS_ManchonLymphodeme',\n",
       "       '#6-65_TRTEINS_Chirurgie', '#6-97_TRTEINS_Nausees_Vomissements',\n",
       "       '#2-97_QVDP_ResteACharge', '#7-52_Remission',\n",
       "       '#2-48_QVDP_Alopecie_RbPerruque', '#6-60_TRTEINS_PAC',\n",
       "       '#6-49_TRTEINS_Peau', '#9-2_Informations_cancer',\n",
       "       'conversation_rappel_rendezvous',\n",
       "       '#6-97_TRTEINS_Nausees_Vomissements', '#6-58_TRTEINS_Bouche_Seche',\n",
       "       '#2-58_QVDP_RadioT_Eff', '#6-1_TRTEINS_Chimiotherapie',\n",
       "       '#6-92_TRTEINS_Diarrhee', '#6-90_TRTEINS_Mauvais_Gout',\n",
       "       'Conversation_rappel_read', '#6-1_TRTEINS_Chimiotherapie',\n",
       "       '#2-102_QVDP_Social_RbPerruque', '#2-130_QVDP_Alimentation',\n",
       "       '#6-93_TRTEINS_Mauvaise_Haleine', '#2-55_QVDP_Douleur',\n",
       "       '#2-64-0_QVDP_Fatigue', '#6-24_TRTEINS_hormonotherapie',\n",
       "       '#6-90_TRTEINS_Mauvais_Gout', '#6-96_TRTEINS_Perte_Poids',\n",
       "       '#6-31_TRTEINS_Effetsecondaireshormonotherapie',\n",
       "       '#6-98_TRTEINS_EI_Frequents', '#6-18_TRTEINS_Radiotherapie',\n",
       "       '#6-49_TRTEINS_Peau', '#6-97_TRTEINS_Nausees_Vomissements',\n",
       "       '#2-38_QVDP_Alopecie_Repousse', '#2-55_QVDP_Douleur',\n",
       "       '#6-34_TRTEINS_Lymphoedeme', '#6-34_TRTEINS_Lymphoedeme',\n",
       "       '#2-48_QVDP_Alopecie_RbPerruque', '#9-2_Informations_cancer',\n",
       "       '#6-39_TRTEINS_DrainageLymphodeme', '#2-130_QVDP_Alimentation',\n",
       "       '#6-72_TRTEINS_Chirurgie_Cicatrice',\n",
       "       '#6-97_TRTEINS_Nausees_Vomissements',\n",
       "       '#2-90_QVDP_Fertilite_Ponction', '#2-130_QVDP_Alimentation',\n",
       "       '#2-45_QVDP_Alopecie_Perruque', '#6-39_TRTEINS_DrainageLymphodeme',\n",
       "       '#6-98_TRTEINS_EI_Frequents', '#6-98_TRTEINS_EI_Frequents',\n",
       "       '#2-64-0_QVDP_Fatigue', 'Profile_read',\n",
       "       '#2-36_QVDP_Alopecie_Pourquoi', '#6-49_TRTEINS_Peau',\n",
       "       '#6-49_TRTEINS_Peau', '#6-1_TRTEINS_Chimiotherapie',\n",
       "       '#2-96_QVDP_Social_Priseencharge',\n",
       "       '#2-96_QVDP_Social_Priseencharge', '#6-49_TRTEINS_Peau',\n",
       "       '#8-8_DDP_Fin_de_vie', '#2-73_QVDP_Sport', '#6-92_TRTEINS_Diarrhee',\n",
       "       '#2-38_QVDP_Alopecie_Repousse', '#6-1_TRTEINS_Chimiotherapie',\n",
       "       '#6-53_TRTEINS_Aphtes', '#2-120_QVDP_Sexualite',\n",
       "       '#6-83_TRTEINS_Prothese', '#6-49_TRTEINS_Peau',\n",
       "       '#2-130_QVDP_Alimentation', '#6-1_TRTEINS_Chimiotherapie',\n",
       "       '#6-90_TRTEINS_Mauvais_Gout', '#6-92_TRTEINS_Diarrhee',\n",
       "       '#6-49_TRTEINS_Peau', '#9-2_Informations_cancer',\n",
       "       '#2-87_QVDP_Fertilite', '#6-49_TRTEINS_Peau',\n",
       "       '#6-57_TRTEINS_Yeux_Secs', '#2-134_QVDP_Alimentation_Citron',\n",
       "       '#6-60_TRTEINS_PAC', '#2-125_QVDP_Sexualite_Reconstruction',\n",
       "       '#2-52_QVDP_Ongles', '#2-53_QVDP_Cils', '#6-49_TRTEINS_Peau',\n",
       "       '#6-49_TRTEINS_Peau', '#6-18_TRTEINS_Radiotherapie',\n",
       "       '#6-6_TRTEINS_ChimioOrale', '#6-49_TRTEINS_Peau',\n",
       "       '#6-24_TRTEINS_hormonotherapie', '#2-130_QVDP_Alimentation',\n",
       "       '#2-130_QVDP_Alimentation', '#6-97_TRTEINS_Nausees_Vomissements',\n",
       "       '#6-18_TRTEINS_Radiotherapie', '#6-49_TRTEINS_Peau',\n",
       "       '#6-98_TRTEINS_EI_Frequents', '#6-97_TRTEINS_Nausees_Vomissements',\n",
       "       '#6-92_TRTEINS_Diarrhee', '#9-2_Informations_cancer',\n",
       "       '#6-49_TRTEINS_Peau', '#6-92_TRTEINS_Diarrhee',\n",
       "       '#6-93_TRTEINS_Mauvaise_Haleine', '#2-53_QVDP_Cils',\n",
       "       'conversation_rappel_rendezvous', '#6-93_TRTEINS_Mauvaise_Haleine',\n",
       "       '#9-2_Informations_cancer', '#2-59_QVDP_RadioT_Fatigue',\n",
       "       '#2-120_QVDP_Sexualite', '#2-120_QVDP_Sexualite',\n",
       "       '#6-53_TRTEINS_Aphtes', '#2-120_QVDP_Sexualite',\n",
       "       '#6-65_TRTEINS_Chirurgie', '#2-55_QVDP_Douleur',\n",
       "       '#6-49_TRTEINS_Peau', '#2-128_QVDP_Sexualite_Couple',\n",
       "       '#9-2_Informations_cancer', '#2-120_QVDP_Sexualite',\n",
       "       '#6-73_TRTEINS_Chirurgie_Curage_axillaire',\n",
       "       '#2-36_QVDP_Alopecie_Pourquoi', '#2-55_QVDP_Douleur',\n",
       "       '#6-73_TRTEINS_Chirurgie_Mastectomie', '#2-130_QVDP_Alimentation',\n",
       "       '#6-98_TRTEINS_EI_Frequents', '#2-37_QVDP_Alopecie_Quand',\n",
       "       '#6-49_TRTEINS_Peau', '#2-64-0_QVDP_Fatigue',\n",
       "       '#6-6_TRTEINS_ChimioOrale', '#6-34_TRTEINS_Lymphoedeme',\n",
       "       '#6-96_TRTEINS_Perte_Poids', '#2-55_QVDP_Douleur',\n",
       "       '#2-73_QVDP_Sport', '#6-93_TRTEINS_Mauvaise_Haleine',\n",
       "       '#2-96_QVDP_Social_Priseencharge', '#2-45_QVDP_Alopecie_Perruque',\n",
       "       '#2-90_QVDP_Fertilite_Ponction', '#2-107_QVDP_Grossesse',\n",
       "       '#9-2_Informations_cancer', '#2-45_QVDP_Alopecie_Perruque',\n",
       "       '#2-36_QVDP_Alopecie_Pourquoi', '#6-96_TRTEINS_Perte_Poids',\n",
       "       '#2-135_QVDP_Alimentation_Alcool', '#6-49_TRTEINS_Peau',\n",
       "       '#6-53_TRTEINS_Aphtes', '#6-49_TRTEINS_Peau',\n",
       "       '#2-125_QVDP_Sexualite_Reconstruction',\n",
       "       '#6-1_TRTEINS_Chimiotherapie', '#2-120_QVDP_Sexualite',\n",
       "       '#9-2_Informations_cancer', '#2-45_QVDP_Alopecie_Perruque',\n",
       "       '#6-58_TRTEINS_Bouche_Seche', '#6-83_TRTEINS_Prothese',\n",
       "       '#2-130_QVDP_Alimentation', '#2-48_QVDP_Alopecie_RbPerruque',\n",
       "       '#6-34_TRTEINS_Lymphoedeme', '#2-36_QVDP_Alopecie_Pourquoi',\n",
       "       '#6-49_TRTEINS_Peau', '#6-49_TRTEINS_Peau',\n",
       "       '#6-57_TRTEINS_Yeux_Secs', '#2-125_QVDP_Sexualite_Reconstruction',\n",
       "       '#2-73_QVDP_Sport', '#6-60_TRTEINS_PAC',\n",
       "       '#6-98_TRTEINS_EI_Frequents', '#9-2_Informations_cancer',\n",
       "       '#2-120_QVDP_Sexualite', '#6-97_TRTEINS_Nausees_Vomissements',\n",
       "       '#6-60_TRTEINS_PAC', '#9-2_Informations_cancer',\n",
       "       '#6-97_TRTEINS_Nausees_Vomissements', '#6-96_TRTEINS_Perte_Poids',\n",
       "       'conversation_rappel_rendezvous', '#2-103_QVDP_Social_Banque',\n",
       "       '#6-97_TRTEINS_Nausees_Vomissements', '#2-87_QVDP_Fertilite',\n",
       "       '#6-60_TRTEINS_PAC', '#6-24_TRTEINS_hormonotherapie',\n",
       "       '#6-98_TRTEINS_EI_Frequents',\n",
       "       '#6-73_TRTEINS_Chirurgie_Curage_axillaire',\n",
       "       '#2-45_QVDP_Alopecie_Perruque', '#6-96_TRTEINS_Perte_Poids',\n",
       "       '#6-65_TRTEINS_Chirurgie', '#6-53_TRTEINS_Aphtes',\n",
       "       '#6-73_TRTEINS_Chirurgie_Mastectomie',\n",
       "       '#6-1_TRTEINS_Chimiotherapie', '#2-64-0_QVDP_Fatigue',\n",
       "       '#6-18_TRTEINS_Radiotherapie', '#6-97_TRTEINS_Nausees_Vomissements',\n",
       "       '#9-2_Informations_cancer', '#6-49_TRTEINS_Peau',\n",
       "       '#9-2_Informations_cancer', '#2-45_QVDP_Alopecie_Perruque',\n",
       "       '#2-96_QVDP_Social_Priseencharge', '#2-73_QVDP_Sport',\n",
       "       '#2-53_QVDP_Cils', '#6-98_TRTEINS_EI_Frequents',\n",
       "       '#6-67_TRTEINS_Chirurgie_Questions', '#6-83_TRTEINS_Prothese',\n",
       "       '#6-18_TRTEINS_Radiotherapie', '#2-73_QVDP_Sport',\n",
       "       '#6-92_TRTEINS_Diarrhee', '#2-115_QVDP_Grossesse_Allaitement',\n",
       "       '#6-49_TRTEINS_Peau', '#6-92_TRTEINS_Diarrhee',\n",
       "       '#2-128_QVDP_Sexualite_Couple', '#2-45_QVDP_Alopecie_Perruque',\n",
       "       '#9-2_Informations_cancer', '#6-49_TRTEINS_Peau',\n",
       "       '#6-1_TRTEINS_Chimiotherapie',\n",
       "       '#6-73_TRTEINS_Chirurgie_Mastectomie', '#2-130_QVDP_Alimentation',\n",
       "       '#2-121_QVDP_Sexualite_Cicatrice', 'conversation_rappel_rendezvous',\n",
       "       'conversation_rappel_rendezvous', '#6-1_TRTEINS_Chimiotherapie',\n",
       "       '#2-130_QVDP_Alimentation', '#6-34_TRTEINS_Lymphoedeme',\n",
       "       '#6-24_TRTEINS_hormonotherapie', '#9-2_Informations_cancer',\n",
       "       '#6-60_TRTEINS_PAC', '#6-49_TRTEINS_Peau',\n",
       "       '#2-133_QVDP_RegimeAnticancer',\n",
       "       '#2-118_QVDP_Grossesse_Malformations', '#6-49_TRTEINS_Peau',\n",
       "       '#8-8_DDP_Fin_de_vie', '#6-1_TRTEINS_Chimiotherapie',\n",
       "       '#6-18_TRTEINS_Radiotherapie', '#6-39_TRTEINS_DrainageLymphodeme',\n",
       "       '#2-64-0_QVDP_Fatigue', '#2-45_QVDP_Alopecie_Perruque',\n",
       "       '#9-53_Informations_depistagesein', '#2-90_QVDP_Fertilite_Ponction',\n",
       "       '#6-41_TRTEINS_ManchonLymphodeme', '#6-98_TRTEINS_EI_Frequents',\n",
       "       '#2-73_QVDP_Sport', '#2-64-0_QVDP_Fatigue',\n",
       "       '#2-36_QVDP_Alopecie_Pourquoi',\n",
       "       '#6-73_TRTEINS_Chirurgie_Mastectomie', '#9-2_Informations_cancer',\n",
       "       '#6-41_TRTEINS_ManchonLymphodeme', '#2-130_QVDP_Alimentation',\n",
       "       '#2-96_QVDP_Social_Priseencharge', '#2-75_QVDP_SportPrecautions',\n",
       "       '#2-130_QVDP_Alimentation', '#6-98_TRTEINS_EI_Frequents',\n",
       "       '#2-126_QVDP_Sexualite_BaisseLibido',\n",
       "       '#6-23_TRTEINS_SeanceRadiotherapie',\n",
       "       '#6-97_TRTEINS_Nausees_Vomissements', '#2-130_QVDP_Alimentation',\n",
       "       '#6-53_TRTEINS_Aphtes', '#6-53_TRTEINS_Aphtes',\n",
       "       '#6-58_TRTEINS_Bouche_Seche', '#2-130_QVDP_Alimentation',\n",
       "       '#2-115_QVDP_Grossesse_Allaitement', '#2-130_QVDP_Alimentation',\n",
       "       '#2-107_QVDP_Grossesse', 'Profile_read', '#2-130_QVDP_Alimentation',\n",
       "       '#6-1_TRTEINS_Chimiotherapie', '#2-72_QVDP_Fatigue_Sieste',\n",
       "       '#6-12_TRTEINS_ChimioAmbulatoire', '#6-65_TRTEINS_Chirurgie',\n",
       "       '#6-96_TRTEINS_Perte_Poids', '#9-2_Informations_cancer',\n",
       "       '#2-125_QVDP_Sexualite_Reconstruction', '#6-49_TRTEINS_Peau',\n",
       "       '#2-73_QVDP_Sport', '#2-96_QVDP_Social_Priseencharge',\n",
       "       '#2-36_QVDP_Alopecie_Pourquoi', '#6-83_TRTEINS_Prothese',\n",
       "       '#6-49_TRTEINS_Peau', '#6-49_TRTEINS_Peau',\n",
       "       '#6-58_TRTEINS_Bouche_Seche', '#2-130_QVDP_Alimentation',\n",
       "       'conversation_rappel_rendezvous',\n",
       "       '#9-53_Informations_depistagesein', '#2-41_QVDP_Alopecie_Diminuer',\n",
       "       '#8-6_DDP_Consentement_eclaire', '#2-87_QVDP_Fertilite',\n",
       "       '#6-49_TRTEINS_Peau', '#2-88_Reprise_Cycle', '#6-49_TRTEINS_Peau',\n",
       "       '#6-49_TRTEINS_Peau', '#6-18_TRTEINS_Radiotherapie',\n",
       "       '#6-41_TRTEINS_ManchonLymphodeme', '#2-64-0_QVDP_Fatigue',\n",
       "       '#6-18_TRTEINS_Radiotherapie', '#6-24_TRTEINS_hormonotherapie',\n",
       "       '#2-58_QVDP_RadioT_Eff', '#2-45_QVDP_Alopecie_Perruque',\n",
       "       '#6-97_TRTEINS_Nausees_Vomissements', '#6-92_TRTEINS_Diarrhee',\n",
       "       '#2-52_QVDP_Ongles', '#6-49_TRTEINS_Peau', '#6-49_TRTEINS_Peau',\n",
       "       '#2-101_QVDP_Social_RbProthese', '#9-53_Informations_depistagesein',\n",
       "       '#6-1_TRTEINS_Chimiotherapie', '#2-107_QVDP_Grossesse',\n",
       "       '#2-36_QVDP_Alopecie_Pourquoi', '#2-48_QVDP_Alopecie_RbPerruque',\n",
       "       '#2-125_QVDP_Sexualite_Reconstruction', '#2-79_QVDP_SportQuel',\n",
       "       '#2-38_QVDP_Alopecie_Repousse', '#6-96_TRTEINS_Perte_Poids',\n",
       "       '#9-2_Informations_cancer', '#6-98_TRTEINS_EI_Frequents',\n",
       "       '#6-60_TRTEINS_PAC', '#6-49_TRTEINS_Peau',\n",
       "       '#6-18_TRTEINS_Radiotherapie', '#6-92_TRTEINS_Diarrhee',\n",
       "       '#5-37_Soutien_Psychologique', '#6-98_TRTEINS_EI_Frequents',\n",
       "       '#9-2_Informations_cancer', '#2-36_QVDP_Alopecie_Pourquoi',\n",
       "       '#6-53_TRTEINS_Aphtes', '#9-2_Informations_cancer',\n",
       "       '#2-73_QVDP_Sport', '#6-1_TRTEINS_Chimiotherapie',\n",
       "       '#6-73_TRTEINS_Chirurgie_Curage_axillaire', '#2-120_QVDP_Sexualite',\n",
       "       '#6-1_TRTEINS_Chimiotherapie', '#6-49_TRTEINS_Peau',\n",
       "       '#6-58_TRTEINS_Bouche_Seche', '#2-64-0_QVDP_Fatigue',\n",
       "       '#6-95_TRTEINS_Perte_Appetit', '#6-53_TRTEINS_Aphtes',\n",
       "       '#2-115_QVDP_Grossesse_Allaitement', '#6-49_TRTEINS_Peau',\n",
       "       '#6-57_TRTEINS_Yeux_Secs', '#6-60_TRTEINS_PAC',\n",
       "       '#2-36_QVDP_Alopecie_Pourquoi', '#6-24_TRTEINS_hormonotherapie',\n",
       "       '#6-40_TRTEINS_PressotherapieLymphodeme', '#6-49_TRTEINS_Peau',\n",
       "       '#6-60_TRTEINS_PAC', '#6-92_TRTEINS_Diarrhee',\n",
       "       '#2-37_QVDP_Alopecie_Quand', '#6-24_TRTEINS_hormonotherapie',\n",
       "       '#6-73_TRTEINS_Chirurgie_Mastectomie', '#9-2_Informations_cancer',\n",
       "       '#6-1_TRTEINS_Chimiotherapie', '#6-41_TRTEINS_ManchonLymphodeme',\n",
       "       '#2-52_QVDP_Ongles', '#2-107_QVDP_Grossesse',\n",
       "       '#2-58_QVDP_RadioT_Eff', '#6-49_TRTEINS_Peau',\n",
       "       '#6-57_TRTEINS_Yeux_Secs', '#6-92_TRTEINS_Diarrhee',\n",
       "       '#2-48_QVDP_Alopecie_RbPerruque', '#2-36_QVDP_Alopecie_Pourquoi',\n",
       "       '#6-53_TRTEINS_Aphtes', '#6-53_TRTEINS_Aphtes',\n",
       "       '#6-49_TRTEINS_Peau', '#6-97_TRTEINS_Nausees_Vomissements',\n",
       "       '#6-58_TRTEINS_Bouche_Seche', '#9-2_Informations_cancer',\n",
       "       '#2-53_QVDP_Cils', '#2-115_QVDP_Grossesse_Allaitement',\n",
       "       '#6-49_TRTEINS_Peau', '#6-23_TRTEINS_SeanceRadiotherapie',\n",
       "       '#6-49_TRTEINS_Peau', '#6-49_TRTEINS_Peau',\n",
       "       '#6-24_TRTEINS_hormonotherapie', '#6-34_TRTEINS_Lymphoedeme',\n",
       "       '#2-49_QVDP_Alopecie_OuPerruque',\n",
       "       '#2-115_QVDP_Grossesse_Allaitement', '#9-2_Informations_cancer',\n",
       "       '#6-49_TRTEINS_Peau', '#2-36_QVDP_Alopecie_Pourquoi',\n",
       "       '#9-2_Informations_cancer', '#2-96_QVDP_Social_Priseencharge',\n",
       "       '#7-49_QVDA_Personne_de_confiance', '#2-36_QVDP_Alopecie_Pourquoi',\n",
       "       '#2-118_QVDP_Grossesse_Malformations', '#2-64-0_QVDP_Fatigue',\n",
       "       'Conversation_rappel_read', '#2-38_QVDP_Alopecie_Repousse',\n",
       "       '#6-60_TRTEINS_PAC', '#2-96_QVDP_Social_Priseencharge',\n",
       "       '#6-96_TRTEINS_Perte_Poids', '#2-120_QVDP_Sexualite',\n",
       "       'conversation_rappel_rendezvous', '#6-49_TRTEINS_Peau',\n",
       "       'conversation_rappel_rendezvous',\n",
       "       '#6-73_TRTEINS_Chirurgie_Mastectomie',\n",
       "       '#2-128_QVDP_Sexualite_Couple', 'conversation_rappel_rendezvous',\n",
       "       '#2-84_QVDP_Fertilite_GrossesseApresCancer',\n",
       "       '#6-98_TRTEINS_EI_Frequents', '#6-49_TRTEINS_Peau',\n",
       "       '#1-5_Menu_Aidant', '#2-123_QVDP_Sexualite_Prothese'], dtype=object)"
      ]
     },
     "execution_count": 96,
     "metadata": {},
     "output_type": "execute_result"
    }
   ],
   "source": [
    "predict_v #la classe prédite pour chaque question à prédire : résultat de la prédiction"
   ]
  },
  {
   "cell_type": "code",
   "execution_count": 97,
   "metadata": {},
   "outputs": [
    {
     "name": "stdout",
     "output_type": "stream",
     "text": [
      "[[ 0.00293525  0.00153758  0.00762176 ...,  0.00166318  0.00549998\n",
      "   0.00153556]\n",
      " [ 0.00228889  0.00114509  0.00543398 ...,  0.00124648  0.00465871\n",
      "   0.00114352]\n",
      " [ 0.00423235  0.0019815   0.01182836 ...,  0.00217304  0.00970542\n",
      "   0.00197859]\n",
      " ..., \n",
      " [ 0.00337201  0.0017519   0.00722959 ...,  0.00260597  0.0066691\n",
      "   0.00174841]\n",
      " [ 0.00392808  0.00184863  0.01083295 ...,  0.00202649  0.00891042\n",
      "   0.00184593]\n",
      " [ 0.00266087  0.00132298  0.00633816 ...,  0.00143929  0.00545523\n",
      "   0.00132115]]\n"
     ]
    },
    {
     "data": {
      "text/plain": [
       "(array([102]),)"
      ]
     },
     "execution_count": 97,
     "metadata": {},
     "output_type": "execute_result"
    }
   ],
   "source": [
    "probaClasses = cla.predict_proba(Xv)\n",
    "print probaClasses #sur chq ligne une question prédire : les probas d'appartenance à chaque classe\n",
    "np.where(cla.classes_=='#6-86_TRTEINS_Chirurgie_Reeducation')"
   ]
  },
  {
   "cell_type": "markdown",
   "metadata": {},
   "source": [
    "##### Ci dessous le nombres de questions prédites dans chq classe par le modèle, sur les données de validation : "
   ]
  },
  {
   "cell_type": "code",
   "execution_count": 98,
   "metadata": {
    "scrolled": true
   },
   "outputs": [
    {
     "data": {
      "text/plain": [
       "[('#6-49_TRTEINS_Peau', 51),\n",
       " ('#9-2_Informations_cancer', 27),\n",
       " ('#2-130_QVDP_Alimentation', 23),\n",
       " ('#6-1_TRTEINS_Chimiotherapie', 20),\n",
       " ('#2-36_QVDP_Alopecie_Pourquoi', 20),\n",
       " ('#6-98_TRTEINS_EI_Frequents', 16),\n",
       " ('#6-97_TRTEINS_Nausees_Vomissements', 16),\n",
       " ('#6-60_TRTEINS_PAC', 15),\n",
       " ('#6-92_TRTEINS_Diarrhee', 13),\n",
       " ('#2-64-0_QVDP_Fatigue', 13),\n",
       " ('#6-53_TRTEINS_Aphtes', 13),\n",
       " ('#6-18_TRTEINS_Radiotherapie', 12),\n",
       " ('#2-120_QVDP_Sexualite', 11),\n",
       " ('#2-45_QVDP_Alopecie_Perruque', 11),\n",
       " ('#6-96_TRTEINS_Perte_Poids', 11),\n",
       " ('conversation_rappel_rendezvous', 11),\n",
       " ('#2-55_QVDP_Douleur', 10),\n",
       " ('#2-96_QVDP_Social_Priseencharge', 10),\n",
       " ('#6-34_TRTEINS_Lymphoedeme', 9),\n",
       " ('#6-24_TRTEINS_hormonotherapie', 9),\n",
       " ('#2-73_QVDP_Sport', 9),\n",
       " ('#6-58_TRTEINS_Bouche_Seche', 8),\n",
       " ('#2-107_QVDP_Grossesse', 8),\n",
       " ('#6-73_TRTEINS_Chirurgie_Mastectomie', 7),\n",
       " ('#6-93_TRTEINS_Mauvaise_Haleine', 7),\n",
       " ('#2-48_QVDP_Alopecie_RbPerruque', 6),\n",
       " ('#6-90_TRTEINS_Mauvais_Gout', 6),\n",
       " ('#6-83_TRTEINS_Prothese', 6),\n",
       " ('#2-53_QVDP_Cils', 6),\n",
       " ('#6-41_TRTEINS_ManchonLymphodeme', 5),\n",
       " ('#2-115_QVDP_Grossesse_Allaitement', 5),\n",
       " ('#2-125_QVDP_Sexualite_Reconstruction', 5),\n",
       " ('#6-57_TRTEINS_Yeux_Secs', 5),\n",
       " ('#2-38_QVDP_Alopecie_Repousse', 5),\n",
       " ('#5-37_Soutien_Psychologique', 4),\n",
       " ('#2-52_QVDP_Ongles', 4),\n",
       " ('#6-65_TRTEINS_Chirurgie', 4),\n",
       " ('#6-73_TRTEINS_Chirurgie_Curage_axillaire', 4),\n",
       " ('Profile_read', 3),\n",
       " ('#2-97_QVDP_ResteACharge', 3),\n",
       " ('#9-53_Informations_depistagesein', 3),\n",
       " ('#2-126_QVDP_Sexualite_BaisseLibido', 3),\n",
       " ('#6-39_TRTEINS_DrainageLymphodeme', 3),\n",
       " ('#8-8_DDP_Fin_de_vie', 3),\n",
       " ('#2-128_QVDP_Sexualite_Couple', 3),\n",
       " ('#2-58_QVDP_RadioT_Eff', 3),\n",
       " ('#2-87_QVDP_Fertilite', 3),\n",
       " ('#2-90_QVDP_Fertilite_Ponction', 3),\n",
       " ('#2-37_QVDP_Alopecie_Quand', 3),\n",
       " ('Conversation_rappel_read', 3),\n",
       " ('#2-88_Reprise_Cycle', 2),\n",
       " ('#2-134_QVDP_Alimentation_Citron', 2),\n",
       " ('#6-95_TRTEINS_Perte_Appetit', 2),\n",
       " ('#2-118_QVDP_Grossesse_Malformations', 2),\n",
       " ('#2-103_QVDP_Social_Banque', 2),\n",
       " ('#6-6_TRTEINS_ChimioOrale', 2),\n",
       " ('#6-23_TRTEINS_SeanceRadiotherapie', 2),\n",
       " ('#2-135_QVDP_Alimentation_Alcool', 1),\n",
       " ('#2-72_QVDP_Fatigue_Sieste', 1),\n",
       " ('#2-101_QVDP_Social_RbProthese', 1),\n",
       " ('#6-31_TRTEINS_Effetsecondaireshormonotherapie', 1),\n",
       " ('#1-5_Menu_Aidant', 1),\n",
       " ('#2-41_QVDP_Alopecie_Diminuer', 1),\n",
       " ('#2-133_QVDP_RegimeAnticancer', 1),\n",
       " ('#2-59_QVDP_RadioT_Fatigue', 1),\n",
       " ('#6-72_TRTEINS_Chirurgie_Cicatrice', 1),\n",
       " ('#1-4_Menu_Patient_Recent', 1),\n",
       " ('#2-121_QVDP_Sexualite_Cicatrice', 1),\n",
       " ('#8-6_DDP_Consentement_eclaire', 1),\n",
       " ('#2-122_QVDP_Sexualite_Alopecie', 1),\n",
       " ('#2-49_QVDP_Alopecie_OuPerruque', 1),\n",
       " ('#2-79_QVDP_SportQuel', 1),\n",
       " ('#2-123_QVDP_Sexualite_Prothese', 1),\n",
       " ('#2-102_QVDP_Social_RbPerruque', 1),\n",
       " ('#6-86_TRTEINS_Chirurgie_Reeducation', 1),\n",
       " ('#7-49_QVDA_Personne_de_confiance', 1),\n",
       " ('#6-40_TRTEINS_PressotherapieLymphodeme', 1),\n",
       " ('#2-106_QVDP_Social_HAD', 1),\n",
       " ('#2-75_QVDP_SportPrecautions', 1),\n",
       " ('#6-12_TRTEINS_ChimioAmbulatoire', 1),\n",
       " ('#2-42_QVDP_Alopecie_Casque', 1),\n",
       " ('#6-67_TRTEINS_Chirurgie_Questions', 1),\n",
       " ('#2-84_QVDP_Fertilite_GrossesseApresCancer', 1),\n",
       " ('#7-52_Remission', 1)]"
      ]
     },
     "execution_count": 98,
     "metadata": {},
     "output_type": "execute_result"
    }
   ],
   "source": [
    "#on regarde comment on a predit Xv qui est notre modele de validation\n",
    "#sur les données de validation, \n",
    "sorted(collections.Counter(predict_v).items(), key=lambda x : x[1], reverse=True)"
   ]
  },
  {
   "cell_type": "markdown",
   "metadata": {},
   "source": [
    "##### Ci dessous le nombres de questions qu'il y avait vraiment dans chq classe, sur les données de validation : "
   ]
  },
  {
   "cell_type": "code",
   "execution_count": 99,
   "metadata": {},
   "outputs": [
    {
     "data": {
      "text/plain": [
       "[('#6-49_TRTEINS_Peau', 17),\n",
       " ('#6-97_TRTEINS_Nausees_Vomissements', 16),\n",
       " ('#2-130_QVDP_Alimentation', 15),\n",
       " ('#6-53_TRTEINS_Aphtes', 14),\n",
       " ('#6-60_TRTEINS_PAC', 14),\n",
       " ('#6-1_TRTEINS_Chimiotherapie', 13),\n",
       " ('#2-45_QVDP_Alopecie_Perruque', 13),\n",
       " ('#9-2_Informations_cancer', 12),\n",
       " ('#6-92_TRTEINS_Diarrhee', 12),\n",
       " ('#6-96_TRTEINS_Perte_Poids', 12),\n",
       " ('conversation_rappel_rendezvous', 12),\n",
       " ('#2-36_QVDP_Alopecie_Pourquoi', 11),\n",
       " ('#2-107_QVDP_Grossesse', 10),\n",
       " ('#2-61_QVDP_RadioT_Peau', 10),\n",
       " ('#6-18_TRTEINS_Radiotherapie', 9),\n",
       " ('#6-24_TRTEINS_hormonotherapie', 9),\n",
       " ('#2-96_QVDP_Social_Priseencharge', 8),\n",
       " ('#6-90_TRTEINS_Mauvais_Gout', 8),\n",
       " ('#2-120_QVDP_Sexualite', 8),\n",
       " ('#2-64-0_QVDP_Fatigue', 8),\n",
       " ('#5-37_Soutien_Psychologique', 7),\n",
       " ('#6-57_TRTEINS_Yeux_Secs', 7),\n",
       " ('#2-37_QVDP_Alopecie_Quand', 7),\n",
       " ('#6-58_TRTEINS_Bouche_Seche', 7),\n",
       " ('#6-93_TRTEINS_Mauvaise_Haleine', 7),\n",
       " ('#2-55_QVDP_Douleur', 6),\n",
       " ('#9-53_Informations_depistagesein', 6),\n",
       " ('#2-53_QVDP_Cils', 6),\n",
       " ('#6-73_TRTEINS_Chirurgie_Mastectomie', 6),\n",
       " ('#6-98_TRTEINS_EI_Frequents', 6),\n",
       " ('#2-126_QVDP_Sexualite_BaisseLibido', 6),\n",
       " ('#2-128_QVDP_Sexualite_Couple', 6),\n",
       " ('#2-79_QVDP_SportQuel', 6),\n",
       " ('#6-34_TRTEINS_Lymphoedeme', 6),\n",
       " ('#2-125_QVDP_Sexualite_Reconstruction', 5),\n",
       " ('#2-73_QVDP_Sport', 5),\n",
       " ('#2-70_QVDP_Fatigue_Diminuer', 5),\n",
       " ('#2-101_QVDP_Social_RbProthese', 5),\n",
       " ('#2-115_QVDP_Grossesse_Allaitement', 5),\n",
       " ('#6-63_TRTEINS_PAC_Precautions', 4),\n",
       " ('#6-31_TRTEINS_Effetsecondaireshormonotherapie', 4),\n",
       " ('#2-52_QVDP_Ongles', 4),\n",
       " ('#001_Gestion_Abonnement', 4),\n",
       " ('#2-49_QVDP_Alopecie_OuPerruque', 4),\n",
       " ('#2-38_QVDP_Alopecie_Repousse', 4),\n",
       " ('#2-133_QVDP_RegimeAnticancer', 4),\n",
       " ('#2-93_QVDP_Social_Proches', 4),\n",
       " ('#6-65_TRTEINS_Chirurgie', 4),\n",
       " ('#2-41_QVDP_Alopecie_Diminuer', 4),\n",
       " ('#6-73_TRTEINS_Chirurgie_Curage_axillaire', 4),\n",
       " ('#2-84_QVDP_Fertilite_GrossesseApresCancer', 4),\n",
       " ('#2-97_QVDP_ResteACharge', 3),\n",
       " ('#2-75_QVDP_SportPrecautions', 3),\n",
       " ('#6-39_TRTEINS_DrainageLymphodeme', 3),\n",
       " ('#6-37_TRTEINS_TrtLymphodeme', 3),\n",
       " ('Profile_read', 3),\n",
       " ('Conversation_rappel_read', 3),\n",
       " ('#2-48_QVDP_Alopecie_RbPerruque', 3),\n",
       " ('#6-95_TRTEINS_Perte_Appetit', 3),\n",
       " ('#6-83_TRTEINS_Prothese', 3),\n",
       " ('#2-88_QVDP_Fertilite_Cycles', 3),\n",
       " ('#2-60_QVDP_RadioT_Diarrh\\xc3\\x83\\xc2\\xa9e', 2),\n",
       " ('#1-5_Menu_Aidant', 2),\n",
       " ('#6-41_TRTEINS_ManchonLymphodeme', 2),\n",
       " ('#6-6_TRTEINS_ChimioOrale', 2),\n",
       " ('#2-58_QVDP_RadioT_Eff', 2),\n",
       " ('#6-9_TRTEINS_ChimioIntraperitoneale', 2),\n",
       " ('#6-72_TRTEINS_Chirurgie_Cicatrice', 2),\n",
       " ('#8-8_DDP_Fin_de_vie', 2),\n",
       " ('#2-121_QVDP_Sexualite_Cicatrice', 2),\n",
       " ('#2-103_QVDP_Social_Banque', 2),\n",
       " ('#1-8_Menu_Traitement', 2),\n",
       " ('Profile_update', 2),\n",
       " ('#2-134_QVDP_Alimentation_Citron', 2),\n",
       " ('Profile_write_doseTraitement', 2),\n",
       " ('#6-8_TRTEINS_Intrathecale', 2),\n",
       " ('#6-43_TRTEINS_PrixManchon', 2),\n",
       " ('#2-90_QVDP_Fertilite_Ponction', 2),\n",
       " ('#2-64_QVDP_Fatigue_Chimio', 2),\n",
       " ('#6-12_TRTEINS_ChimioAmbulatoire', 2),\n",
       " ('#6-22_TRTEINS_EffetsecondairesRadiotherapie', 2),\n",
       " ('#2-87_QVDP_Fertilite', 2),\n",
       " ('#2-102_QVDP_Social_RbPerruque', 2),\n",
       " ('#2-111_QVDP_Grossesse_Chirurgie', 2),\n",
       " ('#2-42_QVDP_Alopecie_Casque', 2),\n",
       " ('#2-135_QVDP_Alimentation_Alcool', 1),\n",
       " ('#6-35_TRTEINS_PrevenirLymphoedeme', 1),\n",
       " ('#6-44_TRTEINS_AllergieManchon', 1),\n",
       " ('#2-122_QVDP_Sexualite_Alopecie', 1),\n",
       " ('#6-5_TRTEINS_ChimioInjectable', 1),\n",
       " ('#2-118_QVDP_Grossesse_Malformations', 1),\n",
       " ('#6-67_TRTEINS_Chirurgie_Questions', 1),\n",
       " ('#2-137_QVDP_Alimentation_Remboursement', 1),\n",
       " ('#2-100_QVDP_Social_Transports', 1),\n",
       " ('#6-40_TRTEINS_PressotherapieLymphodeme', 1),\n",
       " ('#2-47_QVDP_Alopecie_CoutPerruque', 1),\n",
       " ('#8-6_DDP_Consentement_eclaire', 1),\n",
       " ('#6-86_TRTEINS_Chirurgie_Reeducation', 1),\n",
       " ('#6-91_TRTEINS_Ballonnement', 1),\n",
       " ('#7-52_Remission', 1),\n",
       " ('#2-59_QVDP_RadioT_Fatigue', 1),\n",
       " ('#2-123_QVDP_Sexualite_Prothese', 1),\n",
       " ('#2-110_QVDP_Grossesse_Radiotherapie', 1),\n",
       " ('#7-60_QVDA_Soins_Palliatifs', 1),\n",
       " ('#2-72_QVDP_Fatigue_Sieste', 1),\n",
       " ('#2-124_QVDP_Sexualite_PerteConfiance', 1),\n",
       " ('#7-49_QVDA_Personne_de_confiance', 1),\n",
       " ('#6-33_TRTEINS_Lymphe', 1),\n",
       " ('#6-23_TRTEINS_SeanceRadiotherapie', 1),\n",
       " ('#6-81_TRTEINS_Chirurgie_Mastectomie_risques', 1),\n",
       " ('#6-13_TRTEINS_PreparationChimio', 1),\n",
       " ('#6-94_TRTEINS_Deglutition', 1),\n",
       " ('Conversation_rappel_update2', 1),\n",
       " ('#2-112_QVDP_Grossesse_Hormonotherapie', 1),\n",
       " ('#2-85_QVDP_Fertilite_Preserver', 1),\n",
       " ('#6-2_TRTEINS_Cycles', 1)]"
      ]
     },
     "execution_count": 99,
     "metadata": {},
     "output_type": "execute_result"
    }
   ],
   "source": [
    "sorted(collections.Counter(data_valid_clean1[\"Intent\"]).items(), key=lambda x : x[1], reverse=True)"
   ]
  },
  {
   "cell_type": "markdown",
   "metadata": {},
   "source": [
    "On voit clairement que l'apprentissage est mal fait, on range toutes les petites catégories dans la plus grosse."
   ]
  },
  {
   "cell_type": "code",
   "execution_count": null,
   "metadata": {
    "collapsed": true
   },
   "outputs": [],
   "source": []
  },
  {
   "cell_type": "code",
   "execution_count": null,
   "metadata": {
    "collapsed": true
   },
   "outputs": [],
   "source": []
  },
  {
   "cell_type": "markdown",
   "metadata": {},
   "source": [
    "### F test\n",
    "\n",
    "precision (also called positive predictive value) is the fraction of relevant instances among the retrieved (= extrait) instances\n",
    "\n",
    "\n",
    "\n",
    "recall (also known as sensitivity or true positive rate) is the fraction of relevant instances that have been retrieved over the total amount of relevant instances. Both precision and recall are therefore based on an understanding and measure of relevance.\n",
    "\n",
    "\n",
    "Specificity (also called the true negative rate) measures the proportion of negatives that are correctly identified as such\n",
    "\n",
    "\n",
    "\n",
    "Example : Suppose a computer program for recognizing dogs in photographs identifies 8 dogs in a picture containing 12 dogs and some cats. Of the 8 dogs identified, 5 actually are dogs (true positives), while the rest are cats (false positives). The program's precision is 5/8 while its recall is 5/12"
   ]
  },
  {
   "cell_type": "code",
   "execution_count": 43,
   "metadata": {
    "collapsed": true
   },
   "outputs": [],
   "source": [
    "from sklearn.metrics import recall_score\n",
    "from sklearn.metrics import f1_score\n",
    "from sklearn.metrics import *"
   ]
  },
  {
   "cell_type": "code",
   "execution_count": 44,
   "metadata": {
    "collapsed": true
   },
   "outputs": [],
   "source": [
    "#construction de l'ensemble des labels\n",
    "labelsYv = np.unique(Yv)\n",
    "labelsYv = labelsYv.tolist()"
   ]
  },
  {
   "cell_type": "code",
   "execution_count": 45,
   "metadata": {},
   "outputs": [
    {
     "name": "stdout",
     "output_type": "stream",
     "text": [
      "('recall score', 0.68525896414342624)\n"
     ]
    }
   ],
   "source": [
    "#recall\n",
    "Recallscore = recall_score(Yv, predict_v ,labels = labelsYv, average = 'weighted')\n",
    "print('recall score', Recallscore)"
   ]
  },
  {
   "cell_type": "code",
   "execution_count": 46,
   "metadata": {},
   "outputs": [
    {
     "name": "stdout",
     "output_type": "stream",
     "text": [
      "('accuracy score', 0.68525896414342624)\n"
     ]
    }
   ],
   "source": [
    "#accuracy\n",
    "Accuracyscore = accuracy_score(Yv, predict_v, normalize = True)\n",
    "print('accuracy score', Accuracyscore)"
   ]
  },
  {
   "cell_type": "code",
   "execution_count": 47,
   "metadata": {},
   "outputs": [
    {
     "name": "stdout",
     "output_type": "stream",
     "text": [
      "('precision', 0.68733122249223422)\n"
     ]
    },
    {
     "name": "stderr",
     "output_type": "stream",
     "text": [
      "/usr/local/insa/anaconda/envs/py27/lib/python2.7/site-packages/sklearn/metrics/classification.py:1135: UndefinedMetricWarning: Precision is ill-defined and being set to 0.0 in labels with no predicted samples.\n",
      "  'precision', 'predicted', average, warn_for)\n"
     ]
    }
   ],
   "source": [
    "#precision\n",
    "Precisionscore= precision_score(Yv, predict_v, average='weighted')\n",
    "print ('precision',Precisionscore)"
   ]
  },
  {
   "cell_type": "code",
   "execution_count": 48,
   "metadata": {},
   "outputs": [
    {
     "name": "stdout",
     "output_type": "stream",
     "text": [
      "('# f1 score:', 0.65491351361228711)\n"
     ]
    },
    {
     "name": "stderr",
     "output_type": "stream",
     "text": [
      "/usr/local/insa/anaconda/envs/py27/lib/python2.7/site-packages/sklearn/metrics/classification.py:1135: UndefinedMetricWarning: F-score is ill-defined and being set to 0.0 in labels with no predicted samples.\n",
      "  'precision', 'predicted', average, warn_for)\n"
     ]
    }
   ],
   "source": [
    "#F1 score sur les labels predits et les labels de validation\n",
    "F1score = f1_score(Yv, predict_v ,labels = labelsYv, average = 'weighted')\n",
    "print('# f1 score:',F1score)"
   ]
  },
  {
   "cell_type": "code",
   "execution_count": 49,
   "metadata": {},
   "outputs": [
    {
     "data": {
      "text/plain": [
       "0.68629352902912044"
      ]
     },
     "execution_count": 49,
     "metadata": {},
     "output_type": "execute_result"
    }
   ],
   "source": [
    "#Normalement le F1 est calculé comme cela, or on a un petit ecart\n",
    "2 * (Precisionscore * Recallscore) / float((Precisionscore + Recallscore))"
   ]
  },
  {
   "cell_type": "markdown",
   "metadata": {},
   "source": [
    "comme une moyenne mais ca n'aurait pas fonctiionné (cas un score a 1 et lautre a 0, donne 0.5 un bon score )\n",
    "produit pour penaliser les petites valeurs / normalisation"
   ]
  },
  {
   "cell_type": "markdown",
   "metadata": {},
   "source": [
    "# courbes roc\n",
    "\n",
    "Les courbes ROC sont un indicateur pour un seul label/catégorie donnée\n",
    "\n",
    "Difficile, je vois pas comment faire"
   ]
  },
  {
   "cell_type": "code",
   "execution_count": 51,
   "metadata": {
    "collapsed": true
   },
   "outputs": [],
   "source": [
    "from sklearn.metrics import roc_auc_score\n",
    "from sklearn import metrics"
   ]
  },
  {
   "cell_type": "code",
   "execution_count": 52,
   "metadata": {
    "collapsed": true
   },
   "outputs": [],
   "source": [
    "from sklearn.metrics import roc_curve, auc\n",
    "from sklearn import datasets\n",
    "from sklearn.multiclass import OneVsRestClassifier\n",
    "from sklearn.svm import LinearSVC\n",
    "from sklearn.preprocessing import label_binarize\n",
    "from sklearn.cross_validation import train_test_split\n",
    "import matplotlib.pyplot as plt"
   ]
  },
  {
   "cell_type": "markdown",
   "metadata": {},
   "source": [
    "### roc curve sur les 2 plus grosses categ traitement peau et info_cancer\n"
   ]
  },
  {
   "cell_type": "code",
   "execution_count": 100,
   "metadata": {
    "collapsed": true
   },
   "outputs": [],
   "source": [
    "probaClasses = cla.predict_proba(X)"
   ]
  },
  {
   "cell_type": "code",
   "execution_count": 109,
   "metadata": {},
   "outputs": [],
   "source": [
    "#intent_bin=np.array(data_train_clean1['Intent']=='#6-82_TRTEINS_Diarrhee')*1.0\n",
    "#proba_bin=probaClasses[:,np.where(cla.classes_=='#6-82_TRTEINS_Diarrhee')[0][0]] #sur chq ligne une question prédire : les probas d'appartenance à chaque classe\n",
    "\n",
    "intent_bin2=np.array(data_train_clean1['Intent']=='#6-97_TRTEINS_Nausees_Vomissements')*1.0\n",
    "proba_bin2=probaClasses[:,np.where(cla.classes_=='#6-97_TRTEINS_Nausees_Vomissements')[0][0]] #sur chq ligne une question prédire : les probas d'appartenance à chaque classe\n"
   ]
  },
  {
   "cell_type": "code",
   "execution_count": 102,
   "metadata": {},
   "outputs": [
    {
     "data": {
      "image/png": "[encoded data removed]",
      "text/plain": [
       "<matplotlib.figure.Figure at 0x7ff9275d6250>"
      ]
     },
     "metadata": {},
     "output_type": "display_data"
    },
    {
     "data": {
      "image/png": "[encoded data removed]",
      "text/plain": [
       "<matplotlib.figure.Figure at 0x7ff9252603d0>"
      ]
     },
     "metadata": {},
     "output_type": "display_data"
    }
   ],
   "source": [
    "fpr, tpr, _ = roc_curve(intent_bin,proba_bin)\n",
    "roc_auc = auc(fpr, tpr)\n",
    "plt.figure()\n",
    "plt.plot(fpr, tpr, color='darkorange',label='ROC curve (area = %0.2f)' % roc_auc)\n",
    "plt.plot([0, 1], [0, 1], 'k--')\n",
    "plt.xlim([0.0, 1.0])\n",
    "plt.ylim([0.0, 1.05])\n",
    "plt.xlabel('False Positive Rate')\n",
    "plt.ylabel('True Positive Rate')\n",
    "plt.title('Receiver operating characteristic example')\n",
    "plt.legend(loc=\"lower right\")\n",
    "plt.show()\n",
    "\n",
    "fpr2, tpr2, _ = roc_curve(intent_bin2,proba_bin2)\n",
    "roc_auc2 = auc(fpr2, tpr2)\n",
    "plt.figure()\n",
    "plt.plot(fpr, tpr, color='darkorange',label='ROC curve (area = %0.2f)' % roc_auc2)\n",
    "plt.plot([0, 1], [0, 1], 'k--')\n",
    "plt.xlim([0.0, 1.0])\n",
    "plt.ylim([0.0, 1.05])\n",
    "plt.xlabel('False Positive Rate')\n",
    "plt.ylabel('True Positive Rate')\n",
    "plt.title('Receiver operating characteristic example')\n",
    "plt.legend(loc=\"lower right\")\n",
    "plt.show()"
   ]
  },
  {
   "cell_type": "code",
   "execution_count": 110,
   "metadata": {},
   "outputs": [
    {
     "data": {
      "image/png": "[encoded data removed]",
      "text/plain": [
       "<matplotlib.figure.Figure at 0x7ff9252d2fd0>"
      ]
     },
     "metadata": {},
     "output_type": "display_data"
    },
    {
     "data": {
      "image/png": "[encoded data removed]",
      "text/plain": [
       "<matplotlib.figure.Figure at 0x7ff925239090>"
      ]
     },
     "metadata": {},
     "output_type": "display_data"
    }
   ],
   "source": [
    "probaClasses = cla.predict_proba(Xv)\n",
    "intent_bin=np.array(data_valid_clean1['Intent']=='#6-49_TRTEINS_Peau')*1.0\n",
    "proba_bin=probaClasses[:,np.where(cla.classes_=='#6-49_TRTEINS_Peau')[0][0]] #sur chq ligne une question prédire : les probas d'appartenance à chaque classe\n",
    "\n",
    "intent_bin2=np.array(data_valid_clean1['Intent']=='#6-97_TRTEINS_Nausees_Vomissements')*1.0\n",
    "proba_bin2=probaClasses[:,np.where(cla.classes_=='#6-97_TRTEINS_Nausees_Vomissements')[0][0]] #sur chq ligne une question prédire : les probas d'appartenance à chaque classe\n",
    "\n",
    "fpr, tpr, _ = roc_curve(intent_bin,proba_bin)\n",
    "roc_auc = auc(fpr, tpr)\n",
    "plt.figure()\n",
    "plt.plot(fpr, tpr, color='darkorange',label='ROC curve (area = %0.2f)' % roc_auc)\n",
    "plt.plot([0, 1], [0, 1], 'k--')\n",
    "plt.xlim([0.0, 1.0])\n",
    "plt.ylim([0.0, 1.05])\n",
    "plt.xlabel('False Positive Rate')\n",
    "plt.ylabel('True Positive Rate')\n",
    "plt.title('Receiver operating characteristic example')\n",
    "plt.legend(loc=\"lower right\")\n",
    "plt.show()\n",
    "\n",
    "fpr2, tpr2, _ = roc_curve(intent_bin2,proba_bin2)\n",
    "roc_auc2 = auc(fpr2, tpr2)\n",
    "plt.figure()\n",
    "plt.plot(fpr, tpr, color='darkorange',label='ROC curve (area = %0.2f)' % roc_auc2)\n",
    "plt.plot([0, 1], [0, 1], 'k--')\n",
    "plt.xlim([0.0, 1.0])\n",
    "plt.ylim([0.0, 1.05])\n",
    "plt.xlabel('False Positive Rate')\n",
    "plt.ylabel('True Positive Rate')\n",
    "plt.title('Receiver operating characteristic example')\n",
    "plt.legend(loc=\"lower right\")\n",
    "plt.show()"
   ]
  },
  {
   "cell_type": "markdown",
   "metadata": {},
   "source": [
    "### courbes pour une petite categ"
   ]
  },
  {
   "cell_type": "code",
   "execution_count": 57,
   "metadata": {},
   "outputs": [
    {
     "ename": "ValueError",
     "evalue": "Found input variables with inconsistent numbers of samples: [4511, 502]",
     "output_type": "error",
     "traceback": [
      "\u001b[0;31m---------------------------------------------------------------------------\u001b[0m",
      "\u001b[0;31mValueError\u001b[0m                                Traceback (most recent call last)",
      "\u001b[0;32m<ipython-input-57-54acacf05468>\u001b[0m in \u001b[0;36m<module>\u001b[0;34m()\u001b[0m\n\u001b[1;32m      1\u001b[0m \u001b[0mintent_bin\u001b[0m\u001b[0;34m=\u001b[0m\u001b[0mnp\u001b[0m\u001b[0;34m.\u001b[0m\u001b[0marray\u001b[0m\u001b[0;34m(\u001b[0m\u001b[0mdata_train_clean1\u001b[0m\u001b[0;34m[\u001b[0m\u001b[0;34m'Intent'\u001b[0m\u001b[0;34m]\u001b[0m\u001b[0;34m==\u001b[0m\u001b[0;34m'#2-115_QVDP_Grossesse_Allaitement'\u001b[0m\u001b[0;34m)\u001b[0m\u001b[0;34m*\u001b[0m\u001b[0;36m1.0\u001b[0m\u001b[0;34m\u001b[0m\u001b[0m\n\u001b[1;32m      2\u001b[0m \u001b[0mproba_bin\u001b[0m\u001b[0;34m=\u001b[0m\u001b[0mprobaClasses\u001b[0m\u001b[0;34m[\u001b[0m\u001b[0;34m:\u001b[0m\u001b[0;34m,\u001b[0m\u001b[0mnp\u001b[0m\u001b[0;34m.\u001b[0m\u001b[0mwhere\u001b[0m\u001b[0;34m(\u001b[0m\u001b[0mcla\u001b[0m\u001b[0;34m.\u001b[0m\u001b[0mclasses_\u001b[0m\u001b[0;34m==\u001b[0m\u001b[0;34m'#2-115_QVDP_Grossesse_Allaitement'\u001b[0m\u001b[0;34m)\u001b[0m\u001b[0;34m[\u001b[0m\u001b[0;36m0\u001b[0m\u001b[0;34m]\u001b[0m\u001b[0;34m[\u001b[0m\u001b[0;36m0\u001b[0m\u001b[0;34m]\u001b[0m\u001b[0;34m]\u001b[0m \u001b[0;31m#sur chq ligne une question prédire : les probas d'appartenance à chaque classe\u001b[0m\u001b[0;34m\u001b[0m\u001b[0m\n\u001b[0;32m----> 3\u001b[0;31m \u001b[0mfpr\u001b[0m\u001b[0;34m,\u001b[0m \u001b[0mtpr\u001b[0m\u001b[0;34m,\u001b[0m \u001b[0m_\u001b[0m \u001b[0;34m=\u001b[0m \u001b[0mroc_curve\u001b[0m\u001b[0;34m(\u001b[0m\u001b[0mintent_bin\u001b[0m\u001b[0;34m,\u001b[0m\u001b[0mproba_bin\u001b[0m\u001b[0;34m)\u001b[0m\u001b[0;34m\u001b[0m\u001b[0m\n\u001b[0m\u001b[1;32m      4\u001b[0m \u001b[0mroc_auc\u001b[0m \u001b[0;34m=\u001b[0m \u001b[0mauc\u001b[0m\u001b[0;34m(\u001b[0m\u001b[0mfpr\u001b[0m\u001b[0;34m,\u001b[0m \u001b[0mtpr\u001b[0m\u001b[0;34m)\u001b[0m\u001b[0;34m\u001b[0m\u001b[0m\n\u001b[1;32m      5\u001b[0m \u001b[0mplt\u001b[0m\u001b[0;34m.\u001b[0m\u001b[0mfigure\u001b[0m\u001b[0;34m(\u001b[0m\u001b[0;34m)\u001b[0m\u001b[0;34m\u001b[0m\u001b[0m\n",
      "\u001b[0;32m/usr/local/insa/anaconda/envs/py27/lib/python2.7/site-packages/sklearn/metrics/ranking.pyc\u001b[0m in \u001b[0;36mroc_curve\u001b[0;34m(y_true, y_score, pos_label, sample_weight, drop_intermediate)\u001b[0m\n\u001b[1;32m    532\u001b[0m     \"\"\"\n\u001b[1;32m    533\u001b[0m     fps, tps, thresholds = _binary_clf_curve(\n\u001b[0;32m--> 534\u001b[0;31m         y_true, y_score, pos_label=pos_label, sample_weight=sample_weight)\n\u001b[0m\u001b[1;32m    535\u001b[0m \u001b[0;34m\u001b[0m\u001b[0m\n\u001b[1;32m    536\u001b[0m     \u001b[0;31m# Attempt to drop thresholds corresponding to points in between and\u001b[0m\u001b[0;34m\u001b[0m\u001b[0;34m\u001b[0m\u001b[0m\n",
      "\u001b[0;32m/usr/local/insa/anaconda/envs/py27/lib/python2.7/site-packages/sklearn/metrics/ranking.pyc\u001b[0m in \u001b[0;36m_binary_clf_curve\u001b[0;34m(y_true, y_score, pos_label, sample_weight)\u001b[0m\n\u001b[1;32m    318\u001b[0m         \u001b[0;32mraise\u001b[0m \u001b[0mValueError\u001b[0m\u001b[0;34m(\u001b[0m\u001b[0;34m\"{0} format is not supported\"\u001b[0m\u001b[0;34m.\u001b[0m\u001b[0mformat\u001b[0m\u001b[0;34m(\u001b[0m\u001b[0my_type\u001b[0m\u001b[0;34m)\u001b[0m\u001b[0;34m)\u001b[0m\u001b[0;34m\u001b[0m\u001b[0m\n\u001b[1;32m    319\u001b[0m \u001b[0;34m\u001b[0m\u001b[0m\n\u001b[0;32m--> 320\u001b[0;31m     \u001b[0mcheck_consistent_length\u001b[0m\u001b[0;34m(\u001b[0m\u001b[0my_true\u001b[0m\u001b[0;34m,\u001b[0m \u001b[0my_score\u001b[0m\u001b[0;34m,\u001b[0m \u001b[0msample_weight\u001b[0m\u001b[0;34m)\u001b[0m\u001b[0;34m\u001b[0m\u001b[0m\n\u001b[0m\u001b[1;32m    321\u001b[0m     \u001b[0my_true\u001b[0m \u001b[0;34m=\u001b[0m \u001b[0mcolumn_or_1d\u001b[0m\u001b[0;34m(\u001b[0m\u001b[0my_true\u001b[0m\u001b[0;34m)\u001b[0m\u001b[0;34m\u001b[0m\u001b[0m\n\u001b[1;32m    322\u001b[0m     \u001b[0my_score\u001b[0m \u001b[0;34m=\u001b[0m \u001b[0mcolumn_or_1d\u001b[0m\u001b[0;34m(\u001b[0m\u001b[0my_score\u001b[0m\u001b[0;34m)\u001b[0m\u001b[0;34m\u001b[0m\u001b[0m\n",
      "\u001b[0;32m/usr/local/insa/anaconda/envs/py27/lib/python2.7/site-packages/sklearn/utils/validation.pyc\u001b[0m in \u001b[0;36mcheck_consistent_length\u001b[0;34m(*arrays)\u001b[0m\n\u001b[1;32m    202\u001b[0m     \u001b[0;32mif\u001b[0m \u001b[0mlen\u001b[0m\u001b[0;34m(\u001b[0m\u001b[0muniques\u001b[0m\u001b[0;34m)\u001b[0m \u001b[0;34m>\u001b[0m \u001b[0;36m1\u001b[0m\u001b[0;34m:\u001b[0m\u001b[0;34m\u001b[0m\u001b[0m\n\u001b[1;32m    203\u001b[0m         raise ValueError(\"Found input variables with inconsistent numbers of\"\n\u001b[0;32m--> 204\u001b[0;31m                          \" samples: %r\" % [int(l) for l in lengths])\n\u001b[0m\u001b[1;32m    205\u001b[0m \u001b[0;34m\u001b[0m\u001b[0m\n\u001b[1;32m    206\u001b[0m \u001b[0;34m\u001b[0m\u001b[0m\n",
      "\u001b[0;31mValueError\u001b[0m: Found input variables with inconsistent numbers of samples: [4511, 502]"
     ]
    }
   ],
   "source": [
    "intent_bin=np.array(data_train_clean1['Intent']=='#2-115_QVDP_Grossesse_Allaitement')*1.0\n",
    "proba_bin=probaClasses[:,np.where(cla.classes_=='#2-115_QVDP_Grossesse_Allaitement')[0][0]] #sur chq ligne une question prédire : les probas d'appartenance à chaque classe\n",
    "fpr, tpr, _ = roc_curve(intent_bin,proba_bin)\n",
    "roc_auc = auc(fpr, tpr)\n",
    "plt.figure()\n",
    "plt.plot(fpr, tpr, color='darkorange',label='ROC curve (area = %0.2f)' % roc_auc)\n",
    "plt.plot([0, 1], [0, 1], 'k--')\n",
    "plt.xlim([0.0, 1.0])\n",
    "plt.ylim([0.0, 1.05])\n",
    "plt.xlabel('False Positive Rate')\n",
    "plt.ylabel('True Positive Rate')\n",
    "plt.title('Receiver operating characteristic example')\n",
    "plt.legend(loc=\"lower right\")\n",
    "plt.show()\n"
   ]
  },
  {
   "cell_type": "markdown",
   "metadata": {},
   "source": [
    "# meta classes"
   ]
  },
  {
   "cell_type": "code",
   "execution_count": 58,
   "metadata": {
    "collapsed": true
   },
   "outputs": [],
   "source": [
    "#meta classe\n",
    "categories = data_train_clean1['Intent']\n",
    "tailleCat = int(np.shape(categories)[0])\n",
    "LabelCat = np.zeros(tailleCat)\n",
    "for k in range(tailleCat):\n",
    "    # la categorie #0 a le label 0 implicitement\n",
    "    if categories[k][0:2]=='Pr':  LabelCat[k] = 11#profile\n",
    "    if (categories[k][0:2] == 'co' or categories[k][0:2]=='Co'): LabelCat[k] = 10 #conversation_rappel_rendezvous\n",
    "    if categories[k][0:2] == '#1' : LabelCat[k] = 1\n",
    "    if categories[k][0:2] == '#2' : LabelCat[k] = 2\n",
    "    if categories[k][0:2] == '#5' : LabelCat[k] = 5\n",
    "    if categories[k][0:2] == '#6' : LabelCat[k] = 6\n",
    "    if categories[k][0:2] == '#7' : LabelCat[k] = 7\n",
    "    if categories[k][0:2] == '#8' : LabelCat[k] = 8\n",
    "    if categories[k][0:2] == '#9' : LabelCat[k] = 9\n",
    "        \n",
    "#data frame avec une colonne mettant un label suivant la meta categorie\n",
    "dfLabelCat = pd.DataFrame(LabelCat)\n",
    "meta_df = pd.concat([data_train_clean1, dfLabelCat], axis=1)\n",
    "\n",
    "\n",
    "categories_v = data_valid_clean1['Intent']\n",
    "tailleCat_v = int(np.shape(categories_v)[0])\n",
    "LabelCat_v = np.zeros(tailleCat_v)\n",
    "for k in range(tailleCat_v):\n",
    "    # la categorie #0 a le label 0 implicitement\n",
    "    if categories_v[k][0:2]=='Pr':  LabelCat_v[k] = 11#profile\n",
    "    if (categories_v[k][0:2] == 'co' or categories_v[k][0:2]=='Co'): LabelCat_v[k] = 10 #conversation_rappel_rendezvous\n",
    "    if categories_v[k][0:2] == '#1' : LabelCat_v[k] = 1\n",
    "    if categories_v[k][0:2] == '#2' : LabelCat_v[k] = 2\n",
    "    if categories_v[k][0:2] == '#5' : LabelCat_v[k] = 5\n",
    "    if categories_v[k][0:2] == '#6' : LabelCat_v[k] = 6\n",
    "    if categories_v[k][0:2] == '#7' : LabelCat_v[k] = 7\n",
    "    if categories_v[k][0:2] == '#8' : LabelCat_v[k] = 8\n",
    "    if categories_v[k][0:2] == '#9' : LabelCat_v[k] = 9\n",
    "        \n",
    "#data frame avec une colonne mettant un label suivant la meta categorie\n",
    "dfLabelCat_v = pd.DataFrame(LabelCat_v)\n",
    "meta_df_v = pd.concat([data_valid_clean1, dfLabelCat_v], axis=1)\n"
   ]
  },
  {
   "cell_type": "code",
   "execution_count": 59,
   "metadata": {
    "collapsed": true
   },
   "outputs": [],
   "source": [
    "vec,X_m = vectorizer_train(meta_df,\"Question\")\n",
    "Y_m = meta_df[0].values #les étiquettes : les catégories\n",
    "Xv_m = apply_vectorizer(meta_df_v,vec,\"Question\")\n",
    "Yv_m = meta_df_v[0].values"
   ]
  },
  {
   "cell_type": "code",
   "execution_count": 73,
   "metadata": {},
   "outputs": [
    {
     "data": {
      "text/plain": [
       "LogisticRegression(C=1, class_weight=None, dual=False, fit_intercept=True,\n",
       "          intercept_scaling=1, max_iter=100, multi_class='ovr', n_jobs=1,\n",
       "          penalty='l2', random_state=None, solver='liblinear', tol=0.0001,\n",
       "          verbose=0, warm_start=False)"
      ]
     },
     "execution_count": 73,
     "metadata": {},
     "output_type": "execute_result"
    }
   ],
   "source": [
    "cla_meta = LogisticRegression(penalty='l2', dual=False, tol=0.0001, C=1, fit_intercept=True,\n",
    "                          intercept_scaling=1, class_weight=None, random_state=None, solver='liblinear',\n",
    "                          max_iter=100, multi_class='ovr', verbose=0, warm_start=False, n_jobs=1)\n",
    "cla_meta.fit(X_m,Y_m)"
   ]
  },
  {
   "cell_type": "code",
   "execution_count": 74,
   "metadata": {},
   "outputs": [
    {
     "name": "stdout",
     "output_type": "stream",
     "text": [
      "training score = \n",
      "0.886943028153\n"
     ]
    }
   ],
   "source": [
    "training_score=cla_meta.score(X_m,Y_m)\n",
    "print \"training score = \"\n",
    "print training_score"
   ]
  },
  {
   "cell_type": "code",
   "execution_count": 75,
   "metadata": {},
   "outputs": [
    {
     "name": "stdout",
     "output_type": "stream",
     "text": [
      "valid score = \n",
      "0.838645418327\n"
     ]
    }
   ],
   "source": [
    "v_score=cla_meta.score(Xv_m,Yv_m)\n",
    "print \"valid score = \"\n",
    "print v_score"
   ]
  },
  {
   "cell_type": "markdown",
   "metadata": {},
   "source": [
    "On obtient de meilleurs resultats que précédemment"
   ]
  },
  {
   "cell_type": "markdown",
   "metadata": {},
   "source": [
    "### ci dessous les effectifs de la prédiction"
   ]
  },
  {
   "cell_type": "code",
   "execution_count": 76,
   "metadata": {},
   "outputs": [
    {
     "data": {
      "text/plain": [
       "[(6.0, 247),\n",
       " (2.0, 219),\n",
       " (9.0, 16),\n",
       " (10.0, 12),\n",
       " (11.0, 3),\n",
       " (7.0, 2),\n",
       " (0.0, 1),\n",
       " (5.0, 1),\n",
       " (8.0, 1)]"
      ]
     },
     "execution_count": 76,
     "metadata": {},
     "output_type": "execute_result"
    }
   ],
   "source": [
    "predict_meta_v=cla_meta.predict(Xv_m)\n",
    "sorted(collections.Counter(predict_meta_v).items(), key=lambda x : x[1], reverse=True)"
   ]
  },
  {
   "cell_type": "markdown",
   "metadata": {},
   "source": [
    "### Ci dessous les effectifs reels"
   ]
  },
  {
   "cell_type": "code",
   "execution_count": 78,
   "metadata": {},
   "outputs": [
    {
     "data": {
      "text/plain": [
       "[(6.0, 220),\n",
       " (2.0, 205),\n",
       " (9.0, 20),\n",
       " (10.0, 16),\n",
       " (1.0, 12),\n",
       " (7.0, 7),\n",
       " (0.0, 6),\n",
       " (5.0, 6),\n",
       " (11.0, 6),\n",
       " (8.0, 4)]"
      ]
     },
     "execution_count": 78,
     "metadata": {},
     "output_type": "execute_result"
    }
   ],
   "source": [
    "sorted(collections.Counter(meta_df_v[0]).items(), key=lambda x : x[1], reverse=True)"
   ]
  },
  {
   "cell_type": "markdown",
   "metadata": {},
   "source": [
    "pareil qu'avant il en a mis trop dans les catégories à gros effectifs et pas assez dans les petites categ"
   ]
  },
  {
   "cell_type": "markdown",
   "metadata": {},
   "source": [
    "## Roc curves pour toutes les meta"
   ]
  },
  {
   "cell_type": "code",
   "execution_count": 79,
   "metadata": {},
   "outputs": [
    {
     "name": "stdout",
     "output_type": "stream",
     "text": [
      "[[ 0.01735709  0.19798143  0.11076512 ...,  0.04497886  0.01817437\n",
      "   0.35210654]\n",
      " [ 0.01086867  0.01464354  0.30056049 ...,  0.02126862  0.01293759\n",
      "   0.00671075]\n",
      " [ 0.00933306  0.01146627  0.04740432 ...,  0.01627922  0.71535178\n",
      "   0.00597683]\n",
      " ..., \n",
      " [ 0.00504602  0.00606618  0.22018455 ...,  0.00423605  0.00554956\n",
      "   0.00376847]\n",
      " [ 0.00892542  0.00850718  0.16382128 ...,  0.01258759  0.01031484\n",
      "   0.00575498]\n",
      " [ 0.0095586   0.00940984  0.83121965 ...,  0.01500213  0.01107646\n",
      "   0.00609554]]\n"
     ]
    }
   ],
   "source": [
    "probaClasses_meta=cla_meta.predict_proba(Xv_m)\n",
    "print probaClasses_meta"
   ]
  },
  {
   "cell_type": "code",
   "execution_count": 81,
   "metadata": {},
   "outputs": [
    {
     "data": {
      "image/png": "[encoded data removed]",
      "text/plain": [
       "<matplotlib.figure.Figure at 0x7ff92743a050>"
      ]
     },
     "metadata": {},
     "output_type": "display_data"
    }
   ],
   "source": [
    "l=[6.0,2.0,9.0,10.0,7.0,1.0,11.0,5.0,0.0,8.0]\n",
    "l1=[\"Traitement\",\"qvdp\",\"information\",\"conversation\",\"qvda\",\"menu\",\"profile\",\"soutien\",\"gestion\",\"ddp\"]\n",
    "intent_bin=[]\n",
    "proba_bin=[]\n",
    "fpr=dict()\n",
    "tpr=dict()\n",
    "roc_auc=dict()\n",
    "for i in range(0,10,1):\n",
    "    intent_bin.append(np.array(meta_df_v[0]==l[i])*1.0)\n",
    "    proba_bin.append(probaClasses_meta[:,np.where(cla_meta.classes_==l[i])[0][0]])\n",
    "    fpr[i], tpr[i], _ = roc_curve(intent_bin[i],proba_bin[i])\n",
    "    roc_auc[i] = auc(fpr[i], tpr[i])\n",
    "    \n",
    "plt.figure(figsize=(10,10))\n",
    "colors=(['aqua','darkorange','cornflowerblue','red','blue','green','black','purple','brown','magenta'])\n",
    "for i, color in zip(range(10),colors):\n",
    "    plt.plot(fpr[i], tpr[i], color=color,label='ROC curve of class {0} (area = {1:0.2f})' ''.format(l1[i], roc_auc[i]))\n",
    "plt.plot([0, 1], [0, 1], 'k--')\n",
    "plt.xlim([0.0, 1.0])\n",
    "plt.ylim([0.0, 1.05])\n",
    "plt.xlabel('False Positive Rate')\n",
    "plt.ylabel('True Positive Rate')\n",
    "plt.title('Receiver operating characteristic example')\n",
    "plt.legend(loc=\"lower right\")\n",
    "plt.show()\n"
   ]
  },
  {
   "cell_type": "markdown",
   "metadata": {},
   "source": [
    "la categ 6 est aqua\n",
    "la plus mauvaise : verte : une categ a faible effectif\n",
    "la meilleure : magenta : une categ a faible efffectif aussi "
   ]
  },
  {
   "cell_type": "code",
   "execution_count": null,
   "metadata": {
    "collapsed": true
   },
   "outputs": [],
   "source": []
  }
 ],
 "metadata": {
  "kernelspec": {
   "display_name": "Python [conda env:py27]",
   "language": "python",
   "name": "conda-env-py27-py"
  },
  "language_info": {
   "codemirror_mode": {
    "name": "ipython",
    "version": 2
   },
   "file_extension": ".py",
   "mimetype": "text/x-python",
   "name": "python",
   "nbconvert_exporter": "python",
   "pygments_lexer": "ipython2",
   "version": "2.7.13"
  }
 },
 "nbformat": 4,
 "nbformat_minor": 2
}
