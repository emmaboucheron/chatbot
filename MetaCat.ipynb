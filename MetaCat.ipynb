{
 "cells": [
  {
   "cell_type": "markdown",
   "metadata": {},
   "source": [
    "<center>\n",
    "<a href=\"http://www.insa-toulouse.fr/\" ><img src=\"http://www.math.univ-toulouse.fr/~besse/Wikistat/Images/logo-insa.jpg\" style=\"float:left; max-width: 120px; display: inline\" alt=\"INSA\"/></a> \n",
    "\n",
    "<a href=\"http://www.math.univ-toulouse.fr/\" ><img src=\"http://www.math.univ-toulouse.fr/~besse/Wikistat/Images/logo_imt.jpg\" style=\"float:right; max-width: 250px; display: inline\" alt=\"IMT\"/> </a>\n",
    "</center>"
   ]
  },
  {
   "cell_type": "markdown",
   "metadata": {},
   "source": [
    "## Chatbot: catégorisations et prévisions des réponses aux questions"
   ]
  },
  {
   "cell_type": "markdown",
   "metadata": {},
   "source": [
    "# Text Mining et Catégorisation de Produits en <a href=\"https://www.python.org/\"><img src=\"https://upload.wikimedia.org/wikipedia/commons/thumb/f/f8/Python_logo_and_wordmark.svg/390px-Python_logo_and_wordmark.svg.png\" style=\"max-width: 120px; display: inline\" alt=\"R\"/></a> avec <a href=\"http://scikit-learn.org/stable/#\"><img src=\"http://scikit-learn.org/stable/_static/scikit-learn-logo-small.png\" style=\"max-width: 100px; display: inline\" alt=\"R\"/></a>"
   ]
  },
  {
   "cell_type": "markdown",
   "metadata": {},
   "source": [
    "## Introduction"
   ]
  },
  {
   "cell_type": "markdown",
   "metadata": {},
   "source": [
    "Il s'agit de prévoir la réponse à une question à partir de son sujet. Seule la catégorie principale (1er niveau) est prédite mais nous pourrons essayer d'affiner par la suite. L'objectif est plutôt de comparer les performances des méthodes et technologies en fonction de la taille de la base d'apprentissage ainsi que d'illustrer sur un exemple complexe le prétraitement de données textuelles. La stratégie de sous ou sur échantillonnage des catégories qui permet d'améliorer la prévision va être mise en oeuvre. Nous allons essayer différentes techniques d'échantillonnage comme le regroupement de plusieurs catégories en fonction de leur points communs ou selon leur taille puis nous essayerons de mettre en place un mélange de upsampling et de downsampling.\n",
    "* Nous allons réduire l'échantillon réduit en le séparant en 2 parties: apprentissage et validation. \n",
    "* Les données textuelles sont  nettoyées, racinisées, vectorisées avant modélisation.\n",
    "* Trois modélisations sont estimées: logistique, arbre, forêt aléatoire.\n",
    "* Optimiser l'erreur en faisant varier différents paramètres: types et paramètres de vectorisation (TF-IDF), paramètres de la régression logistique (pénalisation l1) et de la forêt aléatoire (nombre d'arbres et nombre de variables aléatoire).\n",
    "\n",
    "Exécuter finalement le code pour différentes tailles (paramètre  `tauxTot` ci-dessous) de l'échantillon d'apprentissage et comparer les qualités de prévision obtenues. "
   ]
  },
  {
   "cell_type": "code",
   "execution_count": 2,
   "metadata": {
    "code_folding": [],
    "collapsed": true
   },
   "outputs": [],
   "source": [
    "#Importation des librairies utilisées\n",
    "import unicodedata \n",
    "import time\n",
    "import pandas as pd\n",
    "import numpy as np\n",
    "import random\n",
    "import nltk\n",
    "import collections\n",
    "import itertools\n",
    "import csv\n",
    "import warnings\n",
    "\n",
    "from sklearn.cross_validation import train_test_split"
   ]
  },
  {
   "cell_type": "code",
   "execution_count": 3,
   "metadata": {
    "collapsed": true
   },
   "outputs": [],
   "source": [
    "from sklearn.decomposition import TruncatedSVD\n",
    "import matplotlib.pyplot as plt"
   ]
  },
  {
   "cell_type": "markdown",
   "metadata": {},
   "source": [
    "## 1. Importation des données\n",
    "Définition du répertoir de travail, des noms des différents fichiers utilisés et des variables globales.\n"
   ]
  },
  {
   "cell_type": "code",
   "execution_count": 4,
   "metadata": {
    "code_folding": [],
    "collapsed": true
   },
   "outputs": [],
   "source": [
    "# Répertoire de travail\n",
    "DATA_DIR = \"/home/bouchero/Documents/projet/INSA_wefight_data_clean.csv\"\n",
    "\n",
    "# Nom des fichiers\n",
    "training_reduit_path = DATA_DIR \n",
    "# Variable Globale\n",
    "HEADER_TEST = ['Question','Intent','BlockId', 'Action']\n",
    "HEADER_TRAIN =['Question','Intent','BlockId', 'Action']"
   ]
  },
  {
   "cell_type": "code",
   "execution_count": 17,
   "metadata": {
    "code_folding": [],
    "collapsed": true
   },
   "outputs": [],
   "source": [
    "## Si nécessaire (première exécution) chargement de nltk, librairie pour la suppression \n",
    "## des mots d'arrêt et la racinisation\n",
    "## nltk.download()"
   ]
  },
  {
   "cell_type": "markdown",
   "metadata": {},
   "source": [
    "   ### Read & Split Dataset\n",
    "   Fonction permettant de lire le fichier d'apprentissage et de créer deux DataFrame Pandas, un pour l'apprentissage, l'autre pour la validation.\n",
    "   La première méthode créée un DataFrame en lisant entièrement le fichier. Puis elle scinde le DataFrame en deux  grâce à la fonction dédiée de sklearn. "
   ]
  },
  {
   "cell_type": "code",
   "execution_count": 5,
   "metadata": {
    "code_folding": []
   },
   "outputs": [
    {
     "name": "stdout",
     "output_type": "stream",
     "text": [
      "Split Takes 0 s\n"
     ]
    },
    {
     "data": {
      "text/html": [
       "<div>\n",
       "<style scoped>\n",
       "    .dataframe tbody tr th:only-of-type {\n",
       "        vertical-align: middle;\n",
       "    }\n",
       "\n",
       "    .dataframe tbody tr th {\n",
       "        vertical-align: top;\n",
       "    }\n",
       "\n",
       "    .dataframe thead th {\n",
       "        text-align: right;\n",
       "    }\n",
       "</style>\n",
       "<table border=\"1\" class=\"dataframe\">\n",
       "  <thead>\n",
       "    <tr style=\"text-align: right;\">\n",
       "      <th></th>\n",
       "      <th>Question</th>\n",
       "      <th>Intent</th>\n",
       "      <th>BlockId</th>\n",
       "      <th>Action</th>\n",
       "    </tr>\n",
       "  </thead>\n",
       "  <tbody>\n",
       "    <tr>\n",
       "      <th>727</th>\n",
       "      <td>Je voudras savoir à  quels aliments je n ai pa...</td>\n",
       "      <td>#2-130_QVDP_Alimentation</td>\n",
       "      <td>5991c543e4b0b2045b0c568f</td>\n",
       "      <td>wiki_cancer</td>\n",
       "    </tr>\n",
       "    <tr>\n",
       "      <th>77</th>\n",
       "      <td>comment accompagner mon amie ayant un cancer d...</td>\n",
       "      <td>#1-5_Menu_Aidant</td>\n",
       "      <td>59932112e4b068eebad2ef7e</td>\n",
       "      <td>wiki_cancer</td>\n",
       "    </tr>\n",
       "    <tr>\n",
       "      <th>205</th>\n",
       "      <td>les banques me refusent le prêt</td>\n",
       "      <td>#2-103_QVDP_Social_Banque</td>\n",
       "      <td>598b44d9e4b03f0d36dbfd76</td>\n",
       "      <td>wiki_cancer</td>\n",
       "    </tr>\n",
       "    <tr>\n",
       "      <th>4945</th>\n",
       "      <td>met moi un rendez vous pour Mercredi prochain</td>\n",
       "      <td>conversation_rappel_rendezvous</td>\n",
       "      <td>596340b8e4b0a226d0f4e811</td>\n",
       "      <td>conversation_rappelRendezVous</td>\n",
       "    </tr>\n",
       "    <tr>\n",
       "      <th>2879</th>\n",
       "      <td>j'ai une plaque rouge sèche sur le visage</td>\n",
       "      <td>#6-49_TRTEINS_Peau</td>\n",
       "      <td>59918cf1e4b0feb28881fd9f</td>\n",
       "      <td>wiki_cancer</td>\n",
       "    </tr>\n",
       "  </tbody>\n",
       "</table>\n",
       "</div>"
      ],
      "text/plain": [
       "                                               Question  \\\n",
       "727   Je voudras savoir à  quels aliments je n ai pa...   \n",
       "77    comment accompagner mon amie ayant un cancer d...   \n",
       "205                     les banques me refusent le prêt   \n",
       "4945      met moi un rendez vous pour Mercredi prochain   \n",
       "2879          j'ai une plaque rouge sèche sur le visage   \n",
       "\n",
       "                              Intent                   BlockId  \\\n",
       "727         #2-130_QVDP_Alimentation  5991c543e4b0b2045b0c568f   \n",
       "77                  #1-5_Menu_Aidant  59932112e4b068eebad2ef7e   \n",
       "205        #2-103_QVDP_Social_Banque  598b44d9e4b03f0d36dbfd76   \n",
       "4945  conversation_rappel_rendezvous  596340b8e4b0a226d0f4e811   \n",
       "2879              #6-49_TRTEINS_Peau  59918cf1e4b0feb28881fd9f   \n",
       "\n",
       "                             Action  \n",
       "727                     wiki_cancer  \n",
       "77                      wiki_cancer  \n",
       "205                     wiki_cancer  \n",
       "4945  conversation_rappelRendezVous  \n",
       "2879                    wiki_cancer  "
      ]
     },
     "execution_count": 5,
     "metadata": {},
     "output_type": "execute_result"
    }
   ],
   "source": [
    "def split_dataset(input_path, nb_line, tauxValid,columns):\n",
    "    time_start = time.time()\n",
    "    data_all = pd.read_csv(input_path,sep=\",\",names=columns,nrows=nb_line) #cree data frame\n",
    "    data_all = data_all.fillna(\"\") #remplace les na par \" \"\n",
    "    data_train, data_valid = train_test_split(data_all, test_size = tauxValid) # Split arrays or matrices into random train and test subsets\n",
    "    time_end = time.time()\n",
    "    print(\"Split Takes %d s\" %(time_end-time_start))\n",
    "    return data_train, data_valid\n",
    "\n",
    "nb_line=20000  # part totale extraite du fichier initial ici déjà réduit\n",
    "tauxValid=0.10 # part totale extraite du fichier initial ici déjà réduit\n",
    "data_train, data_valid = split_dataset(training_reduit_path, nb_line, tauxValid, HEADER_TRAIN)\n",
    "data_all = pd.read_csv(training_reduit_path,sep=\",\",names=HEADER_TRAIN,nrows=nb_line) #cree data frame\n",
    "# Cette ligne permet de visualiser les 5 premières lignes de la DataFrame \n",
    "data_train.head(5)"
   ]
  },
  {
   "cell_type": "markdown",
   "metadata": {},
   "source": [
    "## 2. Nettoyage des données\n",
    "Afin de limiter la dimension de l'espace des variables ou *features*, tout en conservant les informations essentielles, il est nécessaire de nettoyer les données en appliquant plusieurs étapes:\n",
    "* Chaque mot est écrit en minuscule.\n",
    "* Les termes numériques, de ponctuation et autres symboles sont supprimés.\n",
    "* 155 mots-courants, et donc non informatifs, de la langue française sont supprimés (STOPWORDS). Ex: le, la, du, alors, etc...\n",
    "* Chaque mot est \"racinisé\", via la fonction `STEMMER.stem` de la librairie nltk. La racinisation transforme un mot en son radical ou sa racine. Par exemple, les mots: cheval, chevaux, chevalier, chevalerie, chevaucher sont tous remplacés par \"cheva\"."
   ]
  },
  {
   "cell_type": "markdown",
   "metadata": {},
   "source": [
    "### Importation des librairies et fichier pour le nettoyage des données."
   ]
  },
  {
   "cell_type": "code",
   "execution_count": 6,
   "metadata": {
    "collapsed": true,
    "scrolled": true
   },
   "outputs": [],
   "source": [
    "# Librairies \n",
    "from bs4 import BeautifulSoup #Nettoyage d'HTML\n",
    "import re # Regex\n",
    "import nltk # Nettoyage des données\n",
    "\n",
    "## listes de mots à supprimer dans la description des produits\n",
    "## Depuis NLTK\n",
    "nltk_stopwords = nltk.corpus.stopwords.words('french') \n",
    "## Depuis Un fichier externe.\n",
    "lucene_stopwords = [unicode(w, \"utf-8\") for w in open(\"/home/bouchero/Documents/projet/lucene_stopwords.txt\").read().split(\",\")] #En local\n",
    "\n",
    "## Union des deux fichiers de stopwords \n",
    "stopwords = list(set(nltk_stopwords).union(set(lucene_stopwords)))\n",
    "\n",
    "## Fonction de setmming de stemming permettant la racinisation\n",
    "stemmer=nltk.stem.SnowballStemmer('french')"
   ]
  },
  {
   "cell_type": "markdown",
   "metadata": {},
   "source": [
    "### Fonction de nettoyage de texte\n",
    "Fonction qui prend en intrée un texte et retourne le texte nettoyé en appliquant successivement les étapes suivantes: Nettoyage des données HTML, conversion en texte minuscule, encodage uniforme, suppression des caractéres non alpha numérique (ponctuations), suppression des stopwords, racinisation de chaque mot individuellement."
   ]
  },
  {
   "cell_type": "code",
   "execution_count": 7,
   "metadata": {
    "code_folding": [],
    "collapsed": true
   },
   "outputs": [],
   "source": [
    "# Fonction clean générale\n",
    "def clean_txt(txt):\n",
    "    ### remove html stuff\n",
    "    txt = BeautifulSoup(txt,\"html.parser\",from_encoding='utf-8').get_text() #nettoyage donnee html\n",
    "    ### lower case\n",
    "    txt = txt.lower()\n",
    "    ### special escaping character '...'\n",
    "    txt = txt.replace(u'\\u2026','.')\n",
    "    txt = txt.replace(u'\\u00a0',' ')\n",
    "    ### remove accent btw\n",
    "    txt = unicodedata.normalize('NFD', txt).encode('ascii', 'ignore')\n",
    "    ###txt = unidecode(txt)\n",
    "    ### remove non alphanumeric char\n",
    "    txt = re.sub('[^a-z_]', ' ', txt)\n",
    "    ### remove french stop words\n",
    "    tokens = [w for w in txt.split() if (len(w)>2) and (w not in stopwords)]\n",
    "    ### french stemming\n",
    "    tokens = [stemmer.stem(token) for token in tokens]\n",
    "    #Stemmers remove morphological affixes from words, leaving only the word stem\n",
    "    ### tokens = stemmer.stemWords(tokens)\n",
    "    return ' '.join(tokens)\n",
    "    #join() returns a string in which the string elements of sequence have been joined by str separator.\n",
    "\n",
    "def clean_marque(txt):\n",
    "    txt = re.sub('[^a-zA-Z0-9]', '_', txt).lower()\n",
    "    return txt"
   ]
  },
  {
   "cell_type": "markdown",
   "metadata": {},
   "source": [
    "### Nettoyage des DataFrames\n",
    "Applique le nettoyage sur toutes les lignes de la DataFrame"
   ]
  },
  {
   "cell_type": "code",
   "execution_count": 8,
   "metadata": {
    "code_folding": [
     1
    ],
    "collapsed": true
   },
   "outputs": [],
   "source": [
    "# fonction de nettoyage du fichier(stemming et liste de mots à supprimer)\n",
    "def clean_df(input_data, column_names= ['Question','Intent','BlockId', 'Action']):\n",
    "    #Test if columns entry match columns names of input data\n",
    "    column_names_diff= set(column_names).difference(set(input_data.columns))\n",
    "    #set.difference   new set with elements in column_names but not in input_data.columns\n",
    "    \n",
    "    if column_names_diff: #rentre dans la boucle si column_names différent zero\n",
    "        # warning = exception\n",
    "        warnings.warn(\"Column(s) '\"+\", \".join(list(column_names_diff)) +\"' do(es) not match columns of input data\", Warning)\n",
    "        \n",
    "    nb_line = input_data.shape[0]\n",
    "    print(\"Start Clean %d lines\" %nb_line)\n",
    "    \n",
    "    # Cleaning start for each columns\n",
    "    time_start = time.time()\n",
    "    clean_list=[]\n",
    "    for column_name in column_names:\n",
    "        column = input_data[column_name].values\n",
    "        if column_name == \"Question\":\n",
    "            array_clean = np.array(map(clean_txt,column))\n",
    "            \n",
    "        elif column_name == \"Intent\":\n",
    "            array_clean = np.asarray(input_data['Intent']) #on recopie telle quelle la colonne intent  \n",
    "            \n",
    "        else:\n",
    "            array_clean = np.array(map(clean_marque,column))\n",
    "            #applies a function to all the items in an input_list\n",
    "            #map(function_to_apply, list_of_inputs)\n",
    "        clean_list.append(array_clean)\n",
    "    time_end = time.time()\n",
    "    print(\"Cleaning time: %d secondes\"%(time_end-time_start))\n",
    "    \n",
    "    #Convert list to DataFrame\n",
    "    array_clean = np.array(clean_list).T\n",
    "    data_clean = pd.DataFrame(array_clean, columns = column_names)\n",
    "    return data_clean"
   ]
  },
  {
   "cell_type": "code",
   "execution_count": 9,
   "metadata": {},
   "outputs": [
    {
     "name": "stdout",
     "output_type": "stream",
     "text": [
      "Start Clean 502 lines\n",
      "Cleaning time: 0 secondes\n",
      "Start Clean 4511 lines\n",
      "Cleaning time: 5 secondes\n"
     ]
    }
   ],
   "source": [
    "# Take approximately 2 minutes fors 100.000 rows\n",
    "data_valid_clean = clean_df(data_valid)\n",
    "data_train_clean = clean_df(data_train)\n",
    "#data_all_clean= clean_df(data_all)"
   ]
  },
  {
   "cell_type": "markdown",
   "metadata": {},
   "source": [
    "Affiche les 5 premières lignes de la DataFrame d'apprentissage après nettoyage."
   ]
  },
  {
   "cell_type": "code",
   "execution_count": 10,
   "metadata": {},
   "outputs": [
    {
     "name": "stdout",
     "output_type": "stream",
     "text": [
      "<class 'pandas.core.frame.DataFrame'>\n",
      "RangeIndex: 4511 entries, 0 to 4510\n",
      "Data columns (total 4 columns):\n",
      "Question    4511 non-null object\n",
      "Intent      4511 non-null object\n",
      "BlockId     4511 non-null object\n",
      "Action      4511 non-null object\n",
      "dtypes: object(4)\n",
      "memory usage: 141.0+ KB\n"
     ]
    },
    {
     "data": {
      "text/html": [
       "<div>\n",
       "<style scoped>\n",
       "    .dataframe tbody tr th:only-of-type {\n",
       "        vertical-align: middle;\n",
       "    }\n",
       "\n",
       "    .dataframe tbody tr th {\n",
       "        vertical-align: top;\n",
       "    }\n",
       "\n",
       "    .dataframe thead th {\n",
       "        text-align: right;\n",
       "    }\n",
       "</style>\n",
       "<table border=\"1\" class=\"dataframe\">\n",
       "  <thead>\n",
       "    <tr style=\"text-align: right;\">\n",
       "      <th></th>\n",
       "      <th>Question</th>\n",
       "      <th>Intent</th>\n",
       "      <th>BlockId</th>\n",
       "      <th>Action</th>\n",
       "    </tr>\n",
       "  </thead>\n",
       "  <tbody>\n",
       "    <tr>\n",
       "      <th>0</th>\n",
       "      <td>voudr savoir aliment droit sach canc hormono d...</td>\n",
       "      <td>#2-130_QVDP_Alimentation</td>\n",
       "      <td>5991c543e4b0b2045b0c568f</td>\n",
       "      <td>wiki_cancer</td>\n",
       "    </tr>\n",
       "    <tr>\n",
       "      <th>1</th>\n",
       "      <td>accompagn ami canc sein</td>\n",
       "      <td>#1-5_Menu_Aidant</td>\n",
       "      <td>59932112e4b068eebad2ef7e</td>\n",
       "      <td>wiki_cancer</td>\n",
       "    </tr>\n",
       "    <tr>\n",
       "      <th>2</th>\n",
       "      <td>banqu refusent pret</td>\n",
       "      <td>#2-103_QVDP_Social_Banque</td>\n",
       "      <td>598b44d9e4b03f0d36dbfd76</td>\n",
       "      <td>wiki_cancer</td>\n",
       "    </tr>\n",
       "    <tr>\n",
       "      <th>3</th>\n",
       "      <td>met rend mercred prochain</td>\n",
       "      <td>conversation_rappel_rendezvous</td>\n",
       "      <td>596340b8e4b0a226d0f4e811</td>\n",
       "      <td>conversation_rappelrendezvous</td>\n",
       "    </tr>\n",
       "    <tr>\n",
       "      <th>4</th>\n",
       "      <td>plaqu roug sech visag</td>\n",
       "      <td>#6-49_TRTEINS_Peau</td>\n",
       "      <td>59918cf1e4b0feb28881fd9f</td>\n",
       "      <td>wiki_cancer</td>\n",
       "    </tr>\n",
       "  </tbody>\n",
       "</table>\n",
       "</div>"
      ],
      "text/plain": [
       "                                            Question  \\\n",
       "0  voudr savoir aliment droit sach canc hormono d...   \n",
       "1                            accompagn ami canc sein   \n",
       "2                                banqu refusent pret   \n",
       "3                          met rend mercred prochain   \n",
       "4                              plaqu roug sech visag   \n",
       "\n",
       "                           Intent                   BlockId  \\\n",
       "0        #2-130_QVDP_Alimentation  5991c543e4b0b2045b0c568f   \n",
       "1                #1-5_Menu_Aidant  59932112e4b068eebad2ef7e   \n",
       "2       #2-103_QVDP_Social_Banque  598b44d9e4b03f0d36dbfd76   \n",
       "3  conversation_rappel_rendezvous  596340b8e4b0a226d0f4e811   \n",
       "4              #6-49_TRTEINS_Peau  59918cf1e4b0feb28881fd9f   \n",
       "\n",
       "                          Action  \n",
       "0                    wiki_cancer  \n",
       "1                    wiki_cancer  \n",
       "2                    wiki_cancer  \n",
       "3  conversation_rappelrendezvous  \n",
       "4                    wiki_cancer  "
      ]
     },
     "execution_count": 10,
     "metadata": {},
     "output_type": "execute_result"
    }
   ],
   "source": [
    "#info sur les données\n",
    "data_train_clean.info()\n",
    "data_train_clean.head()"
   ]
  },
  {
   "cell_type": "code",
   "execution_count": 11,
   "metadata": {},
   "outputs": [
    {
     "name": "stdout",
     "output_type": "stream",
     "text": [
      "wiki_cancer                                          4241\n",
      "                                                       82\n",
      "conversation_rappelRendezVous                          82\n",
      "conversation_rappelRead                                31\n",
      "conversation_rappelUpdate2                             18\n",
      "wiki_cancer#                                           13\n",
      "conversation_FichePatientRead                          11\n",
      "conversation_FichePatientUpdate                         7\n",
      "conversation_hist                                       5\n",
      "conversation_FichePatientWrite:age                      4\n",
      "conversation_FichePatientWrite:doseTraitement           3\n",
      "conversation_FichePatientWrite:newsletter               2\n",
      "conversation_FichePatientWrite:typeTraitement           2\n",
      "conversation_rappelUpdate                               2\n",
      "conversation_FichePatientWrite:rappels                  2\n",
      "conversation_FichePatientWrite:partagerTemoignage       1\n",
      "conversation_FichePatientWrite:recevoirTemoignage       1\n",
      "conversation_FichePatientWrite:nomTraitement            1\n",
      "conversation_FichePatientWrite:role                     1\n",
      "conversation_FichePatientWrite:cancerType               1\n",
      "action                                                  1\n",
      "Name: Action, dtype: int64\n",
      "('nb Action differente', (21,))\n"
     ]
    }
   ],
   "source": [
    "# comptage du nbre d'occurence de categorie puis comptage du nbre de categorie differente\n",
    "print(data_train[\"Action\"].value_counts())\n",
    "print(\"nb Action differente\",(data_train[\"Action\"].value_counts()).shape)"
   ]
  },
  {
   "cell_type": "code",
   "execution_count": 12,
   "metadata": {},
   "outputs": [
    {
     "name": "stdout",
     "output_type": "stream",
     "text": [
      "#6-49_TRTEINS_Peau                             196\n",
      "#6-97_TRTEINS_Nausees_Vomissements             130\n",
      "#6-92_TRTEINS_Diarrhee                         128\n",
      "#2-130_QVDP_Alimentation                       122\n",
      "#6-53_TRTEINS_Aphtes                           116\n",
      "#6-90_TRTEINS_Mauvais_Gout                     105\n",
      "#6-98_TRTEINS_EI_Frequents                     101\n",
      "#2-36_QVDP_Alopecie_Pourquoi                   101\n",
      "#9-2_Informations_cancer                        94\n",
      "#6-60_TRTEINS_PAC                               86\n",
      "#2-64-0_QVDP_Fatigue                            84\n",
      "#6-18_TRTEINS_Radiotherapie                     83\n",
      "conversation_rappel_rendezvous                  82\n",
      "#6-57_TRTEINS_Yeux_Secs                         81\n",
      "#2-55_QVDP_Douleur                              79\n",
      "#6-96_TRTEINS_Perte_Poids                       78\n",
      "#2-45_QVDP_Alopecie_Perruque                    76\n",
      "#6-1_TRTEINS_Chimiotherapie                     73\n",
      "#2-96_QVDP_Social_Priseencharge                 71\n",
      "#6-24_TRTEINS_hormonotherapie                   67\n",
      "#6-58_TRTEINS_Bouche_Seche                      66\n",
      "#2-120_QVDP_Sexualite                           61\n",
      "#2-107_QVDP_Grossesse                           58\n",
      "#6-93_TRTEINS_Mauvaise_Haleine                  54\n",
      "#6-73_TRTEINS_Chirurgie_Mastectomie             53\n",
      "#2-41_QVDP_Alopecie_Diminuer                    53\n",
      "#6-34_TRTEINS_Lymphoedeme                       53\n",
      "#5-37_Soutien_Psychologique                     51\n",
      "#2-125_QVDP_Sexualite_Reconstruction            51\n",
      "#2-73_QVDP_Sport                                50\n",
      "                                              ... \n",
      "#6-86_TRTEINS_Chirurgie_Reeducation              8\n",
      "#6-8_TRTEINS_Intrathecale                        8\n",
      "#1-4_Menu_Patient_Recent                         8\n",
      "Profile_update                                   7\n",
      "#6-35_TRTEINS_PrevenirLymphoedeme                7\n",
      "#6-81_TRTEINS_Chirurgie_Mastectomie_risques      7\n",
      "#8-9_DDP_Charte_patient                          6\n",
      "#2-88_QVDP_Fertilite_Cycles                      6\n",
      "#8-8_DDP_Fin_de_vie                              6\n",
      "#2-88_Reprise_Cycle                              6\n",
      "#8-13_DDP_Secret_medical                         5\n",
      "#8-11_DDP_Dossier_medical                        5\n",
      "Conversation_Historique                          5\n",
      "#7-60_QVDA_Soins_Palliatifs                      5\n",
      "#6-5_TRTEINS_ChimioInjectable                    4\n",
      "#6-68_TRTEINS_Chirurgie_Anesthesie               4\n",
      "Profile_write_age                                4\n",
      "Profile_write_doseTraitement                     3\n",
      "#6-47_TRTEINS_InfectionManchon                   3\n",
      "Conversation_rappel_update                       2\n",
      "Profile_write_typeTraitement                     2\n",
      "Profile_write_newsletter                         2\n",
      "Profile_write_rappels                            2\n",
      "Profile_write_nomTraitement                      1\n",
      "#001_Abonnement                                  1\n",
      "intent                                           1\n",
      "Profile_write_recevoirTemoignage                 1\n",
      "Profile_write_typeCancer                         1\n",
      "Profile_write_role                               1\n",
      "Profile_write_partagerTemoignage                 1\n",
      "Name: Intent, Length: 146, dtype: int64\n",
      "('nb intent differente', (146,))\n"
     ]
    }
   ],
   "source": [
    "# comptage u nbre d'occurence de categorie puis comptage du nbre de categorie differente\n",
    "print(data_train[\"Intent\"].value_counts())\n",
    "print(\"nb intent differente\",(data_train[\"Intent\"].value_counts()).shape)"
   ]
  },
  {
   "cell_type": "code",
   "execution_count": 13,
   "metadata": {
    "collapsed": true
   },
   "outputs": [],
   "source": [
    "#on enregistre le contenu de la colonne Question dans un fichier csv\n",
    "#on fait ensuite un wordcloud sur toutes les donnees\n",
    "description = data_train_clean[\"Question\"]\n",
    "description.to_csv('Question.csv', sep = ',')"
   ]
  },
  {
   "cell_type": "code",
   "execution_count": 14,
   "metadata": {
    "scrolled": true
   },
   "outputs": [
    {
     "data": {
      "text/html": [
       "<div>\n",
       "<style scoped>\n",
       "    .dataframe tbody tr th:only-of-type {\n",
       "        vertical-align: middle;\n",
       "    }\n",
       "\n",
       "    .dataframe tbody tr th {\n",
       "        vertical-align: top;\n",
       "    }\n",
       "\n",
       "    .dataframe thead th {\n",
       "        text-align: right;\n",
       "    }\n",
       "</style>\n",
       "<table border=\"1\" class=\"dataframe\">\n",
       "  <thead>\n",
       "    <tr style=\"text-align: right;\">\n",
       "      <th></th>\n",
       "      <th>Question</th>\n",
       "      <th>Intent</th>\n",
       "      <th>BlockId</th>\n",
       "      <th>Action</th>\n",
       "    </tr>\n",
       "  </thead>\n",
       "  <tbody>\n",
       "    <tr>\n",
       "      <th>4</th>\n",
       "      <td>plaqu roug sech visag</td>\n",
       "      <td>#6-49_TRTEINS_Peau</td>\n",
       "      <td>59918cf1e4b0feb28881fd9f</td>\n",
       "      <td>wiki_cancer</td>\n",
       "    </tr>\n",
       "    <tr>\n",
       "      <th>45</th>\n",
       "      <td>trait peau pel</td>\n",
       "      <td>#6-49_TRTEINS_Peau</td>\n",
       "      <td>59918cf1e4b0feb28881fd9f</td>\n",
       "      <td>wiki_cancer</td>\n",
       "    </tr>\n",
       "    <tr>\n",
       "      <th>53</th>\n",
       "      <td>main roug</td>\n",
       "      <td>#6-49_TRTEINS_Peau</td>\n",
       "      <td>59918cf1e4b0feb28881fd9f</td>\n",
       "      <td>wiki_cancer</td>\n",
       "    </tr>\n",
       "    <tr>\n",
       "      <th>76</th>\n",
       "      <td>crem hydrat</td>\n",
       "      <td>#6-49_TRTEINS_Peau</td>\n",
       "      <td>59918cf1e4b0feb28881fd9f</td>\n",
       "      <td>wiki_cancer</td>\n",
       "    </tr>\n",
       "    <tr>\n",
       "      <th>84</th>\n",
       "      <td>peau pel</td>\n",
       "      <td>#6-49_TRTEINS_Peau</td>\n",
       "      <td>59918cf1e4b0feb28881fd9f</td>\n",
       "      <td>wiki_cancer</td>\n",
       "    </tr>\n",
       "  </tbody>\n",
       "</table>\n",
       "</div>"
      ],
      "text/plain": [
       "                 Question              Intent                   BlockId  \\\n",
       "4   plaqu roug sech visag  #6-49_TRTEINS_Peau  59918cf1e4b0feb28881fd9f   \n",
       "45         trait peau pel  #6-49_TRTEINS_Peau  59918cf1e4b0feb28881fd9f   \n",
       "53              main roug  #6-49_TRTEINS_Peau  59918cf1e4b0feb28881fd9f   \n",
       "76            crem hydrat  #6-49_TRTEINS_Peau  59918cf1e4b0feb28881fd9f   \n",
       "84               peau pel  #6-49_TRTEINS_Peau  59918cf1e4b0feb28881fd9f   \n",
       "\n",
       "         Action  \n",
       "4   wiki_cancer  \n",
       "45  wiki_cancer  \n",
       "53  wiki_cancer  \n",
       "76  wiki_cancer  \n",
       "84  wiki_cancer  "
      ]
     },
     "execution_count": 14,
     "metadata": {},
     "output_type": "execute_result"
    }
   ],
   "source": [
    "# tri par catégorie, on a un data frame pour une catégorie\n",
    "df = data_train_clean[data_train_clean['Intent'] == \"#6-49_TRTEINS_Peau\"]\n",
    "df.head()"
   ]
  },
  {
   "cell_type": "markdown",
   "metadata": {},
   "source": [
    "# 3. Création méta-catégories"
   ]
  },
  {
   "cell_type": "code",
   "execution_count": 15,
   "metadata": {
    "collapsed": true
   },
   "outputs": [],
   "source": [
    "#meta classe\n",
    "\n",
    "categories = data_train_clean['Intent']\n",
    "#categories = data_all['Intent']\n",
    "tailleCat = int(np.shape(categories)[0])\n",
    "LabelCat = np.zeros(tailleCat)\n",
    "for k in range(tailleCat):\n",
    "    # la categorie #0 a le label 0 implicitement\n",
    "    if categories[k][0:2]=='Pr':  LabelCat[k] = 11#profile\n",
    "    if (categories[k][0:2] == 'co' or categories[k][0:2]=='Co'): LabelCat[k] = 10 #conversation_rappel_rendezvous\n",
    "    if categories[k][0:2] == '#1' : LabelCat[k] = 1\n",
    "    if categories[k][0:2] == '#2' : LabelCat[k] = 2\n",
    "    if categories[k][0:2] == '#3' : LabelCat[k] = 3 ##il y a personne dedans \n",
    "    if categories[k][0:2] == '#4' : LabelCat[k] = 4  ## il y a personne dedans\n",
    "    if categories[k][0:2] == '#5' : LabelCat[k] = 5\n",
    "    if categories[k][0:2] == '#6' : LabelCat[k] = 6\n",
    "    if categories[k][0:2] == '#7' : LabelCat[k] = 7\n",
    "    if categories[k][0:2] == '#8' : LabelCat[k] = 8\n",
    "    if categories[k][0:2] == '#9' : LabelCat[k] = 9"
   ]
  },
  {
   "cell_type": "code",
   "execution_count": 16,
   "metadata": {},
   "outputs": [
    {
     "data": {
      "text/html": [
       "<div>\n",
       "<style scoped>\n",
       "    .dataframe tbody tr th:only-of-type {\n",
       "        vertical-align: middle;\n",
       "    }\n",
       "\n",
       "    .dataframe tbody tr th {\n",
       "        vertical-align: top;\n",
       "    }\n",
       "\n",
       "    .dataframe thead th {\n",
       "        text-align: right;\n",
       "    }\n",
       "</style>\n",
       "<table border=\"1\" class=\"dataframe\">\n",
       "  <thead>\n",
       "    <tr style=\"text-align: right;\">\n",
       "      <th></th>\n",
       "      <th>Question</th>\n",
       "      <th>Intent</th>\n",
       "      <th>BlockId</th>\n",
       "      <th>Action</th>\n",
       "      <th>0</th>\n",
       "    </tr>\n",
       "  </thead>\n",
       "  <tbody>\n",
       "    <tr>\n",
       "      <th>0</th>\n",
       "      <td>voudr savoir aliment droit sach canc hormono d...</td>\n",
       "      <td>#2-130_QVDP_Alimentation</td>\n",
       "      <td>5991c543e4b0b2045b0c568f</td>\n",
       "      <td>wiki_cancer</td>\n",
       "      <td>2.0</td>\n",
       "    </tr>\n",
       "    <tr>\n",
       "      <th>1</th>\n",
       "      <td>accompagn ami canc sein</td>\n",
       "      <td>#1-5_Menu_Aidant</td>\n",
       "      <td>59932112e4b068eebad2ef7e</td>\n",
       "      <td>wiki_cancer</td>\n",
       "      <td>1.0</td>\n",
       "    </tr>\n",
       "    <tr>\n",
       "      <th>2</th>\n",
       "      <td>banqu refusent pret</td>\n",
       "      <td>#2-103_QVDP_Social_Banque</td>\n",
       "      <td>598b44d9e4b03f0d36dbfd76</td>\n",
       "      <td>wiki_cancer</td>\n",
       "      <td>2.0</td>\n",
       "    </tr>\n",
       "    <tr>\n",
       "      <th>3</th>\n",
       "      <td>met rend mercred prochain</td>\n",
       "      <td>conversation_rappel_rendezvous</td>\n",
       "      <td>596340b8e4b0a226d0f4e811</td>\n",
       "      <td>conversation_rappelrendezvous</td>\n",
       "      <td>10.0</td>\n",
       "    </tr>\n",
       "    <tr>\n",
       "      <th>4</th>\n",
       "      <td>plaqu roug sech visag</td>\n",
       "      <td>#6-49_TRTEINS_Peau</td>\n",
       "      <td>59918cf1e4b0feb28881fd9f</td>\n",
       "      <td>wiki_cancer</td>\n",
       "      <td>6.0</td>\n",
       "    </tr>\n",
       "  </tbody>\n",
       "</table>\n",
       "</div>"
      ],
      "text/plain": [
       "                                            Question  \\\n",
       "0  voudr savoir aliment droit sach canc hormono d...   \n",
       "1                            accompagn ami canc sein   \n",
       "2                                banqu refusent pret   \n",
       "3                          met rend mercred prochain   \n",
       "4                              plaqu roug sech visag   \n",
       "\n",
       "                           Intent                   BlockId  \\\n",
       "0        #2-130_QVDP_Alimentation  5991c543e4b0b2045b0c568f   \n",
       "1                #1-5_Menu_Aidant  59932112e4b068eebad2ef7e   \n",
       "2       #2-103_QVDP_Social_Banque  598b44d9e4b03f0d36dbfd76   \n",
       "3  conversation_rappel_rendezvous  596340b8e4b0a226d0f4e811   \n",
       "4              #6-49_TRTEINS_Peau  59918cf1e4b0feb28881fd9f   \n",
       "\n",
       "                          Action     0  \n",
       "0                    wiki_cancer   2.0  \n",
       "1                    wiki_cancer   1.0  \n",
       "2                    wiki_cancer   2.0  \n",
       "3  conversation_rappelrendezvous  10.0  \n",
       "4                    wiki_cancer   6.0  "
      ]
     },
     "execution_count": 16,
     "metadata": {},
     "output_type": "execute_result"
    }
   ],
   "source": [
    "#data frame avec une colonne mettant un label suivant la meta categorie\n",
    "dfLabelCat = pd.DataFrame(LabelCat)\n",
    "meta_df = pd.concat([data_train_clean, dfLabelCat], axis=1)\n",
    "meta_df.head()"
   ]
  },
  {
   "cell_type": "code",
   "execution_count": 17,
   "metadata": {
    "collapsed": true
   },
   "outputs": [],
   "source": [
    "#on stocke les questions pour chaque cle, chaque cle sera une categorie\n",
    "dix = []\n",
    "neuf = []\n",
    "huit = []\n",
    "sept = []\n",
    "six = []\n",
    "cinq = []\n",
    "quatre = []\n",
    "trois = []\n",
    "deux = []\n",
    "un = []\n",
    "zero = []\n",
    "onze = []\n",
    "for k in range(tailleCat):\n",
    "    if meta_df[0][k] == 10.0 : dix.append(meta_df['Question'][k])\n",
    "    if meta_df[0] [k] == 9.0 : neuf.append (meta_df['Question'][k])\n",
    "    if meta_df[0][k] == 8.0 : huit.append (meta_df['Question'][k])\n",
    "    if meta_df[0][k] == 7.0 : sept.append (meta_df['Question'][k])\n",
    "    if meta_df[0][k] == 6.0 : six.append (meta_df['Question'][k])\n",
    "    if meta_df[0][k] == 5.0 : cinq.append (meta_df['Question'][k])\n",
    "    if meta_df[0][k] == 4.0 : quatre.append(meta_df['Question'][k])\n",
    "    if meta_df[0][k] == 3.0 : trois.append (meta_df['Question'][k])\n",
    "    if meta_df[0][k] == 2.0 : deux.append (meta_df['Question'][k])\n",
    "    if meta_df[0][k] == 1.0 : un.append (meta_df['Question'][k])\n",
    "    if meta_df[0][k] == 0.0 : zero.append (meta_df['Question'][k])\n",
    "    if meta_df[0][k] == 11.0 : onze.append (meta_df['Question'][k])    \n",
    "label = range(12)\n",
    "questionLab = [zero,un,deux,trois,quatre,cinq,six,sept,huit,neuf,dix,onze]\n",
    "\n",
    "meta_dict = dict(zip(label,questionLab)) # creation du dictionnaire"
   ]
  },
  {
   "cell_type": "code",
   "execution_count": 31,
   "metadata": {},
   "outputs": [
    {
     "ename": "ImportError",
     "evalue": "No module named wordcloud",
     "output_type": "error",
     "traceback": [
      "\u001b[0;31m---------------------------------------------------------------------------\u001b[0m",
      "\u001b[0;31mImportError\u001b[0m                               Traceback (most recent call last)",
      "\u001b[0;32m<ipython-input-31-ed4c8135df27>\u001b[0m in \u001b[0;36m<module>\u001b[0;34m()\u001b[0m\n\u001b[1;32m      1\u001b[0m \u001b[0;32mfrom\u001b[0m \u001b[0mos\u001b[0m \u001b[0;32mimport\u001b[0m \u001b[0mpath\u001b[0m\u001b[0;34m\u001b[0m\u001b[0m\n\u001b[0;32m----> 2\u001b[0;31m \u001b[0;32mfrom\u001b[0m \u001b[0mwordcloud\u001b[0m \u001b[0;32mimport\u001b[0m \u001b[0mWordCloud\u001b[0m\u001b[0;34m\u001b[0m\u001b[0m\n\u001b[0m\u001b[1;32m      3\u001b[0m \u001b[0;34m\u001b[0m\u001b[0m\n\u001b[1;32m      4\u001b[0m \u001b[0;31m# tri par catégorie, on a un data frame pour une méta catégorie\u001b[0m\u001b[0;34m\u001b[0m\u001b[0;34m\u001b[0m\u001b[0m\n\u001b[1;32m      5\u001b[0m \u001b[0mdf\u001b[0m \u001b[0;34m=\u001b[0m \u001b[0mmeta_df\u001b[0m\u001b[0;34m[\u001b[0m\u001b[0;34m'Question'\u001b[0m\u001b[0;34m]\u001b[0m\u001b[0;34m[\u001b[0m\u001b[0mmeta_df\u001b[0m\u001b[0;34m[\u001b[0m\u001b[0;36m0\u001b[0m\u001b[0;34m]\u001b[0m \u001b[0;34m==\u001b[0m \u001b[0;36m6.0\u001b[0m\u001b[0;34m]\u001b[0m\u001b[0;31m#traitements\u001b[0m\u001b[0;34m\u001b[0m\u001b[0m\n",
      "\u001b[0;31mImportError\u001b[0m: No module named wordcloud"
     ]
    }
   ],
   "source": [
    "from os import path\n",
    "from wordcloud import WordCloud\n",
    "\n",
    "# tri par catégorie, on a un data frame pour une méta catégorie\n",
    "df = meta_df['Question'][meta_df[0] == 6.0]#traitements\n",
    "df.to_csv('Question.csv', sep = ',')\n",
    "text = open(\"/home/bouchero/Documents/projet/Question.csv\").read()\n",
    "# Generate a word cloud image\n",
    "wordcloud = WordCloud().generate(text)\n",
    "\n",
    "wordcloud = WordCloud(max_font_size=60).generate(text)\n",
    "plt.figure(figsize=(10,10))\n",
    "plt.imshow(wordcloud, interpolation=\"bilinear\")\n",
    "plt.axis(\"off\")\n",
    "plt.show()\n"
   ]
  },
  {
   "cell_type": "markdown",
   "metadata": {},
   "source": [
    "ci dessus le wordcloud sur la meta categ 6 : traitement. On retiendra comme stopwords pour cette catgéorie les mots suivants: chimiothérapie, nausée, peau et diarhée. "
   ]
  },
  {
   "cell_type": "code",
   "execution_count": null,
   "metadata": {
    "collapsed": true
   },
   "outputs": [],
   "source": [
    "# tri par catégorie, on a un data frame pour une méta catégorie\n",
    "df = meta_df['Question'][meta_df[0] == 9.0]#information\n",
    "\n",
    "description3 = df\n",
    "description3.to_csv('Question.csv', sep = ',')\n",
    "text = open(\"/home/bouchero/Documents/projet/Question.csv\").read()\n",
    "# Generate a word cloud image\n",
    "wordcloud = WordCloud().generate(text)\n",
    "\n",
    "wordcloud = WordCloud(max_font_size=60).generate(text)\n",
    "plt.figure(figsize=(10,10))\n",
    "plt.imshow(wordcloud, interpolation=\"bilinear\")\n",
    "plt.axis(\"off\")\n",
    "plt.show()\n"
   ]
  },
  {
   "cell_type": "markdown",
   "metadata": {},
   "source": [
    "On retiendra comme stopwords pour la catégorie information les mots suivants: cancer, sein et metastase "
   ]
  },
  {
   "cell_type": "code",
   "execution_count": null,
   "metadata": {
    "collapsed": true
   },
   "outputs": [],
   "source": [
    "from os import path\n",
    "from wordcloud import WordCloud\n",
    "\n",
    "# tri par catégorie, on a un data frame pour une méta catégorie\n",
    "df = meta_df['Question'][meta_df[0] == 2.0]#qvdp\n",
    "df.to_csv('Question.csv', sep = ',')\n",
    "text = open(\"/home/bouchero/Documents/projet/Question.csv\").read()\n",
    "# Generate a word cloud image\n",
    "wordcloud = WordCloud().generate(text)\n",
    "\n",
    "wordcloud = WordCloud(max_font_size=60).generate(text)\n",
    "plt.figure(figsize=(10,10))\n",
    "plt.imshow(wordcloud, interpolation=\"bilinear\")\n",
    "plt.axis(\"off\")\n",
    "plt.show()"
   ]
  },
  {
   "cell_type": "markdown",
   "metadata": {},
   "source": [
    "On retiendra comme stopwords pour la catégorie qvdp les mots suivants: chimiothérapie, cancer,radiothérapie, fatigue et perruque"
   ]
  },
  {
   "cell_type": "code",
   "execution_count": null,
   "metadata": {
    "collapsed": true
   },
   "outputs": [],
   "source": [
    "from os import path\n",
    "from wordcloud import WordCloud\n",
    "\n",
    "# tri par catégorie, on a un data frame pour une méta catégorie\n",
    "df = meta_df['Question'][meta_df[0] == 1.0]#menu\n",
    "df.to_csv('Question.csv', sep = ',')\n",
    "text = open(\"/home/bouchero/Documents/projet/Question.csv\").read()\n",
    "# Generate a word cloud image\n",
    "wordcloud = WordCloud().generate(text)\n",
    "\n",
    "wordcloud = WordCloud(max_font_size=60).generate(text)\n",
    "plt.figure(figsize=(10,10))\n",
    "plt.imshow(wordcloud, interpolation=\"bilinear\")\n",
    "plt.axis(\"off\")\n",
    "plt.show()"
   ]
  },
  {
   "cell_type": "markdown",
   "metadata": {},
   "source": [
    "On retiendra comme stopwords pour la catégorie menu les mots suivants: ami, traitement, patient, cancer et sein"
   ]
  },
  {
   "cell_type": "code",
   "execution_count": null,
   "metadata": {
    "collapsed": true
   },
   "outputs": [],
   "source": [
    "from os import path\n",
    "from wordcloud import WordCloud\n",
    "\n",
    "# tri par catégorie, on a un data frame pour une méta catégorie\n",
    "df = meta_df['Question'][meta_df[0] == 8.0]#ddp\n",
    "df.to_csv('Question.csv', sep = ',')\n",
    "text = open(\"/home/bouchero/Documents/projet/Question.csv\").read()\n",
    "# Generate a word cloud image\n",
    "wordcloud = WordCloud().generate(text)\n",
    "\n",
    "wordcloud = WordCloud(max_font_size=60).generate(text)\n",
    "plt.figure(figsize=(10,10))\n",
    "plt.imshow(wordcloud, interpolation=\"bilinear\")\n",
    "plt.axis(\"off\")\n",
    "plt.show()"
   ]
  },
  {
   "cell_type": "markdown",
   "metadata": {},
   "source": [
    "On retiendra comme stopwords pour la catégorie ddp les mots suivants: patient, medical, fin et consentement"
   ]
  },
  {
   "cell_type": "code",
   "execution_count": null,
   "metadata": {
    "collapsed": true
   },
   "outputs": [],
   "source": [
    "# tri par catégorie, on a un data frame pour une méta catégorie\n",
    "df = meta_df['Question'][meta_df[0] == 7.0]#qvda remission recidive\n",
    "\n",
    "description3 = df\n",
    "description3.to_csv('Question.csv', sep = ',')\n",
    "text = open(\"/home/bouchero/Documents/projet/Question.csv\").read()\n",
    "# Generate a word cloud image\n",
    "wordcloud = WordCloud().generate(text)\n",
    "\n",
    "wordcloud = WordCloud(max_font_size=60).generate(text)\n",
    "plt.figure(figsize=(10,10))\n",
    "plt.imshow(wordcloud, interpolation=\"bilinear\")\n",
    "plt.axis(\"off\")\n",
    "plt.show()"
   ]
  },
  {
   "cell_type": "markdown",
   "metadata": {},
   "source": [
    "On retiendra comme stopwords pour la catégorie qvda remission récidive les mots suivants: rémission, récidive, cancer et peut (pouvoir)."
   ]
  },
  {
   "cell_type": "code",
   "execution_count": null,
   "metadata": {
    "collapsed": true
   },
   "outputs": [],
   "source": [
    "# tri par catégorie, on a un data frame pour une méta catégorie\n",
    "df = meta_df['Question'][meta_df[0] == 11.0]#profile\n",
    "\n",
    "description3 = df\n",
    "description3.to_csv('Question.csv', sep = ',')\n",
    "text = open(\"/home/bouchero/Documents/projet/Question.csv\").read()\n",
    "# Generate a word cloud image\n",
    "wordcloud = WordCloud().generate(text)\n",
    "\n",
    "wordcloud = WordCloud(max_font_size=60).generate(text)\n",
    "plt.figure(figsize=(10,10))\n",
    "plt.imshow(wordcloud, interpolation=\"bilinear\")\n",
    "plt.axis(\"off\")\n",
    "plt.show()"
   ]
  },
  {
   "cell_type": "markdown",
   "metadata": {},
   "source": [
    "On retiendra comme stopwords pour la catégorie profile les mots suivants: fiche, profil et veux."
   ]
  },
  {
   "cell_type": "code",
   "execution_count": null,
   "metadata": {
    "collapsed": true
   },
   "outputs": [],
   "source": [
    "# tri par catégorie, on a un data frame pour une méta catégorie\n",
    "df = meta_df['Question'][meta_df[0] == 0.0]#gestion\n",
    "\n",
    "description3 = df\n",
    "description3.to_csv('Question.csv', sep = ',')\n",
    "text = open(\"/home/bouchero/Documents/projet/Question.csv\").read()\n",
    "# Generate a word cloud image\n",
    "wordcloud = WordCloud().generate(text)\n",
    "\n",
    "wordcloud = WordCloud(max_font_size=60).generate(text)\n",
    "plt.figure(figsize=(10,10))\n",
    "plt.imshow(wordcloud, interpolation=\"bilinear\")\n",
    "plt.axis(\"off\")\n",
    "plt.show()"
   ]
  },
  {
   "cell_type": "markdown",
   "metadata": {},
   "source": [
    "On retiendra comme stopwords pour la catégorie gestion les mots suivants: message, cancer, information et besoin."
   ]
  },
  {
   "cell_type": "code",
   "execution_count": null,
   "metadata": {
    "collapsed": true
   },
   "outputs": [],
   "source": [
    "# tri par catégorie, on a un data frame pour une méta catégorie\n",
    "df = meta_df['Question'][meta_df[0] == 5.0]#soutien\n",
    "\n",
    "description3 = df\n",
    "description3.to_csv('Question.csv', sep = ',')\n",
    "text = open(\"/home/bouchero/Documents/projet/Question.csv\").read()\n",
    "# Generate a word cloud image\n",
    "wordcloud = WordCloud().generate(text)\n",
    "\n",
    "wordcloud = WordCloud(max_font_size=60).generate(text)\n",
    "plt.figure(figsize=(10,10))\n",
    "plt.imshow(wordcloud, interpolation=\"bilinear\")\n",
    "plt.axis(\"off\")\n",
    "plt.show()"
   ]
  },
  {
   "cell_type": "markdown",
   "metadata": {},
   "source": [
    "On retiendra comme stopwords pour la catégorie soutien les mots suivants: malade, dépression, peur et cancer."
   ]
  },
  {
   "cell_type": "code",
   "execution_count": null,
   "metadata": {
    "collapsed": true
   },
   "outputs": [],
   "source": [
    "# tri par catégorie, on a un data frame pour une méta catégorie\n",
    "df = meta_df['Question'][meta_df[0] == 10.0]#conversation\n",
    "\n",
    "description3 = df\n",
    "description3.to_csv('Question.csv', sep = ',')\n",
    "text = open(\"/home/bouchero/Documents/projet/Question.csv\").read()\n",
    "# Generate a word cloud image\n",
    "wordcloud = WordCloud().generate(text)\n",
    "\n",
    "wordcloud = WordCloud(max_font_size=60).generate(text)\n",
    "plt.figure(figsize=(10,10))\n",
    "plt.imshow(wordcloud, interpolation=\"bilinear\")\n",
    "plt.axis(\"off\")\n",
    "plt.show()"
   ]
  },
  {
   "cell_type": "markdown",
   "metadata": {},
   "source": [
    "On retiendra comme stopwords pour la catégorie conversation les mots suivants: rappel, prendre et voir."
   ]
  },
  {
   "cell_type": "code",
   "execution_count": 22,
   "metadata": {
    "collapsed": true
   },
   "outputs": [],
   "source": [
    "meta = meta_df[0] # meta catégorie\n",
    "\n",
    "color_seq = [] #liste de couleurs\n",
    "\n",
    "#on associe à chaque individu une couleur en fonction de sa classe\n",
    "for k in range(int(np.shape(meta_df['Question'])[0])):\n",
    "    if meta[k] == 1.0 : color_seq.append(\"black\")\n",
    "    elif meta[k] == 2.0: color_seq.append(\"red\")\n",
    "    elif meta[k] == 11.0: color_seq.append(\"green\")\n",
    "    elif meta[k] == 10.0: color_seq.append(\"yellow\")\n",
    "    elif meta[k] == 5.0: color_seq.append(\"fuchsia\")\n",
    "    elif meta[k] == 6.0: color_seq.append(\"aqua\")\n",
    "    elif meta[k] == 7.0: color_seq.append(\"brown\")\n",
    "    elif meta[k] == 8.0: color_seq.append(\"indigo\")\n",
    "    elif meta[k] == 9.0: color_seq.append(\"lightblue\")\n",
    "    else : color_seq.append(\"blue\")"
   ]
  },
  {
   "cell_type": "code",
   "execution_count": 23,
   "metadata": {},
   "outputs": [
    {
     "name": "stdout",
     "output_type": "stream",
     "text": [
      "[ 0.01392177  0.0114489   0.01192129  0.01088641  0.00962354  0.00970538\n",
      "  0.00943981  0.00883552  0.00850303  0.00834752  0.00794849  0.00759369\n",
      "  0.00719502  0.00717743  0.00668761  0.00650444  0.00638047  0.00600904\n",
      "  0.00588737  0.00572599  0.00546755  0.00549     0.00542904  0.00538856\n",
      "  0.00510949  0.00507102  0.00501461  0.004815    0.00476687  0.00474873]\n",
      " \n",
      "[ 9.2204207   7.76867674  7.29312691  6.96604778  6.73496666  6.60756973\n",
      "  6.48746047  6.28369386  6.20391731  6.10048867  5.99482841  5.82103499\n",
      "  5.70177603  5.66796569  5.45985772  5.40650629  5.35153088  5.22945468\n",
      "  5.1251244   5.05823082  4.98038276  4.94688763  4.91942015  4.91290749\n",
      "  4.78076563  4.75521754  4.73075123  4.63771663  4.6160101   4.60077069]\n"
     ]
    }
   ],
   "source": [
    "from sklearn.feature_extraction.text import TfidfVectorizer, TfidfTransformer\n",
    "from sklearn.feature_extraction import FeatureHasher\n",
    "\n",
    "stop_words = nltk.corpus.stopwords.words('french')\n",
    "question = meta_df[\"Question\"] #on va travailler que sur la colonne des questions\n",
    "vec = TfidfVectorizer(\n",
    "            min_df = 1, #on prend tous les mots\n",
    "            stop_words =stop_words,\n",
    "            smooth_idf=True,\n",
    "            norm='l2',\n",
    "            sublinear_tf=True,\n",
    "            use_idf=True, #tf avec idf\n",
    "            ngram_range=(1,1)) # BIEN REFLECHIR COMMENT L UTILISER\n",
    "tfidf =  vec.fit_transform(question)\n",
    "# définition de la commande\n",
    "X = tfidf\n",
    "nom = vec.get_feature_names() #on recupere le nom des variables\n",
    "svd = TruncatedSVD(n_components=30, n_iter=40, random_state=42)\n",
    "svd.fit(X)\n",
    "#variance expliquee\n",
    "print(svd.explained_variance_ratio_) \n",
    "print (\" \")\n",
    "#valeurs singuliere\n",
    "print(svd.singular_values_)\n",
    "C = svd.fit(X).transform(X)\n"
   ]
  },
  {
   "cell_type": "code",
   "execution_count": 24,
   "metadata": {},
   "outputs": [
    {
     "data": {
      "image/png": "[encoded data removed]",
      "text/plain": [
       "<matplotlib.figure.Figure at 0x7f7822ea1810>"
      ]
     },
     "metadata": {},
     "output_type": "display_data"
    }
   ],
   "source": [
    "# Eboulis des valeurs propres\n",
    "plt.figure()\n",
    "abscisse = np.arange(30)\n",
    "plt.bar(abscisse,svd.explained_variance_)\n",
    "plt.xlabel(\"Principal components\")\n",
    "plt.ylabel(\"Percentage of explained variance\" )\n",
    "plt.show()"
   ]
  },
  {
   "cell_type": "code",
   "execution_count": 25,
   "metadata": {},
   "outputs": [
    {
     "data": {
      "image/png": "[encoded data removed]",
      "text/plain": [
       "<matplotlib.figure.Figure at 0x7f7820a7b950>"
      ]
     },
     "metadata": {},
     "output_type": "display_data"
    }
   ],
   "source": [
    "fig = plt.figure(figsize=(15,15))\n",
    "# premier plan factoriel\n",
    "ax = fig.add_subplot(2,2,1)\n",
    "ax.scatter(C[:,0], C[:,1], s=1,c = color_seq)\n",
    "plt.xlabel(\"First component\")\n",
    "plt.ylabel(\"Second component\")\n",
    "# deuxieme plan factoriel\n",
    "ax = fig.add_subplot(2,2,2)\n",
    "ax.scatter(C[:,1], C[:,2], s=1,c = color_seq)\n",
    "plt.xlabel(\"Second component\")\n",
    "plt.ylabel(\"Third component\")\n",
    "# troisieme plan factoriel\n",
    "ax = fig.add_subplot(2, 2, 3)\n",
    "ax.scatter(C[:,2], C[:,3], s=1,c = color_seq)\n",
    "plt.xlabel(\"Third component\")\n",
    "plt.ylabel(\"Fourth component\")\n",
    "# quatrieme plan factoriel\n",
    "ax = fig.add_subplot(2, 2, 4)\n",
    "ax.scatter(C[:,3], C[:,4], s=1,c = color_seq)\n",
    "plt.xlabel(\"Fourth component\")\n",
    "plt.ylabel(\"Fifth component\")\n",
    "plt.show()"
   ]
  },
  {
   "cell_type": "markdown",
   "metadata": {},
   "source": [
    "en bleu clair : la meta categ traitement \n",
    "    en rouge : QVDP\n",
    "        les autres on les voit pas : dans la suite visualisons sans les deux categ les + fournies"
   ]
  },
  {
   "cell_type": "code",
   "execution_count": 28,
   "metadata": {
    "collapsed": true
   },
   "outputs": [],
   "source": [
    "color_seq= [] #liste de couleurs\n",
    "\n",
    "#on associe à chaque individu une couleur en fonction de sa classe\n",
    "for k in range(int(np.shape(meta_df['Question'])[0])):\n",
    "    if meta[k] == 1.0 : color_seq.append(\"None\")\n",
    "    elif meta[k] == 2.0: color_seq.append(\"None\")\n",
    "    elif meta[k] == 11.0: color_seq.append(\"green\")\n",
    "    elif meta[k] == 10.0: color_seq.append(\"yellow\")\n",
    "    elif meta[k] == 5.0: color_seq.append(\"fuchsia\")\n",
    "    elif meta[k] == 6.0: color_seq.append(\"None\")\n",
    "    elif meta[k] == 7.0: color_seq.append(\"brown\")\n",
    "    elif meta[k] == 8.0: color_seq.append(\"indigo\")\n",
    "    elif meta[k] == 9.0: color_seq.append(\"None\")\n",
    "    else : color_seq.append(\"None\")"
   ]
  },
  {
   "cell_type": "code",
   "execution_count": 29,
   "metadata": {},
   "outputs": [
    {
     "data": {
      "image/png": "[encoded data removed]",
      "text/plain": [
       "<matplotlib.figure.Figure at 0x7f781e9ce5d0>"
      ]
     },
     "metadata": {},
     "output_type": "display_data"
    }
   ],
   "source": [
    "fig = plt.figure(figsize=(15,15))\n",
    "# premier plan factoriel\n",
    "ax = fig.add_subplot(2,2,1)\n",
    "ax.scatter(C[:,0], C[:,1], s=10,c = color_seq)\n",
    "plt.xlabel(\"First component\")\n",
    "plt.ylabel(\"Second component\")\n",
    "# deuxieme plan factoriel\n",
    "ax = fig.add_subplot(2,2,2)\n",
    "ax.scatter(C[:,1], C[:,2], s=10,c = color_seq)\n",
    "plt.xlabel(\"Second component\")\n",
    "plt.ylabel(\"Third component\")\n",
    "# troisieme plan factoriel\n",
    "ax = fig.add_subplot(2, 2, 3)\n",
    "ax.scatter(C[:,2], C[:,3], s=10,c = color_seq)\n",
    "plt.xlabel(\"Third component\")\n",
    "plt.ylabel(\"Fourth component\")\n",
    "# quatrieme plan factoriel\n",
    "ax = fig.add_subplot(2, 2, 4)\n",
    "ax.scatter(C[:,3], C[:,4], s=10,c = color_seq)\n",
    "plt.xlabel(\"Fourth component\")\n",
    "plt.ylabel(\"Fifth component\")\n",
    "plt.show()"
   ]
  },
  {
   "cell_type": "markdown",
   "metadata": {},
   "source": [
    "sur le 1er plan on voit un axe qui détermine très bien la meta categ 9 caractérisée donc par \"sein\" et \"cancer\""
   ]
  },
  {
   "cell_type": "markdown",
   "metadata": {},
   "source": [
    "### Essayons maintenant d'affiner notre classification avec l'ajout de stopwords en fonction des méta catégories\n",
    "\n",
    "Nous avons 10 méta-catégories et 146 sous catégories. Nous allons effectuer des wordcloud pour chaque méta-catégorie. Avec ces wordcloud nous essayerons de repérer les 3-4 mots les plus représentatifs de la méta-catégorie. Ces mots sont par définition présents dans les sous catégories de la méta-catégorie. Nous allons donc rajouter ces mots aux stopwords afin d'affiner notre discrimination envers les sous catégories."
   ]
  },
  {
   "cell_type": "code",
   "execution_count": null,
   "metadata": {
    "collapsed": true
   },
   "outputs": [],
   "source": [
    "#Création base de données non nettoyées\n",
    "categories = data_all['Intent']\n",
    "tailleCat = int(np.shape(categories)[0])\n",
    "LabelCat = np.zeros(tailleCat)\n",
    "for k in range(tailleCat):\n",
    "    # la categorie #0 a le label 0 implicitement\n",
    "    if categories[k][0:2]=='Pr':  LabelCat[k] = 11#profile\n",
    "    if (categories[k][0:2] == 'co' or categories[k][0:2]=='Co'): LabelCat[k] = 10 #conversation_rappel_rendezvous\n",
    "    if categories[k][0:2] == '#1' : LabelCat[k] = 1\n",
    "    if categories[k][0:2] == '#2' : LabelCat[k] = 2\n",
    "    if categories[k][0:2] == '#5' : LabelCat[k] = 5\n",
    "    if categories[k][0:2] == '#6' : LabelCat[k] = 6\n",
    "    if categories[k][0:2] == '#7' : LabelCat[k] = 7\n",
    "    if categories[k][0:2] == '#8' : LabelCat[k] = 8\n",
    "    if categories[k][0:2] == '#9' : LabelCat[k] = 9\n",
    "\n",
    "#data frame avec une colonne mettant un label suivant la meta categorie\n",
    "dfLabelCat = pd.DataFrame(LabelCat)\n",
    "data_all2=data_all.drop(data_all.index[0])\n",
    "meta_df = pd.concat([data_all, dfLabelCat], axis=1)\n",
    "meta_df1= meta_df.drop(meta_df.index[0])\n",
    "meta_df1.head()\n"
   ]
  },
  {
   "cell_type": "markdown",
   "metadata": {},
   "source": [
    "Nous voulons nettoyer les données différemment selon leur méta catégorie pour ensuite avoir une meilleure discrimination des sous catégories"
   ]
  },
  {
   "cell_type": "code",
   "execution_count": null,
   "metadata": {
    "collapsed": true
   },
   "outputs": [],
   "source": [
    "meta_df11=meta_df1[meta_df1[0]==6.0]\n",
    "stopwords_perso = [\"chimiotherapie\", \"peau\", \"nausee\", \"diarrhee\"]"
   ]
  },
  {
   "cell_type": "code",
   "execution_count": null,
   "metadata": {
    "collapsed": true
   },
   "outputs": [],
   "source": [
    "#for k in range(5012):\n",
    " #       if meta_df1[0][k] == 10.0 : stopwords_perso = [\"rappel\", \"prendre\", \"voir\"]\n",
    "  #      if meta_df1[0] [k] == 9.0 : stopwords_perso = [\"cancer\", \"sein\", \"metastase\"]\n",
    "   #     if meta_df1[0][k] == 8.0 : stopwords_perso = [\"patient\", \"medical\", \"fin\"]\n",
    "    #    if meta_df1[0][k] == 7.0 : stopwords_perso = [\"remission\", \"recidive\", \"cancer\", \"peut\"]\n",
    "     #   if meta_df1[0][k] == 6.0 : stopwords_perso = [\"chimiotherapie\", \"peau\", \"nausee\", \"diarrhee\"]\n",
    "      #  if meta_df1[0][k] == 5.0 : stopwords_perso = [\"depression\", \"peur\", \"cancer\"]\n",
    "       # if meta_df1[0][k] == 11.0 : stopwords_perso = [\"fiche\", \"profil\", \"veux\"]\n",
    "        #if meta_df1[0][k] == 2.0 : stopwords_perso = [\"chimiotheapie\", \"radiotherapie\", \"cancer\", \"fatigue\", \"perruque\"]\n",
    "      #  if meta_df1[0][k] == 1.0 : stopwords_perso = [\"ami\", \"traitement\", \"patient\"]\n",
    "      #  if meta_df1[0][k] == 0.0 : stopwords_perso = [\"message\", \"information\", \"besoin\", \"cancer\"]"
   ]
  },
  {
   "cell_type": "code",
   "execution_count": null,
   "metadata": {
    "collapsed": true
   },
   "outputs": [],
   "source": [
    "## Fonction de setmming permettant la racinisation\n",
    "stemmer=nltk.stem.SnowballStemmer('french')\n",
    "stopwords2 = list(set(stopwords).union(set(stopwords_perso)))\n",
    "\n",
    "# Fonction clean générale\n",
    "def clean_txt2(txt):\n",
    "    ### remove html stuff\n",
    "    txt = BeautifulSoup(txt,\"html.parser\",from_encoding='utf-8').get_text() #nettoyage donnee html\n",
    "    ### lower case\n",
    "    txt = txt.lower()\n",
    "    ### special escaping character '...'\n",
    "    txt = txt.replace(u'\\u2026','.')\n",
    "    txt = txt.replace(u'\\u00a0',' ')\n",
    "    ### remove accent btw\n",
    "    txt = unicodedata.normalize('NFD', txt).encode('ascii', 'ignore')\n",
    "    ###txt = unidecode(txt)\n",
    "    ### remove non alphanumeric char\n",
    "    txt = re.sub('[^a-z_]', ' ', txt)\n",
    "    ### remove french stop words\n",
    "    tokens = [w for w in txt.split() if (len(w)>2) and (w not in stopwords2)]\n",
    "    ### french stemming\n",
    "    tokens = [stemmer.stem(token) for token in tokens]\n",
    "    #Stemmers remove morphological affixes from words, leaving only the word stem\n",
    "    ### tokens = stemmer.stemWords(tokens)\n",
    "    return ' '.join(tokens)\n",
    "    #join() returns a string in which the string elements of sequence have been joined by str separator.\n",
    "\n",
    "    # fonction de nettoyage du fichier(stemming et liste de mots à supprimer)\n",
    "def clean_df2(input_data, column_names= ['Question','Intent','BlockId', 'Action']):\n",
    "    #Test if columns entry match columns names of input data\n",
    "    column_names_diff= set(column_names).difference(set(input_data.columns))\n",
    "    #set.difference   new set with elements in column_names but not in input_data.columns\n",
    "    \n",
    "    if column_names_diff: #rentre dans la boucle si column_names différent zero\n",
    "        # warning = exception\n",
    "        warnings.warn(\"Column(s) '\"+\", \".join(list(column_names_diff)) +\"' do(es) not match columns of input data\", Warning)\n",
    "        \n",
    "    nb_line = input_data.shape[0]\n",
    "    print(\"Start Clean %d lines\" %nb_line)\n",
    "    \n",
    "    # Cleaning start for each columns\n",
    "    time_start = time.time()\n",
    "    clean_list=[]\n",
    "    for column_name in column_names:\n",
    "        column = input_data[column_name].values\n",
    "        if column_name == \"Question\":\n",
    "            array_clean = np.array(map(clean_txt2,column))\n",
    "            \n",
    "        elif column_name == \"Intent\":\n",
    "            array_clean = np.asarray(input_data['Intent']) #on recopie telle quelle la colonne intent  \n",
    "            \n",
    "        else:\n",
    "            array_clean = np.array(map(clean_marque,column))\n",
    "            #applies a function to all the items in an input_list\n",
    "            #map(function_to_apply, list_of_inputs)\n",
    "        clean_list.append(array_clean)\n",
    "    time_end = time.time()\n",
    "    print(\"Cleaning time: %d secondes\"%(time_end-time_start))\n",
    "    \n",
    "    #Convert list to DataFrame\n",
    "    array_clean = np.array(clean_list).T\n",
    "    data_clean = pd.DataFrame(array_clean, columns = column_names)\n",
    "    return data_clean\n",
    "\n",
    " \n",
    "meta_df_clean=clean_df2(meta_df11)"
   ]
  },
  {
   "cell_type": "code",
   "execution_count": null,
   "metadata": {
    "collapsed": true
   },
   "outputs": [],
   "source": [
    "# tri par catégorie, on a un data frame pour une catégorie\n",
    "df = meta_df_clean['Question'][data_train_clean['Intent'] == '#6-49_TRTEINS_Peau']\n",
    "description2 = df\n",
    "description2.to_csv('Intent.csv', sep = ';')"
   ]
  },
  {
   "cell_type": "code",
   "execution_count": null,
   "metadata": {
    "collapsed": true
   },
   "outputs": [],
   "source": [
    "from os import path\n",
    "from wordcloud import WordCloud\n",
    "\n",
    "#d = path.dirname()\n",
    "\n",
    "# Read the whole text.\n",
    "#text = open(path.join(d, 'constitution.txt')).read()\n",
    "text = open(\"/home/bouchero/Documents/projet/Intent.csv\").read()  \n",
    "# Generate a word cloud image\n",
    "wordcloud = WordCloud().generate(text)\n",
    "\n",
    "# Display the generated image:\n",
    "# the matplotlib way:\n",
    "#import matplotlib.pyplot as plt\n",
    "#plt.imshow(wordcloud, interpolation='bilinear')\n",
    "#plt.axis(\"off\")\n",
    "\n",
    "# lower max_font_size\n",
    "wordcloud = WordCloud(max_font_size=60).generate(text)\n",
    "plt.figure(figsize=(10,10))\n",
    "plt.imshow(wordcloud, interpolation=\"bilinear\")\n",
    "plt.axis(\"off\")\n",
    "plt.show()\n",
    "\n",
    "# The pil way (if you don't have matplotlib)\n",
    "# image = wordcloud.to_image()\n",
    "# image.show()"
   ]
  },
  {
   "cell_type": "code",
   "execution_count": null,
   "metadata": {
    "collapsed": true
   },
   "outputs": [],
   "source": [
    "# tri par catégorie, on a un data frame pour une catégorie\n",
    "df = meta_df_clean['Question'][data_train_clean['Intent'] == '#6-90_TRTEINS_Mauvais_Gout']\n",
    "description2 = df\n",
    "description2.to_csv('Intent.csv', sep = ';')"
   ]
  },
  {
   "cell_type": "code",
   "execution_count": null,
   "metadata": {
    "collapsed": true
   },
   "outputs": [],
   "source": [
    "from os import path\n",
    "from wordcloud import WordCloud\n",
    "\n",
    "#d = path.dirname()\n",
    "\n",
    "# Read the whole text.\n",
    "#text = open(path.join(d, 'constitution.txt')).read()\n",
    "text = open(\"/home/bouchero/Documents/projet/Intent.csv\").read()  \n",
    "# Generate a word cloud image\n",
    "wordcloud = WordCloud().generate(text)\n",
    "\n",
    "# Display the generated image:\n",
    "# the matplotlib way:\n",
    "#import matplotlib.pyplot as plt\n",
    "#plt.imshow(wordcloud, interpolation='bilinear')\n",
    "#plt.axis(\"off\")\n",
    "\n",
    "# lower max_font_size\n",
    "wordcloud = WordCloud(max_font_size=60).generate(text)\n",
    "plt.figure(figsize=(10,10))\n",
    "plt.imshow(wordcloud, interpolation=\"bilinear\")\n",
    "plt.axis(\"off\")\n",
    "plt.show()\n",
    "\n",
    "# The pil way (if you don't have matplotlib)\n",
    "# image = wordcloud.to_image()\n",
    "# image.show()"
   ]
  },
  {
   "cell_type": "code",
   "execution_count": null,
   "metadata": {
    "collapsed": true
   },
   "outputs": [],
   "source": []
  }
 ],
 "metadata": {
  "anaconda-cloud": {},
  "hide_input": false,
  "kernelspec": {
   "display_name": "Python [conda env:py27]",
   "language": "python",
   "name": "conda-env-py27-py"
  },
  "language_info": {
   "codemirror_mode": {
    "name": "ipython",
    "version": 2
   },
   "file_extension": ".py",
   "mimetype": "text/x-python",
   "name": "python",
   "nbconvert_exporter": "python",
   "pygments_lexer": "ipython2",
   "version": "2.7.13"
  },
  "toc": {
   "nav_menu": {
    "height": "279px",
    "width": "252px"
   },
   "number_sections": true,
   "sideBar": true,
   "skip_h1_title": false,
   "toc_cell": false,
   "toc_position": {},
   "toc_section_display": "block",
   "toc_window_display": false
  }
 },
 "nbformat": 4,
 "nbformat_minor": 1
}
