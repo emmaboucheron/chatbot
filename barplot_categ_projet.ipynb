{
 "cells": [
  {
   "cell_type": "code",
   "execution_count": 1,
   "metadata": {},
   "outputs": [
    {
     "name": "stderr",
     "output_type": "stream",
     "text": [
      "C:\\Users\\PC de Laure\\Anaconda2\\lib\\site-packages\\sklearn\\cross_validation.py:41: DeprecationWarning: This module was deprecated in version 0.18 in favor of the model_selection module into which all the refactored classes and functions are moved. Also note that the interface of the new CV iterators are different from that of this module. This module will be removed in 0.20.\n",
      "  \"This module will be removed in 0.20.\", DeprecationWarning)\n"
     ]
    }
   ],
   "source": [
    "import unicodedata \n",
    "import time\n",
    "import pandas as pd\n",
    "import numpy as np\n",
    "import random\n",
    "import nltk\n",
    "import collections\n",
    "import itertools\n",
    "import csv\n",
    "import warnings\n",
    "import matplotlib.pyplot as plt\n",
    "from matplotlib.pyplot import *\n",
    "\n",
    "from sklearn.cross_validation import train_test_split\n",
    "import sys \n"
   ]
  },
  {
   "cell_type": "code",
   "execution_count": 2,
   "metadata": {},
   "outputs": [
    {
     "name": "stdout",
     "output_type": "stream",
     "text": [
      "<class 'pandas.core.frame.DataFrame'>\n",
      "RangeIndex: 5013 entries, 0 to 5012\n",
      "Data columns (total 4 columns):\n",
      "Question    5013 non-null object\n",
      "Intent      5013 non-null object\n",
      "BlockId     5013 non-null object\n",
      "Action      4919 non-null object\n",
      "dtypes: object(4)\n",
      "memory usage: 78.4+ KB\n"
     ]
    }
   ],
   "source": [
    "# Variable Globale\n",
    "HEADER_TEST = ['Question','Intent','BlockId', 'Action']\n",
    "HEADER_TRAIN =['Question','Intent','BlockId', 'Action']\n",
    "data_all = pd.read_csv(\"C:\\Users\\PC de Laure\\Desktop\\chatbot-master\\chatbot-master\\INSA_wefight_data_clean.csv\",sep=\";\",names=HEADER_TRAIN,nrows=5014)\n",
    "\n",
    "data_all.info()"
   ]
  },
  {
   "cell_type": "code",
   "execution_count": 42,
   "metadata": {},
   "outputs": [
    {
     "data": {
      "text/plain": [
       "pandas.core.frame.DataFrame"
      ]
     },
     "execution_count": 42,
     "metadata": {},
     "output_type": "execute_result"
    }
   ],
   "source": [
    "type(data_all)"
   ]
  },
  {
   "cell_type": "code",
   "execution_count": 3,
   "metadata": {},
   "outputs": [
    {
     "name": "stdout",
     "output_type": "stream",
     "text": [
      "nombre de catégories\n",
      "146\n",
      "noms des categ et nb d'occurrence\n"
     ]
    },
    {
     "data": {
      "text/plain": [
       "#6-49_TRTEINS_Peau                             215\n",
       "#6-97_TRTEINS_Nausees_Vomissements             141\n",
       "#6-92_TRTEINS_Diarrhee                         139\n",
       "#2-130_QVDP_Alimentation                       132\n",
       "#6-53_TRTEINS_Aphtes                           125\n",
       "#6-90_TRTEINS_Mauvais_Gout                     119\n",
       "#6-98_TRTEINS_EI_Frequents                     113\n",
       "#2-36_QVDP_Alopecie_Pourquoi                   112\n",
       "#6-60_TRTEINS_PAC                              106\n",
       "#9-2_Informations_cancer                       105\n",
       "#6-18_TRTEINS_Radiotherapie                     93\n",
       "#2-64-0_QVDP_Fatigue                            92\n",
       "#6-57_TRTEINS_Yeux_Secs                         91\n",
       "#2-55_QVDP_Douleur                              88\n",
       "conversation_rappel_rendezvous                  86\n",
       "#6-96_TRTEINS_Perte_Poids                       83\n",
       "#2-45_QVDP_Alopecie_Perruque                    83\n",
       "#6-1_TRTEINS_Chimiotherapie                     81\n",
       "#2-96_QVDP_Social_Priseencharge                 78\n",
       "#6-58_TRTEINS_Bouche_Seche                      73\n",
       "#6-24_TRTEINS_hormonotherapie                   73\n",
       "#2-120_QVDP_Sexualite                           66\n",
       "#2-107_QVDP_Grossesse                           65\n",
       "#6-34_TRTEINS_Lymphoedeme                       62\n",
       "#2-41_QVDP_Alopecie_Diminuer                    59\n",
       "#6-73_TRTEINS_Chirurgie_Mastectomie             57\n",
       "#6-93_TRTEINS_Mauvaise_Haleine                  57\n",
       "#2-128_QVDP_Sexualite_Couple                    57\n",
       "#2-125_QVDP_Sexualite_Reconstruction            57\n",
       "#5-37_Soutien_Psychologique                     56\n",
       "                                              ... \n",
       "#6-44_TRTEINS_AllergieManchon                    9\n",
       "#9-53_Depistage_cancer_sein                      9\n",
       "#6-35_TRTEINS_PrevenirLymphoedeme                9\n",
       "#1-4_Menu_Patient_Recent                         9\n",
       "#8-8_DDP_Fin_de_vie                              8\n",
       "#8-9_DDP_Charte_patient                          7\n",
       "Profile_update                                   7\n",
       "#2-88_Reprise_Cycle                              7\n",
       "#6-81_TRTEINS_Chirurgie_Mastectomie_risques      7\n",
       "Conversation_Historique                          6\n",
       "#8-13_DDP_Secret_medical                         6\n",
       "#2-88_QVDP_Fertilite_Cycles                      6\n",
       "#8-11_DDP_Dossier_medical                        5\n",
       "#7-60_QVDA_Soins_Palliatifs                      5\n",
       "Profile_write_age                                4\n",
       "#6-5_TRTEINS_ChimioInjectable                    4\n",
       "#6-68_TRTEINS_Chirurgie_Anesthesie               4\n",
       "Profile_write_doseTraitement                     4\n",
       "#6-47_TRTEINS_InfectionManchon                   3\n",
       "Conversation_rappel_update                       3\n",
       "Profile_write_typeTraitement                     2\n",
       "Profile_write_newsletter                         2\n",
       "Profile_write_rappels                            2\n",
       "Profile_write_nomTraitement                      1\n",
       "#001_Abonnement                                  1\n",
       "Profile_write_recevoirTemoignage                 1\n",
       "Profile_write_partagerTemoignage                 1\n",
       "Profile_write_typeCancer                         1\n",
       "Profile_write_role                               1\n",
       "intent                                           1\n",
       "Name: Intent, Length: 146, dtype: int64"
      ]
     },
     "execution_count": 3,
     "metadata": {},
     "output_type": "execute_result"
    }
   ],
   "source": [
    "intents = pd.Series(data_all['Intent'])\n",
    "A=intents.value_counts(sort=True)\n",
    "print \"nombre de catégories\"\n",
    "print len(A) #nb de categories\n",
    "print \"noms des categ et nb d'occurrence\"\n",
    "A #categ et leurs nb d'occurrences"
   ]
  },
  {
   "cell_type": "code",
   "execution_count": 30,
   "metadata": {},
   "outputs": [
    {
     "name": "stdout",
     "output_type": "stream",
     "text": [
      "Liste des noms des intents :\n"
     ]
    },
    {
     "data": {
      "text/plain": [
       "list"
      ]
     },
     "execution_count": 30,
     "metadata": {},
     "output_type": "execute_result"
    }
   ],
   "source": [
    "list=[]\n",
    "for i in range(5013):\n",
    "    if not(intents[i] in list):\n",
    "        list.append(intents[i])\n",
    "\n",
    "list.remove('intent')\n",
    "print \"Liste des noms des intents :\"\n",
    "type(list)\n"
   ]
  },
  {
   "cell_type": "code",
   "execution_count": 5,
   "metadata": {},
   "outputs": [
    {
     "data": {
      "text/plain": [
       "Intent\n",
       "#000_Menu_General                         10\n",
       "#001_Abonnement                            1\n",
       "#001_Gestion_Abonnement                   40\n",
       "#1-4_Menu_Patient_Recent                   9\n",
       "#1-5_Menu_Aidant                          44\n",
       "#1-8_Menu_Traitement                      18\n",
       "#2-100_QVDP_Social_Transports             13\n",
       "#2-101_QVDP_Social_RbProthese             18\n",
       "#2-102_QVDP_Social_RbPerruque             18\n",
       "#2-103_QVDP_Social_Banque                 39\n",
       "#2-106_QVDP_Social_HAD                    28\n",
       "#2-107_QVDP_Grossesse                     65\n",
       "#2-109_QVDP_Grossesse_Chimiotherapie      31\n",
       "#2-110_QVDP_Grossesse_Radiotherapie       21\n",
       "#2-111_QVDP_Grossesse_Chirurgie           20\n",
       "#2-112_QVDP_Grossesse_Hormonotherapie     14\n",
       "#2-115_QVDP_Grossesse_Allaitement         44\n",
       "#2-118_QVDP_Grossesse_Malformations       16\n",
       "#2-120_QVDP_Sexualite                     66\n",
       "#2-121_QVDP_Sexualite_Cicatrice           18\n",
       "#2-122_QVDP_Sexualite_Alopecie            15\n",
       "#2-123_QVDP_Sexualite_Prothese            16\n",
       "#2-124_QVDP_Sexualite_PerteConfiance      12\n",
       "#2-125_QVDP_Sexualite_Reconstruction      57\n",
       "#2-126_QVDP_Sexualite_BaisseLibido        30\n",
       "#2-128_QVDP_Sexualite_Couple              57\n",
       "#2-130_QVDP_Alimentation                 132\n",
       "#2-133_QVDP_RegimeAnticancer              27\n",
       "#2-134_QVDP_Alimentation_Citron           22\n",
       "#2-135_QVDP_Alimentation_Alcool           26\n",
       "                                        ... \n",
       "#7-58_Recidive                            15\n",
       "#7-60_QVDA_Soins_Palliatifs                5\n",
       "#8-11_DDP_Dossier_medical                  5\n",
       "#8-13_DDP_Secret_medical                   6\n",
       "#8-6_DDP_Consentement_eclaire             10\n",
       "#8-8_DDP_Fin_de_vie                        8\n",
       "#8-9_DDP_Charte_patient                    7\n",
       "#9-13_Informations_metastase              30\n",
       "#9-20_Informations_Stades                 22\n",
       "#9-2_Informations_cancer                 105\n",
       "#9-53_Depistage_cancer_sein                9\n",
       "#9-53_Informations_depistagesein          53\n",
       "Conversation_Historique                    6\n",
       "Conversation_rappel_read                  35\n",
       "Conversation_rappel_update                 3\n",
       "Conversation_rappel_update2               20\n",
       "Profile_read                              11\n",
       "Profile_update                             7\n",
       "Profile_write_age                          4\n",
       "Profile_write_doseTraitement               4\n",
       "Profile_write_newsletter                   2\n",
       "Profile_write_nomTraitement                1\n",
       "Profile_write_partagerTemoignage           1\n",
       "Profile_write_rappels                      2\n",
       "Profile_write_recevoirTemoignage           1\n",
       "Profile_write_role                         1\n",
       "Profile_write_typeCancer                   1\n",
       "Profile_write_typeTraitement               2\n",
       "conversation_rappel_rendezvous            86\n",
       "intent                                     1\n",
       "Length: 146, dtype: int64"
      ]
     },
     "execution_count": 5,
     "metadata": {},
     "output_type": "execute_result"
    }
   ],
   "source": [
    "intents2=data_all.groupby('Intent')\n",
    "intents2.size()"
   ]
  },
  {
   "cell_type": "code",
   "execution_count": 6,
   "metadata": {},
   "outputs": [
    {
     "data": {
      "text/plain": [
       "[10,\n",
       " 1,\n",
       " 40,\n",
       " 9,\n",
       " 44,\n",
       " 18,\n",
       " 13,\n",
       " 18,\n",
       " 18,\n",
       " 39,\n",
       " 28,\n",
       " 65,\n",
       " 31,\n",
       " 21,\n",
       " 20,\n",
       " 14,\n",
       " 44,\n",
       " 16,\n",
       " 66,\n",
       " 18,\n",
       " 15,\n",
       " 16,\n",
       " 12,\n",
       " 57,\n",
       " 30,\n",
       " 57,\n",
       " 132,\n",
       " 27,\n",
       " 22,\n",
       " 26,\n",
       " 20,\n",
       " 112,\n",
       " 38,\n",
       " 42,\n",
       " 59,\n",
       " 28,\n",
       " 83,\n",
       " 23,\n",
       " 37,\n",
       " 39,\n",
       " 28,\n",
       " 31,\n",
       " 88,\n",
       " 18,\n",
       " 28,\n",
       " 22,\n",
       " 22,\n",
       " 39,\n",
       " 92,\n",
       " 19,\n",
       " 17,\n",
       " 33,\n",
       " 24,\n",
       " 54,\n",
       " 18,\n",
       " 32,\n",
       " 35,\n",
       " 13,\n",
       " 35,\n",
       " 6,\n",
       " 7,\n",
       " 32,\n",
       " 19,\n",
       " 78,\n",
       " 24,\n",
       " 56,\n",
       " 19,\n",
       " 18,\n",
       " 93,\n",
       " 81,\n",
       " 17,\n",
       " 16,\n",
       " 73,\n",
       " 15,\n",
       " 52,\n",
       " 16,\n",
       " 62,\n",
       " 9,\n",
       " 15,\n",
       " 19,\n",
       " 24,\n",
       " 42,\n",
       " 13,\n",
       " 9,\n",
       " 3,\n",
       " 215,\n",
       " 125,\n",
       " 91,\n",
       " 73,\n",
       " 4,\n",
       " 106,\n",
       " 16,\n",
       " 25,\n",
       " 41,\n",
       " 12,\n",
       " 4,\n",
       " 19,\n",
       " 19,\n",
       " 30,\n",
       " 57,\n",
       " 7,\n",
       " 25,\n",
       " 9,\n",
       " 13,\n",
       " 119,\n",
       " 10,\n",
       " 139,\n",
       " 57,\n",
       " 16,\n",
       " 50,\n",
       " 83,\n",
       " 141,\n",
       " 113,\n",
       " 15,\n",
       " 10,\n",
       " 32,\n",
       " 15,\n",
       " 5,\n",
       " 5,\n",
       " 6,\n",
       " 10,\n",
       " 8,\n",
       " 7,\n",
       " 30,\n",
       " 22,\n",
       " 105,\n",
       " 9,\n",
       " 53,\n",
       " 6,\n",
       " 35,\n",
       " 86,\n",
       " 3,\n",
       " 20,\n",
       " 11,\n",
       " 7,\n",
       " 4,\n",
       " 4,\n",
       " 2,\n",
       " 1,\n",
       " 1,\n",
       " 2,\n",
       " 1,\n",
       " 1,\n",
       " 1,\n",
       " 2]"
      ]
     },
     "execution_count": 6,
     "metadata": {},
     "output_type": "execute_result"
    }
   ],
   "source": [
    "j=0\n",
    "val=[]\n",
    "for i in (list):\n",
    "    val.append(A[i])\n",
    "    j=j+1\n",
    "\n",
    "val"
   ]
  },
  {
   "cell_type": "code",
   "execution_count": 7,
   "metadata": {},
   "outputs": [
    {
     "data": {
      "image/png": "[encoded data removed]",
      "text/plain": [
       "<matplotlib.figure.Figure at 0xd52e270>"
      ]
     },
     "metadata": {},
     "output_type": "display_data"
    }
   ],
   "source": [
    "plt.figure(figsize=(15,7),dpi=100)\n",
    "plt.title(\"Effectifs de chaque intent\",fontsize=18)\n",
    "x = range(145)\n",
    "y = val\n",
    "plt.bar(x, y, width=1, alpha=0.5, color=\"green\", edgecolor=\"black\")\n",
    "plt.gca().xaxis.set_ticklabels(list, rotation = 70, color = 'black', fontsize = 8, style = 'italic')\n",
    "xlabel(\"intents\")\n",
    "ylabel(\"nombre d'occurence\")\n",
    "plt.show()"
   ]
  },
  {
   "cell_type": "code",
   "execution_count": 8,
   "metadata": {},
   "outputs": [
    {
     "data": {
      "image/png": "[encoded data removed]",
      "text/plain": [
       "<matplotlib.figure.Figure at 0xd52e3d0>"
      ]
     },
     "metadata": {},
     "output_type": "display_data"
    }
   ],
   "source": [
    "val.sort()\n",
    "plt.figure(figsize=(10,7),dpi=100)\n",
    "plt.title(\"Effectifs de chaque intent\",fontsize=18)\n",
    "x = range(145)\n",
    "y = val\n",
    "plt.bar(x, y, width=1, alpha=0.5, color=\"green\", edgecolor=\"black\")\n",
    "xlabel(\"intents\")\n",
    "ylabel(\"nombre d'occurence\")\n",
    "plt.show()"
   ]
  },
  {
   "cell_type": "markdown",
   "metadata": {},
   "source": [
    "On voit que l'intent 145 apparait beaucoup plus que les autres, c'est la catégorie :#6-49_TRTEINS_Peau avec 215 occurence sur 5015"
   ]
  },
  {
   "cell_type": "code",
   "execution_count": 21,
   "metadata": {},
   "outputs": [
    {
     "name": "stdout",
     "output_type": "stream",
     "text": [
      "{'profile': 36, 'conversation': 150, 'qvdp': 2100, 'gestion': 51, 'traitement': 2230, 'soutien': 56, 'menu': 71, 'information': 219, 'ddp': 36, 'qvda remission recidive': 62}\n"
     ]
    }
   ],
   "source": [
    "meta_categ={\"profile\":0, \"conversation\":0, \"gestion\":0,\"menu\":0,\"qvdp\":0,\"soutien\":0,\n",
    "            \"traitement\":0,\"qvda remission recidive\":0,\"ddp\":0,\"information\":0}\n",
    "\n",
    "for i in range(5012):\n",
    "    if intents[i][0]=='P':#profile\n",
    "        meta_categ[\"profile\"] += 1\n",
    "    if (intents[i][0]=='C' or intents[i][0]=='c') :#conversation\n",
    "        meta_categ[\"conversation\"] += 1\n",
    "    if intents[i][1]=='0':#gestion\n",
    "        meta_categ[\"gestion\"] += 1\n",
    "    if intents[i][1]=='1':#menu\n",
    "        meta_categ[\"menu\"] += 1\n",
    "    if intents[i][1]=='2': #qvdp\n",
    "        meta_categ[\"qvdp\"] += 1\n",
    "    if intents[i][1]=='5':#soutien\n",
    "        meta_categ[\"soutien\"] += 1\n",
    "    if intents[i][1]=='6':#traitement\n",
    "        meta_categ[\"traitement\"] += 1\n",
    "    if intents[i][1]=='7': #qvda remission recidive\n",
    "        meta_categ[\"qvda remission recidive\"] += 1\n",
    "    if intents[i][1]=='8': #ddp\n",
    "        meta_categ[\"ddp\"] += 1\n",
    "    if intents[i][1]=='9':#information\n",
    "        meta_categ[\"information\"] += 1\n",
    "        \n",
    "print meta_categ"
   ]
  },
  {
   "cell_type": "code",
   "execution_count": 35,
   "metadata": {},
   "outputs": [
    {
     "name": "stdout",
     "output_type": "stream",
     "text": [
      "[36, 150, 2100, 51, 2230, 56, 71, 219, 36, 62]\n"
     ]
    }
   ],
   "source": [
    "vect =[]\n",
    "for valeur in meta_categ.values():\n",
    "    vect.append(valeur)\n",
    "print vect    "
   ]
  },
  {
   "cell_type": "code",
   "execution_count": 36,
   "metadata": {},
   "outputs": [
    {
     "name": "stdout",
     "output_type": "stream",
     "text": [
      "['profile', 'conversation', 'qvdp', 'gestion', 'traitement', 'soutien', 'menu', 'information', 'ddp', 'qvda remission recidive']\n"
     ]
    },
    {
     "data": {
      "text/plain": [
       "list"
      ]
     },
     "execution_count": 36,
     "metadata": {},
     "output_type": "execute_result"
    }
   ],
   "source": [
    "list =[]\n",
    "for cle in meta_categ.keys():\n",
    "    list.append(cle)\n",
    "print list\n",
    "\n",
    "type(list)"
   ]
  },
  {
   "cell_type": "code",
   "execution_count": 41,
   "metadata": {},
   "outputs": [
    {
     "data": {
      "image/png": "[encoded data removed]",
      "text/plain": [
       "<matplotlib.figure.Figure at 0xd918170>"
      ]
     },
     "metadata": {},
     "output_type": "display_data"
    }
   ],
   "source": [
    "plt.figure(figsize=(10,7),dpi=100)\n",
    "plt.title(\"Effectifs des meta categ\",fontsize=18)\n",
    "x = list\n",
    "y = vect\n",
    "plt.bar(x, y, width=1, alpha=0.5, color=\"green\", edgecolor=\"black\")\n",
    "plt.gca().xaxis.set_ticklabels(list, rotation = 70, color = 'black', fontsize = 8, style = 'italic')\n",
    "xlabel(\"intents\")\n",
    "ylabel(\"nombre d'occurence\")\n",
    "plt.show()"
   ]
  },
  {
   "cell_type": "code",
   "execution_count": null,
   "metadata": {},
   "outputs": [],
   "source": []
  },
  {
   "cell_type": "code",
   "execution_count": null,
   "metadata": {},
   "outputs": [],
   "source": []
  }
 ],
 "metadata": {
  "kernelspec": {
   "display_name": "Python 2",
   "language": "python",
   "name": "python2"
  },
  "language_info": {
   "codemirror_mode": {
    "name": "ipython",
    "version": 2
   },
   "file_extension": ".py",
   "mimetype": "text/x-python",
   "name": "python",
   "nbconvert_exporter": "python",
   "pygments_lexer": "ipython2",
   "version": "2.7.14"
  }
 },
 "nbformat": 4,
 "nbformat_minor": 2
}
