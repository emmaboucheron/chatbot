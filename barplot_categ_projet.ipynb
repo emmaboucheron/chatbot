{
 "cells": [
  {
   "cell_type": "code",
   "execution_count": null,
   "metadata": {},
   "outputs": [],
   "source": [
    "import unicodedata \n",
    "import time\n",
    "import pandas as pd\n",
    "import numpy as np\n",
    "import random\n",
    "import nltk\n",
    "import collections\n",
    "import itertools\n",
    "import csv\n",
    "import warnings\n",
    "import matplotlib.pyplot as plt\n",
    "\n",
    "from sklearn.cross_validation import train_test_split\n",
    "import sys \n",
    "reload(sys)\n",
    "sys.setdefaultencoding('utf8')"
   ]
  },
  {
   "cell_type": "code",
   "execution_count": null,
   "metadata": {},
   "outputs": [],
   "source": [
    "# Variable Globale\n",
    "HEADER_TEST = ['Question','Intent','BlockId', 'Action']\n",
    "HEADER_TRAIN =['Question','Intent','BlockId', 'Action']\n",
    "data_all = pd.read_csv(\"C:\\Users\\PC de Laure\\Desktop\\INSA_wefight_data_clean.csv\",sep=\",\",names=HEADER_TRAIN,nrows=5014)\n",
    "\n",
    "data_all.info()"
   ]
  },
  {
   "cell_type": "code",
   "execution_count": null,
   "metadata": {},
   "outputs": [],
   "source": [
    "intents = pd.Series(data_all['Intent'])\n",
    "A=intents.value_counts(sort=True)\n",
    "print \"nombre de catégories\"\n",
    "len(A) #nb de categories\n",
    "print \"noms des categ et nb d'occurrence\"\n",
    "A #categ et leurs nb d'occurrences"
   ]
  },
  {
   "cell_type": "code",
   "execution_count": null,
   "metadata": {},
   "outputs": [],
   "source": [
    "list=[]\n",
    "for i in range(5013):\n",
    "    if not(intents[i] in list):\n",
    "        list.append(intents[i])\n",
    "\n",
    "list.remove('intent')\n",
    "print \"Liste des noms des intents :\"\n",
    "list\n"
   ]
  },
  {
   "cell_type": "code",
   "execution_count": null,
   "metadata": {},
   "outputs": [],
   "source": [
    "intents2=data_all.groupby('Intent')\n",
    "intents2.size()"
   ]
  },
  {
   "cell_type": "code",
   "execution_count": null,
   "metadata": {},
   "outputs": [],
   "source": [
    "j=0\n",
    "val=[]\n",
    "for i in (list):\n",
    "    val.append(A[i])\n",
    "    j=j+1\n",
    "\n",
    "val"
   ]
  },
  {
   "cell_type": "code",
   "execution_count": null,
   "metadata": {},
   "outputs": [],
   "source": [
    "plt.figure(figsize=(15,7),dpi=100)\n",
    "plt.title(\"Effectifs de chaque intent\",fontsize=18)\n",
    "x = range(145)\n",
    "y = val\n",
    "plt.bar(x, y, width=1, alpha=0.5, color=\"green\", edgecolor=\"black\")\n",
    "plt.gca().xaxis.set_ticklabels(list, rotation = 70, color = 'black', fontsize = 8, style = 'italic')\n",
    "xlabel(\"intents\")\n",
    "ylabel(\"nombre d'occurence\")\n",
    "plt.show()"
   ]
  },
  {
   "cell_type": "code",
   "execution_count": null,
   "metadata": {},
   "outputs": [],
   "source": [
    "val.sort()\n",
    "plt.figure(figsize=(10,7),dpi=100)\n",
    "plt.title(\"Effectifs de chaque intent\",fontsize=18)\n",
    "x = range(145)\n",
    "y = val\n",
    "plt.bar(x, y, width=1, alpha=0.5, color=\"green\", edgecolor=\"black\")\n",
    "xlabel(\"intents\")\n",
    "ylabel(\"nombre d'occurence\")\n",
    "plt.show()"
   ]
  },
  {
   "cell_type": "markdown",
   "metadata": {},
   "source": [
    "On voit que l'intent 145 apparait beaucoup plus que les autres, c'est la catégorie :#6-49_TRTEINS_Peau avec 215 occurence sur 5015"
   ]
  },
  {
   "cell_type": "code",
   "execution_count": null,
   "metadata": {},
   "outputs": [],
   "source": [
    "A"
   ]
  },
  {
   "cell_type": "code",
   "execution_count": null,
   "metadata": {
    "collapsed": true
   },
   "outputs": [],
   "source": []
  }
 ],
 "metadata": {
  "kernelspec": {
   "display_name": "Python 2",
   "language": "python",
   "name": "python2"
  },
  "language_info": {
   "codemirror_mode": {
    "name": "ipython",
    "version": 2
   },
   "file_extension": ".py",
   "mimetype": "text/x-python",
   "name": "python",
   "nbconvert_exporter": "python",
   "pygments_lexer": "ipython2",
   "version": "2.7.14"
  }
 },
 "nbformat": 4,
 "nbformat_minor": 2
}
